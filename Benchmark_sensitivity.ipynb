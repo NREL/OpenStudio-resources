{
 "cells": [
  {
   "cell_type": "code",
   "execution_count": 1,
   "id": "registered-portfolio",
   "metadata": {},
   "outputs": [],
   "source": [
    "# Python 2.x / 3.x compatibility\n",
    "from __future__ import division, print_function\n",
    "\n",
    "%matplotlib inline\n",
    "\n",
    "#Import modules\n",
    "import pandas as pd\n",
    "import numpy as np\n",
    "import os\n",
    "import json\n",
    "import matplotlib as mpl\n",
    "import matplotlib.pyplot as plt\n",
    "import seaborn as sns\n",
    "import re\n",
    "\n",
    "#import csv\n",
    "import glob as gb\n",
    "\n",
    "#import pathlib\n",
    "\n",
    "import datetime\n",
    "import sqlite3\n",
    "\n",
    "import shutil\n",
    "import multiprocessing\n",
    "import subprocess\n",
    "\n",
    "#import tqdm\n",
    "from tqdm.notebook import trange, tqdm\n",
    "import pathlib\n",
    "\n",
    "from ipywidgets import HTML\n",
    "from IPython.display import display\n",
    "\n",
    "import shlex\n",
    "\n",
    "# from df2gspread import df2gspread as d2g\n",
    "\n",
    "mpl.rcParams['figure.figsize'] = (16, 9)\n",
    "pd.options.display.max_rows = 200"
   ]
  },
  {
   "cell_type": "code",
   "execution_count": 5,
   "id": "academic-spider",
   "metadata": {},
   "outputs": [
    {
     "name": "stdout",
     "output_type": "stream",
     "text": [
      "[openstudio.WorkflowJSON] <2> Path 'in.osw' is not a WorkflowJSON file\n",
      " couldn't be found\n",
      "model_Articulation: 2.037830925 seconds\n",
      "Model Save: 0.020300128 seconds\n",
      "ForwardTranslator: 0.052845969 seconds\n"
     ]
    }
   ],
   "source": [
    "!openstudio model/simulationtests/baseline_sys01.rb"
   ]
  },
  {
   "cell_type": "code",
   "execution_count": 51,
   "id": "egyptian-lounge",
   "metadata": {},
   "outputs": [],
   "source": [
    "RE_TIME = re.compile(r'(\\w+): ([\\d\\.]+) seconds')\n",
    "\n",
    "def run_ruby_file(args):\n",
    "    \"\"\"\n",
    "    Runs the simulation with NEW_EPLUS_EXE and calls parse_sql\n",
    "    \"\"\"\n",
    "    i, ruby_file = args\n",
    "    p = os.path.abspath(os.path.join('model', 'simulationtests', ruby_file))\n",
    "    process = subprocess.Popen(['openstudio', p],\n",
    "                               stdout=subprocess.PIPE,\n",
    "                               stderr=subprocess.PIPE,\n",
    "                               universal_newlines=True, \n",
    "                               shell=False)\n",
    "    \n",
    "    # wait for the process to terminate\n",
    "    out, err = process.communicate()\n",
    "    errcode = process.returncode\n",
    "    if errcode == 0:\n",
    "        timings = {'file': ruby_file, 'i': i}\n",
    "        for line in out.splitlines():\n",
    "            if (m := re_time.match(line)):\n",
    "                timing, val = m.groups()\n",
    "                timings[timing] = float(val)\n",
    "        return timings"
   ]
  },
  {
   "cell_type": "code",
   "execution_count": 23,
   "id": "married-richmond",
   "metadata": {},
   "outputs": [],
   "source": [
    "from itertools import product"
   ]
  },
  {
   "cell_type": "markdown",
   "id": "electric-dispatch",
   "metadata": {},
   "source": [
    "# Run in a single thread"
   ]
  },
  {
   "cell_type": "code",
   "execution_count": null,
   "id": "wanted-charlotte",
   "metadata": {},
   "outputs": [],
   "source": [
    "all_results = []\n",
    "for i in range(0, 50):\n",
    "    print(i)\n",
    "    all_results.append(run_ruby_file([i, 'baseline_sys01.rb']))\n",
    "df_single = pd.DataFrame(all_results)\n",
    "df_single = df_single.set_index(['file', 'i']).sort_index()"
   ]
  },
  {
   "cell_type": "markdown",
   "id": "comparable-adobe",
   "metadata": {},
   "source": [
    "# Run in parallel using multiprocessing.pool"
   ]
  },
  {
   "cell_type": "code",
   "execution_count": 135,
   "id": "contrary-jimmy",
   "metadata": {},
   "outputs": [],
   "source": [
    "N = 6"
   ]
  },
  {
   "cell_type": "markdown",
   "id": "structured-search",
   "metadata": {},
   "source": [
    "## Only the baseline_sys01.rb"
   ]
  },
  {
   "cell_type": "code",
   "execution_count": 148,
   "id": "featured-stock",
   "metadata": {},
   "outputs": [
    {
     "data": {
      "application/vnd.jupyter.widget-view+json": {
       "model_id": "0356eaed961249e2802b17d05a5e9c21",
       "version_major": 2,
       "version_minor": 0
      },
      "text/plain": [
       "HTML(value='<h3>Running baseline_sys01.rb only (50 times)</h3>')"
      ]
     },
     "metadata": {},
     "output_type": "display_data"
    },
    {
     "data": {
      "application/vnd.jupyter.widget-view+json": {
       "model_id": "9a645d546cc4487686a22bb24be661e2",
       "version_major": 2,
       "version_minor": 0
      },
      "text/plain": [
       "  0%|          | 0/50 [00:00<?, ?it/s]"
      ]
     },
     "metadata": {},
     "output_type": "display_data"
    }
   ],
   "source": [
    "desc = f'<h3>Running baseline_sys01.rb only (50 times)</h3>'\n",
    "label = HTML(desc)\n",
    "display(label)\n",
    "all_results = []\n",
    "all_tests = [x for x in product(range(0, 50), \n",
    "                                [\n",
    "                                    'baseline_sys01.rb',\n",
    "                                    # 'zone_hvac.rb',  # Commenting that out in one of the two runs\n",
    "                                ])]\n",
    "with multiprocessing.Pool(processes=N) as pool:\n",
    "    for result in tqdm(pool.imap_unordered(run_ruby_file, all_tests), total=len(all_tests)):\n",
    "        all_results.append(result)\n",
    "        \n",
    "df = pd.DataFrame(all_results)\n",
    "df = df.set_index(['file', 'i']).sort_index()"
   ]
  },
  {
   "cell_type": "markdown",
   "id": "private-stationery",
   "metadata": {},
   "source": [
    "## Add another file (we don't care about) to increasing the total amount of runs"
   ]
  },
  {
   "cell_type": "code",
   "execution_count": 150,
   "id": "precious-supplier",
   "metadata": {},
   "outputs": [
    {
     "data": {
      "application/vnd.jupyter.widget-view+json": {
       "model_id": "19e495a6b8b7431890692ed4b639d603",
       "version_major": 2,
       "version_minor": 0
      },
      "text/plain": [
       "HTML(value='<h3>Running both files 100 times each</h3>')"
      ]
     },
     "metadata": {},
     "output_type": "display_data"
    },
    {
     "data": {
      "application/vnd.jupyter.widget-view+json": {
       "model_id": "e5c6823268214030873325dd230ae9cd",
       "version_major": 2,
       "version_minor": 0
      },
      "text/plain": [
       "  0%|          | 0/100 [00:00<?, ?it/s]"
      ]
     },
     "metadata": {},
     "output_type": "display_data"
    }
   ],
   "source": [
    "desc = f'<h3>Running both files 100 times each</h3>'\n",
    "label = HTML(desc)\n",
    "display(label)\n",
    "all_results = []\n",
    "all_tests = [x for x in product(range(0, 50), \n",
    "                                [\n",
    "                                    'baseline_sys01.rb',\n",
    "                                    'zone_hvac.rb',  # Commenting that out in one of the two runs\n",
    "                                ])]\n",
    "with multiprocessing.Pool(processes=N) as pool:\n",
    "    for result in tqdm(pool.imap_unordered(run_ruby_file, all_tests), total=len(all_tests)):\n",
    "        all_results.append(result)\n",
    "        \n",
    "df_both = pd.DataFrame(all_results)\n",
    "df_both = df_both.set_index(['file', 'i']).sort_index()"
   ]
  },
  {
   "cell_type": "markdown",
   "id": "coordinate-firmware",
   "metadata": {},
   "source": [
    "# Look at results"
   ]
  },
  {
   "cell_type": "raw",
   "id": "treated-danger",
   "metadata": {},
   "source": [
    "df_both.loc['baseline_sys01.rb', ['model_articulation', 'model_save', 'ForwardTranslator']].astype(float).plot()"
   ]
  },
  {
   "cell_type": "code",
   "execution_count": 152,
   "id": "incoming-aaron",
   "metadata": {},
   "outputs": [],
   "source": [
    "df_all = pd.concat([df_single.loc['baseline_sys01.rb'], df.loc['baseline_sys01.rb'], df_both.loc['baseline_sys01.rb']],\n",
    "                   keys=['Single Thread', 'Single file (N=6)', 'Both files (N=6)'], axis=1)"
   ]
  },
  {
   "cell_type": "code",
   "execution_count": 192,
   "id": "judicial-substitute",
   "metadata": {},
   "outputs": [
    {
     "data": {
      "image/png": "[encoded data removed]",
      "text/plain": [
       "<Figure size 1152x648 with 3 Axes>"
      ]
     },
     "metadata": {
      "needs_background": "light"
     },
     "output_type": "display_data"
    }
   ],
   "source": [
    "grouped = df_all.groupby(level=1, axis=1)\n",
    "\n",
    "ncols = 1\n",
    "nrows = int(np.ceil(grouped.ngroups/ncols))\n",
    "\n",
    "fig, axes = plt.subplots(nrows=nrows, ncols=ncols, figsize=(16,9), sharey=False)\n",
    "\n",
    "for (key, ax) in zip(grouped.groups.keys(), axes.flatten()):\n",
    "    grouped.get_group(key).boxplot(ax=ax)\n",
    "\n",
    "plt.show()"
   ]
  },
  {
   "cell_type": "markdown",
   "id": "owned-reward",
   "metadata": {},
   "source": [
    "# Run a second time and compare timings"
   ]
  },
  {
   "cell_type": "markdown",
   "id": "norwegian-framing",
   "metadata": {},
   "source": [
    "Save a copy of the previous df_all"
   ]
  },
  {
   "cell_type": "raw",
   "id": "latest-compression",
   "metadata": {},
   "source": [
    "df_all_back = df_all.copy()"
   ]
  },
  {
   "cell_type": "markdown",
   "id": "extensive-setting",
   "metadata": {},
   "source": [
    "Now go run the above a second time, but don't run the above cell"
   ]
  },
  {
   "cell_type": "code",
   "execution_count": 191,
   "id": "demonstrated-violence",
   "metadata": {},
   "outputs": [
    {
     "data": {
      "text/html": [
       "<style type=\"text/css\">\n",
       "</style>\n",
       "<table id=\"T_8c17f_\">\n",
       "  <thead>\n",
       "    <tr>\n",
       "      <th class=\"blank level0\" >&nbsp;</th>\n",
       "      <th class=\"col_heading level0 col0\" >model_articulation</th>\n",
       "      <th class=\"col_heading level0 col1\" >model_save</th>\n",
       "      <th class=\"col_heading level0 col2\" >ForwardTranslator</th>\n",
       "    </tr>\n",
       "  </thead>\n",
       "  <tbody>\n",
       "    <tr>\n",
       "      <th id=\"T_8c17f_level0_row0\" class=\"row_heading level0 row0\" >Single Thread</th>\n",
       "      <td id=\"T_8c17f_row0_col0\" class=\"data row0 col0\" >-2.64%</td>\n",
       "      <td id=\"T_8c17f_row0_col1\" class=\"data row0 col1\" >-1.93%</td>\n",
       "      <td id=\"T_8c17f_row0_col2\" class=\"data row0 col2\" >-2.28%</td>\n",
       "    </tr>\n",
       "    <tr>\n",
       "      <th id=\"T_8c17f_level0_row1\" class=\"row_heading level0 row1\" >Single file (N=6)</th>\n",
       "      <td id=\"T_8c17f_row1_col0\" class=\"data row1 col0\" >-9.61%</td>\n",
       "      <td id=\"T_8c17f_row1_col1\" class=\"data row1 col1\" >-13.13%</td>\n",
       "      <td id=\"T_8c17f_row1_col2\" class=\"data row1 col2\" >-17.48%</td>\n",
       "    </tr>\n",
       "    <tr>\n",
       "      <th id=\"T_8c17f_level0_row2\" class=\"row_heading level0 row2\" >Both files (N=6)</th>\n",
       "      <td id=\"T_8c17f_row2_col0\" class=\"data row2 col0\" >-7.90%</td>\n",
       "      <td id=\"T_8c17f_row2_col1\" class=\"data row2 col1\" >-16.19%</td>\n",
       "      <td id=\"T_8c17f_row2_col2\" class=\"data row2 col2\" >-12.35%</td>\n",
       "    </tr>\n",
       "  </tbody>\n",
       "</table>\n"
      ],
      "text/plain": [
       "<pandas.io.formats.style.Styler at 0x7f1bb9246880>"
      ]
     },
     "execution_count": 191,
     "metadata": {},
     "output_type": "execute_result"
    }
   ],
   "source": [
    "diff = pd.concat([df_all_back.mean(), df_all.mean()], axis=1)\n",
    "diff.pct_change(axis=1).loc[:, 1].unstack().style.format('{:.2%}')"
   ]
  },
  {
   "cell_type": "code",
   "execution_count": 188,
   "id": "alike-ranch",
   "metadata": {},
   "outputs": [
    {
     "data": {
      "text/html": [
       "<div>\n",
       "<style scoped>\n",
       "    .dataframe tbody tr th:only-of-type {\n",
       "        vertical-align: middle;\n",
       "    }\n",
       "\n",
       "    .dataframe tbody tr th {\n",
       "        vertical-align: top;\n",
       "    }\n",
       "\n",
       "    .dataframe thead th {\n",
       "        text-align: right;\n",
       "    }\n",
       "</style>\n",
       "<table border=\"1\" class=\"dataframe\">\n",
       "  <thead>\n",
       "    <tr style=\"text-align: right;\">\n",
       "      <th></th>\n",
       "      <th>Single Thread</th>\n",
       "      <th>Single file (N=6)</th>\n",
       "      <th>Both files (N=6)</th>\n",
       "    </tr>\n",
       "  </thead>\n",
       "  <tbody>\n",
       "    <tr>\n",
       "      <th>model_articulation</th>\n",
       "      <td>2.196145</td>\n",
       "      <td>2.710449</td>\n",
       "      <td>3.102774</td>\n",
       "    </tr>\n",
       "    <tr>\n",
       "      <th>model_save</th>\n",
       "      <td>0.023023</td>\n",
       "      <td>0.030001</td>\n",
       "      <td>0.032897</td>\n",
       "    </tr>\n",
       "    <tr>\n",
       "      <th>ForwardTranslator</th>\n",
       "      <td>0.054636</td>\n",
       "      <td>0.068536</td>\n",
       "      <td>0.078916</td>\n",
       "    </tr>\n",
       "  </tbody>\n",
       "</table>\n",
       "</div>"
      ],
      "text/plain": [
       "                    Single Thread  Single file (N=6)  Both files (N=6)\n",
       "model_articulation       2.196145           2.710449          3.102774\n",
       "model_save               0.023023           0.030001          0.032897\n",
       "ForwardTranslator        0.054636           0.068536          0.078916"
      ]
     },
     "execution_count": 188,
     "metadata": {},
     "output_type": "execute_result"
    }
   ],
   "source": [
    "means = df_all.mean().unstack(0)\n",
    "means"
   ]
  },
  {
   "cell_type": "code",
   "execution_count": 189,
   "id": "speaking-activation",
   "metadata": {},
   "outputs": [
    {
     "data": {
      "text/html": [
       "<div>\n",
       "<style scoped>\n",
       "    .dataframe tbody tr th:only-of-type {\n",
       "        vertical-align: middle;\n",
       "    }\n",
       "\n",
       "    .dataframe tbody tr th {\n",
       "        vertical-align: top;\n",
       "    }\n",
       "\n",
       "    .dataframe thead th {\n",
       "        text-align: right;\n",
       "    }\n",
       "</style>\n",
       "<table border=\"1\" class=\"dataframe\">\n",
       "  <thead>\n",
       "    <tr style=\"text-align: right;\">\n",
       "      <th></th>\n",
       "      <th>Single Thread</th>\n",
       "      <th>Single file (N=6)</th>\n",
       "      <th>Both files (N=6)</th>\n",
       "    </tr>\n",
       "  </thead>\n",
       "  <tbody>\n",
       "    <tr>\n",
       "      <th>model_articulation</th>\n",
       "      <td>1.0</td>\n",
       "      <td>1.234185</td>\n",
       "      <td>1.412827</td>\n",
       "    </tr>\n",
       "    <tr>\n",
       "      <th>model_save</th>\n",
       "      <td>1.0</td>\n",
       "      <td>1.303080</td>\n",
       "      <td>1.428879</td>\n",
       "    </tr>\n",
       "    <tr>\n",
       "      <th>ForwardTranslator</th>\n",
       "      <td>1.0</td>\n",
       "      <td>1.254420</td>\n",
       "      <td>1.444397</td>\n",
       "    </tr>\n",
       "  </tbody>\n",
       "</table>\n",
       "</div>"
      ],
      "text/plain": [
       "                    Single Thread  Single file (N=6)  Both files (N=6)\n",
       "model_articulation            1.0           1.234185          1.412827\n",
       "model_save                    1.0           1.303080          1.428879\n",
       "ForwardTranslator             1.0           1.254420          1.444397"
      ]
     },
     "execution_count": 189,
     "metadata": {},
     "output_type": "execute_result"
    }
   ],
   "source": [
    "means.divide(means.iloc[:, 0], axis=0)"
   ]
  }
 ],
 "metadata": {
  "kernelspec": {
   "display_name": "Python 3",
   "language": "python",
   "name": "python3"
  },
  "language_info": {
   "codemirror_mode": {
    "name": "ipython",
    "version": 3
   },
   "file_extension": ".py",
   "mimetype": "text/x-python",
   "name": "python",
   "nbconvert_exporter": "python",
   "pygments_lexer": "ipython3",
   "version": "3.9.2"
  },
  "toc": {
   "base_numbering": 1,
   "nav_menu": {},
   "number_sections": true,
   "sideBar": true,
   "skip_h1_title": false,
   "title_cell": "Table of Contents",
   "title_sidebar": "Contents",
   "toc_cell": false,
   "toc_position": {},
   "toc_section_display": true,
   "toc_window_display": false
  }
 },
 "nbformat": 4,
 "nbformat_minor": 5
}
