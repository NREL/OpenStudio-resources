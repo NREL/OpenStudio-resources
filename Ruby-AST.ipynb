{
 "cells": [
  {
   "cell_type": "code",
   "execution_count": null,
   "id": "e7a3c3f4",
   "metadata": {
    "tags": []
   },
   "outputs": [],
   "source": [
    "require 'parser/current'\n",
    "require 'rubocop-ast'\n",
    "require 'rubocop'\n",
    "# opt-in to most recent AST format:\n",
    "Parser::Builders::Default.emit_lambda              = true"
   ]
  },
  {
   "cell_type": "code",
   "execution_count": null,
   "id": "8fc885e1",
   "metadata": {
    "tags": []
   },
   "outputs": [],
   "source": [
    "RuboCop::Version::STRING"
   ]
  },
  {
   "cell_type": "markdown",
   "id": "8abba7c2",
   "metadata": {},
   "source": [
    "# My rules"
   ]
  },
  {
   "cell_type": "code",
   "execution_count": null,
   "id": "21ab9575",
   "metadata": {},
   "outputs": [],
   "source": [
    "NAMESPACE_REPLACEMENTS = {\n",
    "  :Airflow => \"airflow\",\n",
    "  :EnergyPlus => \"energyplus\",\n",
    "  :EPJSON => \"epjson\",\n",
    "  :GbXML => \"gbxml\",\n",
    "  :Gltf => \"gltf\",\n",
    "  :ISOModel => \"isomodel\",\n",
    "  :Measure => \"measure\",\n",
    "  :Model => \"model\",\n",
    "  :OSVersion => \"osversion\",\n",
    "  :Radiance => \"radiance\",\n",
    "  :SDD => \"sdd\",\n",
    "}"
   ]
  },
  {
   "cell_type": "code",
   "execution_count": null,
   "id": "82f24a6d",
   "metadata": {
    "tags": []
   },
   "outputs": [],
   "source": [
    "class Rule < Parser::AST::Processor\n",
    "  include RuboCop::AST::Traversal\n",
    "\n",
    "  def initialize(rewriter)\n",
    "    @rewriter = rewriter\n",
    "  end\n",
    "\n",
    "  def create_range(begin_pos, end_pos)\n",
    "    Parser::Source::Range.new(@rewriter.source_buffer, begin_pos, end_pos)\n",
    "  end\n",
    "end\n",
    "\n",
    "\n",
    "class ReplaceRequire < Rule\n",
    "  def on_send(node)\n",
    "    if node.method_name == :require\n",
    "      raise if node.child_nodes.size != 1\n",
    "      req = node.child_nodes[0]\n",
    "      raise if !req.str_type?\n",
    "      @rewriter.replace(node.loc.expression, \"import #{req.value}\")\n",
    "    elsif node.method_name == :require_relative\n",
    "      raise if node.child_nodes.size != 1\n",
    "      req = node.child_nodes[0]\n",
    "      raise if !req.str_type?\n",
    "      if req.value == \"lib/baseline_model\"\n",
    "        @rewriter.replace(node.loc.expression, \"from lib.baseline_model import BaselineModel\")\n",
    "      else\n",
    "        # raise if req.value != \"lib/baseline_model\"\n",
    "        puts \"Unknown #{req.value}\"\n",
    "      end\n",
    "    end\n",
    "  end\n",
    "end\n",
    "\n",
    "class ArrayFirst < Rule\n",
    "  def on_send(node)\n",
    "    return unless node.method_name == :first\n",
    "\n",
    "    range = create_range(node.loc.dot.begin_pos, node.loc.expression.end_pos)\n",
    "    @rewriter.replace(range, '[0]')\n",
    "  end\n",
    "end\n",
    "\n",
    "class AddParenthesesToMethods < Rule\n",
    "  def on_send(node)\n",
    "    if node.arguments.empty? && !(node.loc.expression.source_line.end_with?('()'))\n",
    "      range = create_range(node.loc.expression.end_pos, node.loc.expression.end_pos)\n",
    "      @rewriter.replace(range, '()')\n",
    "      # puts node.receiver\n",
    "    end\n",
    "  end\n",
    "end\n",
    "\n",
    "class ProcessHash < Rule\n",
    "  def on_hash(node)\n",
    "    # @rewriter.replace(node.loc.expression, node.loc.expression.source.gsub('=>',':'))\n",
    "    \n",
    "    args = []\n",
    "    node.child_nodes.each do |pair_node|\n",
    "      raise if !pair_node.pair_type?\n",
    "      raise if pair_node.child_nodes.size != 2\n",
    "      raise if !pair_node.child_nodes[0].str_type?\n",
    "      args << \"#{pair_node.child_nodes[0].value}=#{pair_node.child_nodes[1].loc.expression.source}\"\n",
    "    end\n",
    "    @rewriter.replace(node.loc.expression, args.join(', '))\n",
    "  end\n",
    "end\n",
    "\n",
    "class SyntaxBreakingReplacements < Rule\n",
    "  \n",
    "  def on_begin(node)\n",
    "    return\n",
    "  end\n",
    "  \n",
    "  def on_const(node)\n",
    "    replace_const_namespaces(node)\n",
    "  end\n",
    "  \n",
    "  def on_true(node)\n",
    "    @rewriter.replace(node.loc.expression, \"True\")\n",
    "  end\n",
    "  \n",
    "  def on_false(node)\n",
    "    @rewriter.replace(node.loc.expression, \"False\")\n",
    "  end\n",
    "  \n",
    "  def on_block(node)\n",
    "    replace_sort_bys(node)\n",
    "    replace_each(node)\n",
    "    replace_each_with_index(node)\n",
    "  end\n",
    "  \n",
    "  def on_if(node)\n",
    "    \n",
    "    # DISABLED, it breaks if you have more than two ifs\n",
    "    # return\n",
    "    \n",
    "    return if node.nil?\n",
    "    return if node.unless? || node.ternary? # || node.modifier_form?\n",
    "    \n",
    "    @rewriter.insert_after(node.condition.loc.expression, ':')\n",
    "    if node.loc.end\n",
    "      # Remove last end\n",
    "      @rewriter.replace(node.loc.end, '')\n",
    "    end\n",
    "    if node.else_branch && !node.else_branch.if_type? && node.else?\n",
    "      @rewriter.insert_after(node.else?, ':')\n",
    "    end\n",
    "    if node.keyword == 'elsif' \n",
    "      @rewriter.replace(node.loc.keyword, 'elif')\n",
    "    end\n",
    "  end\n",
    "  \n",
    "  def on_send(node)\n",
    "    replace_puts(node)\n",
    "    replace_new(node)\n",
    "    replace_append(node)\n",
    "    process_raise_if(node)\n",
    "    replace_select(node)\n",
    "    replace_each_block_pass(node)\n",
    "    replace_not_operator(node)\n",
    "  end\n",
    "  \n",
    "  def on_next(node)\n",
    "    if node.parent.modifier_form?\n",
    "      rewritten = \"#{node.parent.keyword} #{node.parent.condition.source}: continue\"\n",
    "      @rewriter.replace(node.parent.loc.expression, rewritten)\n",
    "    end\n",
    "  end\n",
    "  \n",
    "  def process_raise_if(node)\n",
    "    return unless node.send_type?\n",
    "    return unless node.method_name == :raise\n",
    "    return unless node.parent.modifier_form?\n",
    "    \n",
    "    args = node.arguments? ? \"(#{node.arguments.map(&:source).join(', ')})\" : ''\n",
    "  \n",
    "    rewritten = \"#{node.parent.keyword} #{node.parent.condition.source}: raise ValueError#{args}\"\n",
    "    @rewriter.replace(node.parent.loc.expression, rewritten)\n",
    "  end\n",
    "\n",
    "  def replace_sort_bys(node)      \n",
    "    # Definitely breaking the Ruby syntax\n",
    "    return unless node.method_name == :sort_by\n",
    "\n",
    "    receiver = node.receiver\n",
    "    body = node.body\n",
    "    \n",
    "    return unless receiver && body\n",
    "\n",
    "    body_str = node.body.source\n",
    "    args_str = node.arguments.child_nodes.map{|a| a.source}.join(', ')\n",
    "\n",
    "    # Build the corrected code\n",
    "    corrected_code =  \"sorted(#{receiver.source}, key=lambda #{args_str}: #{body_str})\"\n",
    "\n",
    "    # Replace the original code with the corrected one\n",
    "    range = create_range(node.loc.expression.begin_pos, node.loc.expression.end_pos)\n",
    "    @rewriter.replace(range, corrected_code)\n",
    "  end\n",
    "  \n",
    "  def replace_each_with_index(node)\n",
    "    return unless node.method_name == :each_with_index\n",
    "    corrected_code = \"for #{node.arguments.reverse.map(&:source).join(', ')} in enumerate(#{node.receiver.source}):\"\n",
    "    range = create_range(node.loc.expression.begin_pos, node.arguments.loc.expression.end_pos)\n",
    "    @rewriter.replace(range, corrected_code)\n",
    "    @rewriter.replace(node.loc.end, \"\") # Remove end\n",
    "  end\n",
    "  \n",
    "  def replace_each(node)\n",
    "    return unless node.method_name == :each\n",
    "    corrected_code = \"for #{node.arguments.map(&:source).join(', ')} in #{node.receiver.source}:\"\n",
    "    range = create_range(node.loc.expression.begin_pos, node.arguments.loc.expression.end_pos)\n",
    "    @rewriter.replace(range, corrected_code)\n",
    "    @rewriter.replace(node.loc.end, \"\") # Remove end\n",
    "  end\n",
    "\n",
    "  def replace_puts(node)\n",
    "    return unless node.method_name == :puts\n",
    "\n",
    "    print_content = node.arguments.map(&:source).join(', ')\n",
    "    f_string = print_content.include?('#{') ? \"f\" : ''\n",
    "    print_content.gsub!('#{', '{')\n",
    "\n",
    "    corrected_code = \"print(#{f_string}#{print_content})\"\n",
    "\n",
    "    @rewriter.replace(node.loc.expression, corrected_code)\n",
    "  end\n",
    "    \n",
    "  \n",
    "  def replace_new(node)\n",
    "    return unless node.method_name == :new\n",
    "    range = create_range(node.loc.dot.begin_pos, node.loc.selector.end_pos)\n",
    "    @rewriter.replace(range, '')\n",
    "  end\n",
    "  \n",
    "  def replace_append(node)\n",
    "    return unless node.method_name == :<< && node.receiver&.lvar_type?\n",
    "    corrected_code = \"#{node.receiver.source}.append(#{node.arguments.map(&:source).join(', ')})\"\n",
    "    @rewriter.replace(node.loc.expression, corrected_code)\n",
    "  end\n",
    "  \n",
    "  def replace_each_block_pass(node)\n",
    "    return unless node.method_name == :each || node.method_name == :map\n",
    "    return if node.block_type?\n",
    "    return unless !node.block_node \n",
    "    return unless node.arguments.one? && node.first_argument.block_pass_type? \n",
    "    block_pass = node.first_argument\n",
    "    return unless block_pass.children.first&.sym_type?\n",
    "    @rewriter.replace(node.loc.expression, \"[x.#{block_pass.children.first.value.to_s}() for x in #{node.receiver.source}]\")\n",
    "  end\n",
    "  \n",
    "  def replace_select(node)\n",
    "    return unless node.method_name == :select\n",
    "    return if node.block_type?\n",
    "    return unless node.block_node\n",
    "    args = node.block_node.arguments.map(&:source).join(', ')\n",
    "    list_comprehension = \"[#{args} for #{args} in  #{node.receiver.source} if #{node.block_node.body.source}]\"\n",
    "    @rewriter.replace(node.loc.expression, list_comprehension)\n",
    "  end\n",
    "  \n",
    "  def replace_not_operator(node)\n",
    "    return unless node.method_name == :!\n",
    "    @rewriter.replace(node.loc.selector, 'not ')\n",
    "  end\n",
    "  \n",
    "  def replace_const_namespaces(node)\n",
    "    # This is **that** breaking but still...\n",
    "    if !node.parent&.const_type?\n",
    "      return unless node.namespace&.short_name == :OpenStudio || node.namespace&.namespace&.short_name == :OpenStudio\n",
    "      @rewriter.replace(node.loc.double_colon, '.')\n",
    "      return\n",
    "    end\n",
    "    #puts \"node=#{node}\"\n",
    "    if !node.namespace \n",
    "        return unless node.short_name == :OpenStudio\n",
    "        @rewriter.replace(node.loc.expression, 'openstudio')\n",
    "        return\n",
    "    end\n",
    "\n",
    "    \n",
    "    puts \"node.namespace.short_name=#{node.namespace.short_name}\"\n",
    "    if node.namespace.short_name == :OpenStudio\n",
    "      raise \"#{node.short_name} not found\" if !NAMESPACE_REPLACEMENTS.include?(node.short_name)\n",
    "      # Replace Model with model\n",
    "      range = create_range(node.loc.double_colon.begin_pos, node.loc.name.end_pos)\n",
    "      @rewriter.replace(range, \".\" + NAMESPACE_REPLACEMENTS[node.short_name])\n",
    "    end\n",
    "  end\n",
    "end\n",
    "\n",
    "class ReplaceCaseWithIf < Rule\n",
    "  def on_case(node)\n",
    "    return unless node.conditional?\n",
    "\n",
    "    condition = node.condition.source\n",
    "    is_first = true\n",
    "    when_branches = node.when_branches.map { |when_node| \n",
    "        content = process_when_branch(when_node, is_first)\n",
    "        is_first = false\n",
    "        content \n",
    "    }\n",
    "    else_branch = process_else_branch(node.else_branch)\n",
    "\n",
    "    # Build the corrected code\n",
    "    corrected_code = <<~RUBY\n",
    "      #{when_branches.join(\"\\n\")}\n",
    "      #{else_branch}\n",
    "      end\n",
    "    RUBY\n",
    "\n",
    "    # Replace the original code with the corrected one\n",
    "    range = create_range(node.loc.keyword.begin_pos, node.loc.end.end_pos)\n",
    "    @rewriter.replace(range, corrected_code)\n",
    "  end\n",
    "\n",
    "  private\n",
    "\n",
    "  def process_when_branch(when_node, is_first)\n",
    "    condition = when_node.conditions.map{ |cond| \"#{when_node.parent.condition.source} == #{cond.source}\"}.join(' || ')\n",
    "    body = when_node.body.source\n",
    "    keyword = is_first ? \"if\" : \"elsif\"\n",
    "    <<~RUBY\n",
    "      #{keyword} #{condition}\n",
    "        #{body}\n",
    "    RUBY\n",
    "  end\n",
    "\n",
    "  def process_else_branch(else_branch)\n",
    "    return '' unless else_branch\n",
    "\n",
    "    \"else\\n#{else_branch.source}\"\n",
    "  end\n",
    "end"
   ]
  },
  {
   "cell_type": "markdown",
   "id": "d9a58718",
   "metadata": {},
   "source": [
    "# Main"
   ]
  },
  {
   "cell_type": "code",
   "execution_count": null,
   "id": "b71537fd",
   "metadata": {},
   "outputs": [],
   "source": [
    "# Main method.\n",
    "\n",
    "def replace_gem_version(code)\n",
    "  return code.gsub('Gem::Version', 'openstudio.VersionString').gsub('OpenStudio.openStudioVersion', 'openstudio.openStudioVersion')\n",
    "end\n",
    "\n",
    "def ensure_all_namespaces(code)\n",
    "  # Some replacements are left out, just force them\n",
    "  \n",
    "  code.gsub!('OpenStudio::', 'openstudio.')\n",
    "  code.gsub!('OpenStudio.', 'openstudio.')\n",
    "  NAMESPACE_REPLACEMENTS.each do |ruby_sym, replacement|\n",
    "    code.gsub!(ruby_sym.to_s, replacement)\n",
    "  end\n",
    "  code.gsub!('::', '.')\n",
    "  code.gsub!('.new(', '(')\n",
    "  code.gsub!('elsif ', 'elif ')\n",
    "  return code\n",
    "end\n",
    "\n",
    "def break_if_continue(code)\n",
    "  return code.split(\"\\n\", -1).map{|line|\n",
    "    if line.strip.start_with?('if') && line.strip.end_with?(': continue')\n",
    "      leading_spaces =  line.length - line.lstrip.length\n",
    "      line.gsub(': continue', \":\\n#{' ' * (leading_spaces + 4)}continue\")\n",
    "    elsif (line.strip.start_with?('if') || line.strip.start_with?('elif') || line.strip.start_with?('else')) && line.strip[-1] != ':' \n",
    "      line += ':'\n",
    "    else\n",
    "      line\n",
    "    end\n",
    "  }.join(\"\\n\")\n",
    "end\n",
    "\n",
    "def replace_not_operator(code)\n",
    "  return code.gsub('if !', 'if not ')\n",
    "end\n",
    "\n",
    "def post_cleanup(code)\n",
    "  code = replace_gem_version(code)\n",
    "  code = ensure_all_namespaces(code)\n",
    "  code = break_if_continue(code)\n",
    "  code = replace_not_operator(code)\n",
    "  code = code.gsub('&&', 'and')\n",
    "  code = code.gsub('||', 'or')\n",
    "  code = code.gsub('.nil?', 'is None')\n",
    "  code = code.gsub(' nil', ' None')\n",
    "  return code\n",
    "end\n",
    "\n",
    "def process_file(file)\n",
    "  return unless File.exist?(file)\n",
    "  code = File.read(file)  \n",
    "  return process_code(code)\n",
    "end\n",
    "\n",
    "def process_code(\n",
    "  code, \n",
    "  non_breaking_rule_classes=[ReplaceCaseWithIf, ArrayFirst, AddParenthesesToMethods, ReplaceRequire, ProcessHash], \n",
    "  breaking_rule_classes=[SyntaxBreakingReplacements]\n",
    ") \n",
    "  code.gsub!('.name.to_s', '.nameString')\n",
    "  code.gsub!('.name.get', '.nameString')\n",
    "  \n",
    "  non_breaking_rule_classes.each do |rule_class|\n",
    "    puts \"Processing #{rule_class}\"\n",
    "    code = process_rule(rule_class, code)\n",
    "  end  \n",
    "  code = align_4_spaces(code)\n",
    "\n",
    "  frozen_lit = \"# frozen_string_literal: true\\n\\n\"\n",
    "  if code.start_with?(frozen_lit)\n",
    "    code = code[frozen_lit.size..]\n",
    "  end\n",
    "  \n",
    "  breaking_rule_classes.each do |rule_class|\n",
    "    puts \"Processing #{rule_class}\"\n",
    "    code = process_rule(rule_class, code)\n",
    "  end\n",
    "  code = post_cleanup(code)\n",
    "  code\n",
    "end\n",
    "\n",
    "def process_rule(rule_class, code)\n",
    "  source = RuboCop::AST::ProcessedSource.new(code, 2.7)\n",
    "  source_buffer = source.buffer\n",
    "  rewriter = Parser::Source::TreeRewriter.new(source_buffer)\n",
    "  rule = rule_class.new(rewriter)\n",
    "  source.ast.each_node { |n| rule.process(n) }\n",
    "  rewriter.process\n",
    "end\n",
    "\n",
    "\n",
    "def reformat_python_file(file_name)\n",
    "  return system(\"black -l 120 #{file_name}\")\n",
    "end\n",
    "\n",
    "def port_file(file_name, verbose: false)\n",
    "  code = process_file(file_name)\n",
    "  \n",
    "  #code.gsub!('OpenStudio::Model::', 'openstudio.model.')\n",
    "  code.gsub!('Dir.pwd()', 'None')\n",
    "  if verbose\n",
    "    puts \"=\" * 80\n",
    "    puts code\n",
    "  end\n",
    "\n",
    "  target_file = File.join(File.dirname(file_name), File.basename(file_name, '.rb') + '.py')\n",
    "  puts \"target file: #{target_file}\"\n",
    "\n",
    "  File.write(target_file, code)\n",
    "  valid_syntax = reformat_python_file(target_file)\n",
    "    \n",
    "  return target_file, valid_syntax\n",
    "end"
   ]
  },
  {
   "cell_type": "code",
   "execution_count": null,
   "id": "9573b5bd",
   "metadata": {},
   "outputs": [],
   "source": [
    "system(\"echo 'lol'\")"
   ]
  },
  {
   "cell_type": "code",
   "execution_count": null,
   "id": "d8812412",
   "metadata": {},
   "outputs": [],
   "source": [
    "code = %q(\n",
    "m.getCoilCoolingWaters()[0].setName('VAV Central ChW Coil')\n",
    "\n",
    "for coil in m.getCoilHeatingWaters():\n",
    "  if !coil.airLoopHVAC().is_initialized(): continue\n",
    "\n",
    "  coil.setName('VAV Central HW Coil')\n",
    "\n",
    "\n",
    "# Rename nodes\n",
    "for p in m.getPlantLoops():\n",
    "  prefix = p.nameString()\n",
    "\n",
    "  for c in p.supplyComponents().reverse():\n",
    "    if c.to_Node().is_initialized(): continue\n",
    "\n",
    "    if c.to_ConnectorMixer().is_initialized():\n",
    "      c.setName(\"#{prefix} Supply ConnectorMixer\")\n",
    "    elsif c.to_ConnectorSplitter().is_initialized()\n",
    "      c.setName(\"#{prefix} Supply ConnectorSplitter\")\n",
    "    else\n",
    ")"
   ]
  },
  {
   "cell_type": "code",
   "execution_count": null,
   "id": "8b8ffc59",
   "metadata": {},
   "outputs": [],
   "source": [
    "new_lines = code.lines.each do |line|\n",
    "  if line.strip.s\n",
    "  end\n",
    "end"
   ]
  },
  {
   "cell_type": "code",
   "execution_count": null,
   "id": "67d66079",
   "metadata": {},
   "outputs": [],
   "source": []
  },
  {
   "cell_type": "code",
   "execution_count": null,
   "id": "c35efb89",
   "metadata": {},
   "outputs": [],
   "source": [
    "line = \"    if c.to_Node().is_initialized(): continue\\n\""
   ]
  },
  {
   "cell_type": "code",
   "execution_count": null,
   "id": "d48290a2",
   "metadata": {},
   "outputs": [],
   "source": [
    "line.strip.start_with?('if') && line.strip.end_with?(': continue')"
   ]
  },
  {
   "cell_type": "code",
   "execution_count": null,
   "id": "45c8ce39",
   "metadata": {},
   "outputs": [],
   "source": [
    "leading_spaces =  line.length - line.lstrip.length"
   ]
  },
  {
   "cell_type": "code",
   "execution_count": null,
   "id": "b8e9aa9e",
   "metadata": {},
   "outputs": [],
   "source": [
    "puts line.gsub(': continue', \":\\n#{' ' * (leading_spaces + 4)}continue\")"
   ]
  },
  {
   "cell_type": "code",
   "execution_count": null,
   "id": "068fbbbc",
   "metadata": {},
   "outputs": [],
   "source": []
  },
  {
   "cell_type": "code",
   "execution_count": null,
   "id": "1c72fb71",
   "metadata": {},
   "outputs": [],
   "source": []
  },
  {
   "cell_type": "markdown",
   "id": "0ea95d95-7e46-42e5-a9b2-107b205d9f94",
   "metadata": {},
   "source": [
    "## I HAVE AN ORDER ISSUE: MY RULES BREAK THE RUBY SYNTAX!"
   ]
  },
  {
   "cell_type": "markdown",
   "id": "0c984b9a",
   "metadata": {},
   "source": [
    "## Test: reindent"
   ]
  },
  {
   "cell_type": "code",
   "execution_count": null,
   "id": "b52c0381",
   "metadata": {},
   "outputs": [],
   "source": [
    "code = %q(\n",
    "10.times do |i|\n",
    "if i == 0 || i == 1\n",
    "           puts \"zero\"\n",
    "    elsif i == 4\n",
    "puts \"4\"\n",
    "else\n",
    "  puts \"else\"\n",
    "  if i < 5 or i > 10\n",
    "    puts \"wrong\"\n",
    "end\n",
    "  end\n",
    "end\n",
    ")"
   ]
  },
  {
   "cell_type": "code",
   "execution_count": null,
   "id": "4ded3a2b",
   "metadata": {},
   "outputs": [],
   "source": [
    "options, paths = RuboCop::Options.new.parse(['-a', '--only', 'Layout/IndentationWidth,Layout/EndAlignment,Layout/ElseAlignment,Layout/IndentationConsistency',\n",
    "  '--stdin', code])\n",
    "paths"
   ]
  },
  {
   "cell_type": "code",
   "execution_count": null,
   "id": "598370ea",
   "metadata": {},
   "outputs": [],
   "source": [
    "def align_4_spaces(code)\n",
    "  config_path = 'temp_config.yml'\n",
    "  File.write(config_path, '''Layout/IndentationWidth:\n",
    "    Width: 4\n",
    "  ''')\n",
    "  File.write('temp.rb', code)\n",
    "  options, paths = RuboCop::Options.new.parse(['-a', '--format=simple', '--only', 'Layout/IndentationWidth,Layout/EndAlignment,Layout/ElseAlignment,Layout/IndentationConsistency',\n",
    "    'temp.rb'\n",
    "  ])\n",
    "  store = RuboCop::ConfigStore.new\n",
    "  store.options_config = config_path\n",
    "  runner = RuboCop::Runner.new(options, store)\n",
    "  runner.run(paths)\n",
    "  reformatted_code = File.read('temp.rb')\n",
    "  File.delete('temp.rb')\n",
    "  File.delete('temp_config.yml')\n",
    "  return reformatted_code\n",
    "end"
   ]
  },
  {
   "cell_type": "code",
   "execution_count": null,
   "id": "f86b653f",
   "metadata": {},
   "outputs": [],
   "source": [
    "puts align_4_spaces(code)"
   ]
  },
  {
   "cell_type": "raw",
   "id": "b4071484",
   "metadata": {},
   "source": [
    "config = RuboCop::Config.new(\n",
    "  { \n",
    "    'Layout/IndentationWidth' => { 'Enabled' => true, 'Width' => 4 }\n",
    "  }\n",
    ")\n",
    "options = { formatters: [], autocorrect: true, debug: true}\n",
    "cop_classes = [RuboCop::Cop::Layout::IndentationWidth]\n",
    "cops = RuboCop::Cop::Registry.new(cop_classes)\n",
    "\n",
    "# cop.instance_variable_get(:@options)[:autocorrect] = true\n",
    "\n",
    "options = { autocorrect: true, stdin: true }\n",
    "team = RuboCop::Cop::Team.mobilize(cops, config, options)\n",
    "raise if !team.autocorrect?\n",
    "processed_source = RuboCop::ProcessedSource.new(code, RUBY_VERSION.to_f, nil)\n",
    "# processed_source = RuboCop::AST::ProcessedSource.from_file(file_name, 2.7)\n",
    "processed_source.config = config\n",
    "processed_source.registry = cops\n",
    "report = team.inspect_file(processed_source)\n",
    "while team.updated_source_file?\n",
    "  puts \"pass\"\n",
    "  processed_source = RuboCop::ProcessedSource.new(options[:stdin], RUBY_VERSION.to_f, nil)\n",
    "  # processed_source = RuboCop::AST::ProcessedSource.from_file(file_name, 2.7)\n",
    "  processed_source.config = config\n",
    "  processed_source.registry = cops\n",
    "  report = team.inspect_file(processed_source)\n",
    "end\n",
    "# new_source = options[:stdin]"
   ]
  },
  {
   "cell_type": "markdown",
   "id": "ac60bae6",
   "metadata": {},
   "source": [
    "## Test: replace puts"
   ]
  },
  {
   "cell_type": "code",
   "execution_count": null,
   "id": "d7efc1b8",
   "metadata": {},
   "outputs": [],
   "source": [
    "code = %q(\n",
    "systems = [1, 2, 3]\n",
    "systems.each_with_index do |system, i|\n",
    "    puts \"#{i}, #{system}\"\n",
    "    puts \"caca\"\n",
    "end\n",
    ")\n",
    "\n",
    "source = RuboCop::AST::ProcessedSource.new(code, 2.7)\n",
    "source_buffer = source.buffer\n",
    "rewriter = Parser::Source::TreeRewriter.new(source_buffer)\n",
    "rule = SyntaxBreakingReplacements.new(rewriter)\n",
    "source.ast.each_node { |n| rule.process(n) }\n",
    "puts rewriter.process"
   ]
  },
  {
   "cell_type": "markdown",
   "id": "f5885372",
   "metadata": {},
   "source": [
    "## Test: replace namespaces"
   ]
  },
  {
   "cell_type": "code",
   "execution_count": null,
   "id": "492e745a",
   "metadata": {},
   "outputs": [],
   "source": [
    "code = %q(m = OpenStudio::Model::Model.new()\n",
    "a = OpenStudio::Model::AvailabilityManagerNightVentilation.new(model)\n",
    "t = OpenStudio::Time.new(0, 1, 0, 0)\n",
    "p = OpenStudio::Point3d.new(1, 1 ,1)\n",
    ")\n",
    "\n",
    "source = RuboCop::AST::ProcessedSource.new(code, 2.7)\n",
    "source_buffer = source.buffer\n",
    "rewriter = Parser::Source::TreeRewriter.new(source_buffer)\n",
    "rule = SyntaxBreakingReplacements.new(rewriter)\n",
    "source.ast.each_node { |n| rule.process(n) }\n",
    "puts rewriter.process"
   ]
  },
  {
   "cell_type": "markdown",
   "id": "dfac28e6",
   "metadata": {},
   "source": [
    "## Test: array append"
   ]
  },
  {
   "cell_type": "code",
   "execution_count": null,
   "id": "f002d98f",
   "metadata": {},
   "outputs": [],
   "source": [
    "code = %q(a = []\n",
    "a << [1, 2]\n",
    "a << 2\n",
    "2 << 8\n",
    ")\n",
    "source = RuboCop::AST::ProcessedSource.new(code, 2.7)\n",
    "source_buffer = source.buffer\n",
    "rewriter = Parser::Source::TreeRewriter.new(source_buffer)\n",
    "rule = SyntaxBreakingReplacements.new(rewriter)\n",
    "source.ast.each_node { |n| rule.process(n) }\n",
    "puts rewriter.process"
   ]
  },
  {
   "cell_type": "markdown",
   "id": "1bb0c2a6",
   "metadata": {},
   "source": [
    "## Test next if, raise if"
   ]
  },
  {
   "cell_type": "code",
   "execution_count": null,
   "id": "93e11f9d",
   "metadata": {},
   "outputs": [],
   "source": [
    "class IfReplacements < Rule\n",
    "\n",
    "  def on_if(node)\n",
    "    \n",
    "    # DISABLED, it breaks if you have more than two ifs\n",
    "    # return\n",
    "    \n",
    "    return if node.nil?\n",
    "    return if node.unless? || node.ternary? || node.modifier_form?\n",
    "    \n",
    "    puts node\n",
    "    @rewriter.insert_after(node.condition.loc.expression, ':')\n",
    "    if node.loc.end\n",
    "      # Remove last end\n",
    "      @rewriter.replace(node.loc.end, '')\n",
    "    end\n",
    "    if node.else_branch && !node.else_branch.if_type? && node.else?\n",
    "      @rewriter.insert_after(node.else?, ':')\n",
    "    end\n",
    "    if node.keyword == 'elsif' \n",
    "      @rewriter.replace(node.loc.keyword, 'elif')\n",
    "    end\n",
    "  end\n",
    "  \n",
    "  def on_next(node)\n",
    "    if node.parent.modifier_form?\n",
    "      rewritten = \"#{node.parent.keyword} #{node.parent.condition.source}: continue\"\n",
    "      @rewriter.replace(node.parent.loc.expression, rewritten)\n",
    "    end\n",
    "  end\n",
    "  \n",
    "  def on_send(node)\n",
    "    process_raise_if(node)\n",
    "  end\n",
    "  \n",
    "  def process_raise_if(node)\n",
    "    return unless node.send_type?\n",
    "    return unless node.method_name == :raise\n",
    "    return unless node.parent.modifier_form?\n",
    "    \n",
    "    args = node.arguments? ? \"(#{node.arguments.map(&:source).join(', ')})\" : ''\n",
    "  \n",
    "    rewritten = \"#{node.parent.keyword} #{node.parent.condition.source}: raise ValueError#{args}\"\n",
    "    @rewriter.replace(node.parent.loc.expression, rewritten)\n",
    "  end\n",
    "end"
   ]
  },
  {
   "cell_type": "code",
   "execution_count": null,
   "id": "20293a85",
   "metadata": {},
   "outputs": [],
   "source": [
    "code = %q(10.times do |i|\n",
    "  next if i == 4\n",
    "  raise if i == 10\n",
    "  raise 'message' if i == 10\n",
    "end\n",
    ")\n",
    "source = RuboCop::AST::ProcessedSource.new(code, 2.7)\n",
    "source_buffer = source.buffer\n",
    "rewriter = Parser::Source::TreeRewriter.new(source_buffer)\n",
    "rule = IfReplacements.new(rewriter)\n",
    "source.ast.each_node { |n| rule.process(n) }\n",
    "puts rewriter.process"
   ]
  },
  {
   "cell_type": "code",
   "execution_count": null,
   "id": "223bf24d",
   "metadata": {},
   "outputs": [],
   "source": [
    "node = source.ast.each_node.select { |node|\n",
    "  next if !node.next_type?\n",
    "  node\n",
    "}[0]"
   ]
  },
  {
   "cell_type": "code",
   "execution_count": null,
   "id": "c6aff11c",
   "metadata": {},
   "outputs": [],
   "source": [
    "node.parent.ternary?"
   ]
  },
  {
   "cell_type": "code",
   "execution_count": null,
   "id": "07f8c65e",
   "metadata": {},
   "outputs": [],
   "source": [
    "node.source"
   ]
  },
  {
   "cell_type": "code",
   "execution_count": null,
   "id": "8d4c57fd",
   "metadata": {},
   "outputs": [],
   "source": []
  },
  {
   "cell_type": "code",
   "execution_count": null,
   "id": "2edaa5ef",
   "metadata": {},
   "outputs": [],
   "source": [
    "\"#{node.parent.keyword} #{node.parent.condition.source}: continue\""
   ]
  },
  {
   "cell_type": "code",
   "execution_count": null,
   "id": "9824d262",
   "metadata": {},
   "outputs": [],
   "source": [
    "source.ast.each_node"
   ]
  },
  {
   "cell_type": "code",
   "execution_count": null,
   "id": "b0f02712",
   "metadata": {},
   "outputs": [],
   "source": [
    "node = source.ast.each_node.select { |node|\n",
    "  next if !node.send_type?\n",
    "  node\n",
    "}[5]"
   ]
  },
  {
   "cell_type": "code",
   "execution_count": null,
   "id": "482ba1a6",
   "metadata": {},
   "outputs": [],
   "source": [
    "node.parent.source"
   ]
  },
  {
   "cell_type": "code",
   "execution_count": null,
   "id": "de9c856d",
   "metadata": {},
   "outputs": [],
   "source": [
    "node.arguments.map(&:source)"
   ]
  },
  {
   "cell_type": "code",
   "execution_count": null,
   "id": "b69909fa",
   "metadata": {},
   "outputs": [],
   "source": []
  },
  {
   "cell_type": "markdown",
   "id": "676f9063",
   "metadata": {},
   "source": [
    "## Test if :  Remove end, add semi colons"
   ]
  },
  {
   "cell_type": "code",
   "execution_count": null,
   "id": "35c3e1c8",
   "metadata": {},
   "outputs": [],
   "source": [
    "class IfReplacements < Rule\n",
    "  \n",
    "  def on_if(node)\n",
    "    \n",
    "    # DISABLED, it breaks if you have more than two ifs\n",
    "    # return\n",
    "    \n",
    "    return if node.nil?\n",
    "    return if node.unless? || node.ternary?\n",
    "    \n",
    "    puts node\n",
    "    @rewriter.insert_after(node.condition.loc.expression, ':')\n",
    "    if node.loc.end\n",
    "      # Remove last end\n",
    "      @rewriter.replace(node.loc.end, '')\n",
    "    end\n",
    "    if node.else_branch && !node.else_branch.if_type? && node.else?\n",
    "      @rewriter.insert_after(node.else?, ':')\n",
    "    end\n",
    "    if node.keyword == 'elsif' \n",
    "      @rewriter.replace(node.loc.keyword, 'elif')\n",
    "    end\n",
    "  end\n",
    "end"
   ]
  },
  {
   "cell_type": "code",
   "execution_count": null,
   "id": "b3590b81",
   "metadata": {
    "scrolled": true
   },
   "outputs": [],
   "source": [
    "code = %q(\n",
    "if i == 4\n",
    "    puts \"yes\"\n",
    "elsif i == 2\n",
    "    puts \"also\"\n",
    "else\n",
    "    puts \"no\"\n",
    "end\n",
    ")\n",
    "\n",
    "code = %q(if i == 2\n",
    "  puts \"yes\"\n",
    "end\n",
    "\n",
    "if i == 4\n",
    "  puts \"no\"\n",
    "end\n",
    ")\n",
    "\n",
    "code = %q(\n",
    "model.getPlantLoops.each do |p|\n",
    "  prefix = p.name.to_s\n",
    "\n",
    "  p.supplyComponents.reverse.each do |c|\n",
    "    next if c.to_Node.is_initialized\n",
    "\n",
    "    if c.to_ConnectorMixer.is_initialized\n",
    "      c.setName(\"#{prefix} Supply ConnectorMixer\")\n",
    "    elsif c.to_ConnectorSplitter.is_initialized\n",
    "      c.setName(\"#{prefix} Supply ConnectorSplitter\")\n",
    "    else\n",
    "\n",
    "      obj_type = c.iddObjectType.valueName\n",
    "      obj_type_name = obj_type.gsub('OS_', '').gsub('_', '')\n",
    "\n",
    "      if c.to_PumpVariableSpeed.is_initialized\n",
    "        c.setName(\"#{prefix} VSD Pump\")\n",
    "      elsif c.to_PumpConstantSpeed.is_initialized\n",
    "        c.setName(\"#{prefix} CstSpeed Pump\")\n",
    "      elsif c.to_HeaderedPumpsVariableSpeed.is_initialized\n",
    "        c.setName(\"#{prefix} Headered VSD Pump\")\n",
    "      elsif c.to_HeaderedPumpsConstantSpeed.is_initialized\n",
    "        c.setName(\"#{prefix} Headered CstSpeed Pump\")\n",
    "      elsif !c.to_CentralHeatPumpSystem.is_initialized\n",
    "        c.setName(\"#{prefix} #{obj_type_name}\")\n",
    "      end\n",
    "    end\n",
    "  end\n",
    "end\n",
    ")\n",
    "\n",
    "source = RuboCop::AST::ProcessedSource.new(code, 2.7)\n",
    "#source = RuboCop::AST::ProcessedSource.from_file('model/simulationtests/additional_props.rb', 2.7)\n",
    "source_buffer = source.buffer\n",
    "rewriter = Parser::Source::TreeRewriter.new(source_buffer)\n",
    "rule = SyntaxBreakingReplacements.new(rewriter)\n",
    "source.ast.each_node { |n| rule.process(n) }\n",
    "puts rewriter.process"
   ]
  },
  {
   "cell_type": "code",
   "execution_count": null,
   "id": "17ffdc37",
   "metadata": {},
   "outputs": [],
   "source": [
    "source = RuboCop::AST::ProcessedSource.new(code, 2.7)\n",
    "#source = RuboCop::AST::ProcessedSource.from_file('model/simulationtests/additional_props.rb', 2.7)\n",
    "source_buffer = source.buffer\n",
    "@rewriter = Parser::Source::TreeRewriter.new(source_buffer)"
   ]
  },
  {
   "cell_type": "code",
   "execution_count": null,
   "id": "9456b7c0",
   "metadata": {},
   "outputs": [],
   "source": [
    "node = source.ast.each_node.select { |node|\n",
    "  next if !node.if_type?\n",
    "  node\n",
    "}[0]"
   ]
  },
  {
   "cell_type": "code",
   "execution_count": null,
   "id": "069c1fc6",
   "metadata": {},
   "outputs": [],
   "source": [
    "node.condition.loc.expression"
   ]
  },
  {
   "cell_type": "code",
   "execution_count": null,
   "id": "24ebfbd2",
   "metadata": {},
   "outputs": [],
   "source": [
    "node.condition.loc"
   ]
  },
  {
   "cell_type": "code",
   "execution_count": null,
   "id": "c3f5dc4b",
   "metadata": {},
   "outputs": [],
   "source": [
    "@rewriter.insert_after(node.condition.loc.expression, ':')\n",
    "if node.loc.end\n",
    "  @rewriter.replace(node.loc.end, '')\n",
    "end\n",
    "if node.else_branch && !node.else_branch.if_type? && node.else?\n",
    "  @rewriter.insert_after(node.else?, ':')\n",
    "end\n",
    "if node.keyword == 'elsif' \n",
    "  @rewriter.replace(node.loc.keyword, 'elif')\n",
    "end\n",
    "puts rewriter.process"
   ]
  },
  {
   "cell_type": "code",
   "execution_count": null,
   "id": "b09063c7",
   "metadata": {},
   "outputs": [],
   "source": [
    "source.ast.each_node {|n|\n",
    "  next unless n.if_type?\n",
    "  \n",
    "   # Remove last end:\n",
    "  @rewriter.insert_after(node.condition.loc.expression, ':')\n",
    "  if node.loc.end\n",
    "    @rewriter.replace(node.loc.end, '')\n",
    "  end\n",
    "  if !node.else_branch.if_type? && node.else?\n",
    "    @rewriter.insert_after(node.else?, ':')\n",
    "  end\n",
    "  if node.keyword == 'elsif' \n",
    "    @rewriter.replace(node.loc.keyword, 'elif')\n",
    "  end\n",
    "};"
   ]
  },
  {
   "cell_type": "code",
   "execution_count": null,
   "id": "8baecb00",
   "metadata": {},
   "outputs": [],
   "source": [
    "  def on_if(node)\n",
    "    \n",
    "    # DISABLED, it breaks if you have more than two ifs\n",
    "    # return\n",
    "    \n",
    "    return if node.nil?\n",
    "    return if node.unless? || node.ternary?\n",
    "    \n",
    "    # Remove last end:\n",
    "    @rewriter.insert_after(node.condition.loc.expression, ':')\n",
    "    if node.loc.end\n",
    "      @rewriter.replace(node.loc.end, '')\n",
    "    end\n",
    "    if !node.else_branch.if_type? && node.else?\n",
    "      @rewriter.insert_after(node.else?, ':')\n",
    "    end\n",
    "    if node.keyword == 'elsif' \n",
    "      @rewriter.replace(node.loc.keyword, 'elif')\n",
    "    end\n",
    "  end"
   ]
  },
  {
   "cell_type": "code",
   "execution_count": null,
   "id": "c804fddb",
   "metadata": {},
   "outputs": [],
   "source": []
  },
  {
   "cell_type": "code",
   "execution_count": null,
   "id": "b6548efc",
   "metadata": {},
   "outputs": [],
   "source": [
    "require 'parser/current'\n",
    "\n",
    "class RemoveDo < Parser::TreeRewriter\n",
    "  def on_while(node)\n",
    "    # Check if the statement starts with \"do\"\n",
    "    if node.location.begin.is?('do')\n",
    "      remove(node.location.begin)\n",
    "    end\n",
    "  end\n",
    "  \n",
    "  def on_if(node)\n",
    "    \n",
    "    # DISABLED, it breaks if you have more than two ifs\n",
    "    # return\n",
    "    \n",
    "    return if node.nil?\n",
    "    #return if node.unless? || node.ternary?\n",
    "    \n",
    "    # Remove last end:\n",
    "    @rewriter.insert_after(node.condition.loc.expression, ':')\n",
    "    if node.loc.end\n",
    "      @rewriter.remove(node.loc.end)\n",
    "    end\n",
    "    if !node.else_branch.if_type? && node.else?\n",
    "      @rewriter.insert_after(node.else?, ':')\n",
    "    end\n",
    "    if node.keyword == 'elsif' \n",
    "      @rewriter.replace(node.loc.keyword, 'elif')\n",
    "    end\n",
    "  end\n",
    "end\n",
    "\n",
    "code = <<-EOF\n",
    "while true do\n",
    "  puts 'hello'\n",
    "end\n",
    "if i == 2\n",
    "  puts \"yes\"\n",
    "end\n",
    "\n",
    "if i == 4\n",
    "  puts \"no\"\n",
    "end\n",
    "EOF\n",
    "\n",
    "ast           = Parser::CurrentRuby.parse code\n",
    "buffer        = Parser::Source::Buffer.new('(example)', source: code)\n",
    "rewriter      = RemoveDo.new\n",
    "\n",
    "# Rewrite the AST, returns a String with the new form.\n",
    "puts rewriter.rewrite(buffer, ast)\n"
   ]
  },
  {
   "cell_type": "code",
   "execution_count": null,
   "id": "7549c811",
   "metadata": {},
   "outputs": [],
   "source": [
    "ast.location"
   ]
  },
  {
   "cell_type": "code",
   "execution_count": null,
   "id": "6557e6e5",
   "metadata": {},
   "outputs": [],
   "source": []
  },
  {
   "cell_type": "code",
   "execution_count": null,
   "id": "a2d8015f",
   "metadata": {},
   "outputs": [],
   "source": [
    "node = source.ast.each_node.to_a[2]\n",
    "node.if_type?"
   ]
  },
  {
   "cell_type": "code",
   "execution_count": null,
   "id": "0b88685a",
   "metadata": {},
   "outputs": [],
   "source": [
    "rule.process(source.ast.each_node.to_a[1])"
   ]
  },
  {
   "cell_type": "code",
   "execution_count": null,
   "id": "927236c2",
   "metadata": {},
   "outputs": [],
   "source": [
    "node = source.ast.each_node.select { |node|\n",
    "  next if !node.if_type?\n",
    "  node\n",
    "}[0]"
   ]
  },
  {
   "cell_type": "code",
   "execution_count": null,
   "id": "e186aa6b",
   "metadata": {},
   "outputs": [],
   "source": [
    "node.type"
   ]
  },
  {
   "cell_type": "code",
   "execution_count": null,
   "id": "d77b179d",
   "metadata": {},
   "outputs": [],
   "source": []
  },
  {
   "cell_type": "code",
   "execution_count": null,
   "id": "080d4887",
   "metadata": {},
   "outputs": [],
   "source": [
    "node.keyword == 'elsif' \n",
    "node.loc.keyword, 'elif'"
   ]
  },
  {
   "cell_type": "code",
   "execution_count": null,
   "id": "d1ad6a60",
   "metadata": {},
   "outputs": [],
   "source": []
  },
  {
   "cell_type": "code",
   "execution_count": null,
   "id": "128fe4f6",
   "metadata": {},
   "outputs": [],
   "source": [
    "# Remove last end:\n",
    "rewriter.insert_after(node.condition.loc.expression, ':')\n",
    "rewriter.replace(node.loc.end, '')\n",
    "rewriter.process"
   ]
  },
  {
   "cell_type": "code",
   "execution_count": null,
   "id": "3a6a21f9",
   "metadata": {},
   "outputs": [],
   "source": [
    "!node.else_branch.if_type? && node.else?"
   ]
  },
  {
   "cell_type": "code",
   "execution_count": null,
   "id": "aa77ab30",
   "metadata": {},
   "outputs": [],
   "source": [
    "node.loc"
   ]
  },
  {
   "cell_type": "code",
   "execution_count": null,
   "id": "71929da9",
   "metadata": {},
   "outputs": [],
   "source": [
    "node.loc.end"
   ]
  },
  {
   "cell_type": "markdown",
   "id": "7f7acc14",
   "metadata": {},
   "source": [
    "## Test replace Gem::Version"
   ]
  },
  {
   "cell_type": "code",
   "execution_count": null,
   "id": "a8bd5e59",
   "metadata": {},
   "outputs": [],
   "source": [
    "code = %q(\n",
    "if Gem::Version(OpenStudio.openStudioVersion()) > Gem::Version('2.7.1')\n",
    ")"
   ]
  },
  {
   "cell_type": "code",
   "execution_count": null,
   "id": "5f692028",
   "metadata": {},
   "outputs": [],
   "source": [
    "puts replace_gem_version(code)"
   ]
  },
  {
   "cell_type": "markdown",
   "id": "04b2b022",
   "metadata": {},
   "source": [
    "## Test replace true / false"
   ]
  },
  {
   "cell_type": "code",
   "execution_count": null,
   "id": "4c3377c2",
   "metadata": {},
   "outputs": [],
   "source": [
    "code = %q(\n",
    "x = true\n",
    "x = false\n",
    ")"
   ]
  },
  {
   "cell_type": "code",
   "execution_count": null,
   "id": "eefaff18",
   "metadata": {},
   "outputs": [],
   "source": [
    "class TrueFalseRule < Rule\n",
    "  def on_true(node)\n",
    "    @rewriter.replace(node.loc.expression, \"True\")\n",
    "  end\n",
    "  def on_false(node)\n",
    "    @rewriter.replace(node.loc.expression, \"False\")\n",
    "  end\n",
    "\n",
    "end\n",
    "\n",
    "source = RuboCop::AST::ProcessedSource.new(code, 2.7)\n",
    "source_buffer = source.buffer\n",
    "rewriter = Parser::Source::TreeRewriter.new(source_buffer)\n",
    "rule = TrueFalseRule.new(rewriter)\n",
    "source.ast.each_node { |n| rule.process(n) }\n",
    "rewriter.process"
   ]
  },
  {
   "cell_type": "markdown",
   "id": "a39d165e",
   "metadata": {},
   "source": [
    "## Test replace array.first"
   ]
  },
  {
   "cell_type": "code",
   "execution_count": null,
   "id": "805c6e9c",
   "metadata": {},
   "outputs": [],
   "source": [
    "code = %q(\n",
    "x = [1, 2]\n",
    "a = x.first\n",
    ")"
   ]
  },
  {
   "cell_type": "code",
   "execution_count": null,
   "id": "eaa2c51f",
   "metadata": {},
   "outputs": [],
   "source": [
    "class ArrayFirst < Rule\n",
    "  def on_send(node)\n",
    "    replace_array_first(node)\n",
    "  end\n",
    "\n",
    "  def replace_array_first(node)\n",
    "    return unless node.method_name == :first\n",
    "\n",
    "    range = create_range(node.loc.dot.begin_pos, node.loc.expression.end_pos)\n",
    "    @rewriter.replace(range, '[0]')\n",
    "  end\n",
    "end\n",
    "\n",
    "source = RuboCop::AST::ProcessedSource.new(code, 2.7)\n",
    "source_buffer = source.buffer\n",
    "rewriter = Parser::Source::TreeRewriter.new(source_buffer)\n",
    "rule = ArrayFirst.new(rewriter)\n",
    "source.ast.each_node { |n| rule.process(n) }\n",
    "puts rewriter.process"
   ]
  },
  {
   "cell_type": "markdown",
   "id": "8eac6023",
   "metadata": {},
   "source": [
    "## Test select and each/map block_pass"
   ]
  },
  {
   "cell_type": "code",
   "execution_count": null,
   "id": "09276d31",
   "metadata": {},
   "outputs": [],
   "source": [
    "code = %q(\n",
    "surfaces = model.getSurfaces.select { |s| s.outsideBoundaryCondition == 'Outdoors' }.sort_by { |s| s.name.to_s }\n",
    "\n",
    "model.getSurfaces().select() { |s| s.outsideBoundaryCondition() == 'Outdoors' }\n",
    "\n",
    "m.getPipeAdiabatics().each(&:remove)\n",
    "\n",
    "x = m.getPipeAdiabatics().each(&:nameString)\n",
    ")"
   ]
  },
  {
   "cell_type": "code",
   "execution_count": null,
   "id": "2804c0c4",
   "metadata": {},
   "outputs": [],
   "source": [
    "class SelectRule < Rule\n",
    "  def on_send(node)\n",
    "    replace_select(node)\n",
    "    replace_each_block_pass(node)\n",
    "  end\n",
    "  \n",
    "  def replace_each_block_pass(node)\n",
    "    return unless node.method_name == :each || node.method_name == :map\n",
    "    return if node.block_type?\n",
    "    return unless !node.block_node \n",
    "    return unless node.arguments.one? && node.first_argument.block_pass_type? \n",
    "    block_pass = node.first_argument\n",
    "    return unless block_pass.children.first&.sym_type?\n",
    "    @rewriter.replace(node.loc.expression, \"[x.#{block_pass.children.first.value.to_s}() for x in #{node.receiver.source}]\")\n",
    "  end\n",
    "  \n",
    "  def replace_select(node)\n",
    "    return unless node.method_name == :select\n",
    "    return if node.block_type?\n",
    "    return unless node.block_node\n",
    "    args = node.block_node.arguments.map(&:source).join(', ')\n",
    "    list_comprehension = \"[#{args} for #{args} in  #{node.receiver.source} if #{node.block_node.body.source}]\"\n",
    "    @rewriter.replace(node.loc.expression, list_comprehension)\n",
    "  end\n",
    "end\n",
    "\n",
    "source = RuboCop::AST::ProcessedSource.new(code, 2.7)\n",
    "source_buffer = source.buffer\n",
    "rewriter = Parser::Source::TreeRewriter.new(source_buffer)\n",
    "rule = SyntaxBreakingReplacements.new(rewriter)\n",
    "#rule = SelectRule.new(rewriter)\n",
    "source.ast.each_node { |n| rule.process(n) }\n",
    "puts rewriter.process"
   ]
  },
  {
   "cell_type": "markdown",
   "id": "46b1bd3a",
   "metadata": {},
   "source": [
    "## Test ! (not) operator"
   ]
  },
  {
   "cell_type": "code",
   "execution_count": null,
   "id": "aebd1c0a",
   "metadata": {},
   "outputs": [],
   "source": [
    "code = %q(\n",
    "x = true\n",
    "if !x\n",
    "  puts \"yes\"\n",
    "end\n",
    "\n",
    "next if !x.airLoopHVAC().is_initialized()\n",
    ")"
   ]
  },
  {
   "cell_type": "code",
   "execution_count": null,
   "id": "ae179dad",
   "metadata": {},
   "outputs": [],
   "source": [
    "class NotOperator < Rule\n",
    "  def on_send(node)\n",
    "    replace_not_operator(node)\n",
    "  end\n",
    "  \n",
    "  def replace_not_operator(node)\n",
    "    return unless node.method_name == :!\n",
    "    @rewriter.replace(node.loc.selector, 'not ')\n",
    "  end\n",
    "end\n",
    "\n",
    "source = RuboCop::AST::ProcessedSource.new(code, 2.7)\n",
    "source_buffer = source.buffer\n",
    "rewriter = Parser::Source::TreeRewriter.new(source_buffer)\n",
    "rule = SyntaxBreakingReplacements.new(rewriter)\n",
    "#rule = NotOperator.new(rewriter)\n",
    "source.ast.each_node { |n| rule.process(n) }\n",
    "puts rewriter.process"
   ]
  },
  {
   "cell_type": "code",
   "execution_count": null,
   "id": "137834aa",
   "metadata": {},
   "outputs": [],
   "source": [
    "puts process_code(code)"
   ]
  },
  {
   "cell_type": "code",
   "execution_count": null,
   "id": "b67b90c9",
   "metadata": {},
   "outputs": [],
   "source": [
    "node = source.ast.each_node.select{|n|\n",
    "  next if !n.send_type?\n",
    "  next if n.method_name != :!\n",
    "  n\n",
    "}[1]"
   ]
  },
  {
   "cell_type": "code",
   "execution_count": null,
   "id": "0a4982eb",
   "metadata": {},
   "outputs": [],
   "source": [
    "node.receiver.source"
   ]
  },
  {
   "cell_type": "code",
   "execution_count": null,
   "id": "129e6041",
   "metadata": {},
   "outputs": [],
   "source": []
  },
  {
   "cell_type": "markdown",
   "id": "9a76d528",
   "metadata": {},
   "source": [
    "# Test on files"
   ]
  },
  {
   "cell_type": "code",
   "execution_count": null,
   "id": "d05a7e3f",
   "metadata": {
    "tags": []
   },
   "outputs": [],
   "source": [
    "file_name = 'model/simulationtests/humidity_control.rb'\n",
    "file_name = 'model/simulationtests/test_port.rb'\n",
    "file_name = 'model/simulationtests/baseline_sys01.rb'\n",
    "file_name = 'model/simulationtests/baseline_sys02.rb'"
   ]
  },
  {
   "cell_type": "code",
   "execution_count": null,
   "id": "eaec98bd",
   "metadata": {
    "tags": []
   },
   "outputs": [],
   "source": [
    "# [\"01\", \"02\", \"03\", \"04\", \"05\", \"06\", \"07\", \"08\", \"09\", \"10\"].each do |sys_num|\n",
    "#   port_file(\"model/simulationtests/baseline_sys#{sys_num}.rb\")\n",
    "# end"
   ]
  },
  {
   "cell_type": "code",
   "execution_count": null,
   "id": "c66e3ff7-c614-42ae-984b-e8ba8385f5b3",
   "metadata": {
    "tags": []
   },
   "outputs": [],
   "source": [
    "file_name = 'model/simulationtests/availability_managers.rb'\n",
    "file_name = 'model/simulationtests/daylighting_devices.rb'\n",
    "file_name = 'model/simulationtests/dual_duct.rb'\n",
    "file_name = 'model/simulationtests/foundation_kiva_customblocks.rb' # Example of next if\n",
    "file_name = 'model/simulationtests/centralheatpumpsystem.rb' # Example of next if\n",
    "file_name = 'model/simulationtests/output_objects_2.rb' # Example of true / false constants\n",
    "file_name = 'model/simulationtests/airterminal_inletsidemixer.rb' # Example of Array.first\n",
    "file_name = 'model/simulationtests/daylighting_devices.rb' # Example of previously left over namespace stuff\n",
    "file_name = 'model/simulationtests/airterminal_fourpipebeam.rb' # Example of if xxx : continue\n",
    "port_file(file_name, verbose: false)"
   ]
  },
  {
   "cell_type": "code",
   "execution_count": null,
   "id": "17f64f1b",
   "metadata": {},
   "outputs": [],
   "source": [
    "Dir.glob('model/simulationtests/a*.rb').sort"
   ]
  },
  {
   "cell_type": "markdown",
   "id": "da1becf4",
   "metadata": {},
   "source": [
    "# Port all"
   ]
  },
  {
   "cell_type": "code",
   "execution_count": null,
   "id": "4fbd78fc",
   "metadata": {},
   "outputs": [],
   "source": [
    "ported_files = []\n",
    "invalid_syntax_files = []\n",
    "failed_files = []\n",
    "Dir.glob('model/simulationtests/*.rb').sort.each do |file|\n",
    "  begin\n",
    "    target_file, is_valid_syntax = port_file(file)\n",
    "    if is_valid_syntax\n",
    "      ported_files << target_file\n",
    "    else\n",
    "      invalid_syntax_files << target_file\n",
    "    end\n",
    "  rescue\n",
    "    puts \"Failed on #{file}\"\n",
    "    failed_files << file\n",
    "  end\n",
    "end"
   ]
  },
  {
   "cell_type": "code",
   "execution_count": null,
   "id": "48a8efab",
   "metadata": {},
   "outputs": [],
   "source": [
    "failed_files"
   ]
  },
  {
   "cell_type": "code",
   "execution_count": null,
   "id": "66dcd767",
   "metadata": {},
   "outputs": [],
   "source": [
    "ported_files.size"
   ]
  },
  {
   "cell_type": "code",
   "execution_count": null,
   "id": "15815631",
   "metadata": {},
   "outputs": [],
   "source": [
    "invalid_syntax_files.size"
   ]
  },
  {
   "cell_type": "code",
   "execution_count": null,
   "id": "f9df7c9e",
   "metadata": {},
   "outputs": [],
   "source": [
    "`black -l 120 model/simulationtests/additional_props.py`"
   ]
  },
  {
   "cell_type": "code",
   "execution_count": null,
   "id": "180499e1",
   "metadata": {},
   "outputs": [],
   "source": [
    "reformat_python_file"
   ]
  },
  {
   "cell_type": "code",
   "execution_count": null,
   "id": "7994985f",
   "metadata": {},
   "outputs": [],
   "source": [
    "invalid_syntax_files.reject!{|f| reformat_python_file(f)}"
   ]
  },
  {
   "cell_type": "code",
   "execution_count": null,
   "id": "a2613f19",
   "metadata": {},
   "outputs": [],
   "source": [
    "invalid_syntax_files.size"
   ]
  },
  {
   "cell_type": "code",
   "execution_count": null,
   "id": "ccf01200",
   "metadata": {},
   "outputs": [],
   "source": [
    "File.basename(ported_files[0]).sub('.py', '_py')"
   ]
  },
  {
   "cell_type": "code",
   "execution_count": null,
   "id": "b88ae4dc",
   "metadata": {},
   "outputs": [],
   "source": [
    "`openstudio --version`"
   ]
  },
  {
   "cell_type": "code",
   "execution_count": null,
   "id": "59ce6eef-efc9-490a-9669-8429729d7572",
   "metadata": {
    "tags": []
   },
   "outputs": [],
   "source": [
    "code = File.read(file_name)\n",
    "\n",
    "code.gsub!('.name.to_s', '.nameString')\n",
    "frozen_lit = \"# frozen_string_literal: true\\n\\n\"\n",
    "if code.start_with?(frozen_lit)\n",
    "  code = code[frozen_lit.size..]\n",
    "end\n",
    "source = RuboCop::AST::ProcessedSource.new(code, 2.7)\n",
    "source_buffer = source.buffer\n",
    "rewriter = Parser::Source::TreeRewriter.new(source_buffer)\n",
    "rule = ReplaceCaseWithIf.new(rewriter)\n",
    "source.ast.each_node { |n| rule.process(n) }\n",
    "puts rewriter.process"
   ]
  },
  {
   "cell_type": "code",
   "execution_count": null,
   "id": "822ecb37",
   "metadata": {},
   "outputs": [],
   "source": []
  },
  {
   "cell_type": "code",
   "execution_count": null,
   "id": "0affbb5f",
   "metadata": {},
   "outputs": [],
   "source": []
  },
  {
   "cell_type": "markdown",
   "id": "536673dc",
   "metadata": {},
   "source": [
    "# Test bed"
   ]
  },
  {
   "cell_type": "code",
   "execution_count": null,
   "id": "f645b8e4-b46f-448c-8e3a-1fcbd008a754",
   "metadata": {
    "tags": []
   },
   "outputs": [],
   "source": [
    "code = \"require openstudio; model = OpenStudio::Model::Model.new\\n\"\n",
    "source = RuboCop::AST::ProcessedSource.new(code, 2.7)"
   ]
  },
  {
   "cell_type": "code",
   "execution_count": null,
   "id": "df80fdc1",
   "metadata": {},
   "outputs": [],
   "source": [
    "class MyRule < Parser::AST::Processor\n",
    "  include RuboCop::AST::Traversal\n",
    "\n",
    "  def on_send(node)\n",
    "    # puts \"I found a on_send! #{node}\"\n",
    "    receiver_node, method_name, *arg_nodes = *node\n",
    "\n",
    "    receiver_node = process(receiver_node) if receiver_node\n",
    "    node.updated(nil, [\n",
    "      receiver_node, method_name, *process_all(arg_nodes)\n",
    "    ])\n",
    "    if method_name == :require\n",
    "      raise if arg_nodes.size != 1\n",
    "      req = arg_nodes[0]\n",
    "      raise if !req.str_type?\n",
    "      puts req.value\n",
    "    elsif method_name == :require_relative\n",
    "      raise if arg_nodes.size != 1\n",
    "      req = arg_nodes[0]\n",
    "      raise if !req.str_type?\n",
    "      raise if req.value != \"lib/baseline_model\"\n",
    "      puts req.value\n",
    "    end\n",
    "  end\n",
    "end\n",
    "\n",
    "rule = MyRule.new\n",
    "source.ast.each_node { |n| rule.process(n) }"
   ]
  },
  {
   "cell_type": "code",
   "execution_count": null,
   "id": "2451d372-1cfe-404b-b188-eacad6580c0c",
   "metadata": {
    "tags": []
   },
   "outputs": [],
   "source": [
    "file_name = \"model/simulationtests/absorption_chillers.rb\"\n",
    "file_name = \"model/simulationtests/availability_managers.rb\"\n",
    "\n",
    "file_name = \"model/simulationtests/afn_single_zone_ac.rb\"\n",
    "file_name = \"model/simulationtests/air_terminals.rb\""
   ]
  },
  {
   "cell_type": "code",
   "execution_count": null,
   "id": "ef206cdb",
   "metadata": {
    "tags": []
   },
   "outputs": [],
   "source": [
    "source_code = File.read(file_name)\n",
    "source = RuboCop::AST::ProcessedSource.from_file(file_name, 2.7);\n",
    "source_buffer = source.buffer"
   ]
  },
  {
   "cell_type": "code",
   "execution_count": null,
   "id": "9f0f9ce9",
   "metadata": {},
   "outputs": [],
   "source": [
    "rewriter = Parser::Source::TreeRewriter.new(source_buffer)\n",
    "rule = ReplaceCaseWithIf.new(rewriter)\n",
    "source.ast.each_node { |n| rule.process(n) }\n",
    "puts rewriter.process"
   ]
  },
  {
   "cell_type": "code",
   "execution_count": null,
   "id": "1ba93f38",
   "metadata": {
    "tags": []
   },
   "outputs": [],
   "source": [
    "# code = \"dehumidify_sch = OpenStudio::Model::ScheduleConstant.new(model)\"\n",
    "# source = RuboCop::AST::ProcessedSource.new(code, 2.7)"
   ]
  },
  {
   "cell_type": "code",
   "execution_count": null,
   "id": "80d2dece",
   "metadata": {
    "tags": []
   },
   "outputs": [],
   "source": [
    "node = source.ast.each_node.to_a[48]\n",
    "node"
   ]
  },
  {
   "cell_type": "code",
   "execution_count": null,
   "id": "0df65365",
   "metadata": {},
   "outputs": [],
   "source": [
    "source.ast.each_node.to_a[68]"
   ]
  },
  {
   "cell_type": "code",
   "execution_count": null,
   "id": "8c74a981",
   "metadata": {
    "tags": []
   },
   "outputs": [],
   "source": [
    "node = source.ast.each_node.select { |node|\n",
    "  next if !node.if_type?\n",
    "  node\n",
    "}[0]"
   ]
  },
  {
   "cell_type": "code",
   "execution_count": null,
   "id": "6a2c5d56",
   "metadata": {},
   "outputs": [],
   "source": [
    "source.ast"
   ]
  },
  {
   "cell_type": "code",
   "execution_count": null,
   "id": "8d109ffc-3a08-456c-90e2-5a1d06306a2e",
   "metadata": {
    "tags": []
   },
   "outputs": [],
   "source": [
    "node.parent&.const_type?"
   ]
  },
  {
   "cell_type": "code",
   "execution_count": null,
   "id": "6b48b1ef-d16d-4de4-8ecf-553ea1cdcf6e",
   "metadata": {
    "tags": []
   },
   "outputs": [],
   "source": [
    "node.short_name"
   ]
  },
  {
   "cell_type": "code",
   "execution_count": null,
   "id": "17747b01-1124-4654-925b-2c68f96a8ca3",
   "metadata": {
    "tags": []
   },
   "outputs": [],
   "source": [
    "node.short_name"
   ]
  },
  {
   "cell_type": "code",
   "execution_count": null,
   "id": "0df1a7cd-837b-4c63-851a-a616143ec029",
   "metadata": {
    "tags": []
   },
   "outputs": [],
   "source": [
    "node.loc.expression"
   ]
  },
  {
   "cell_type": "code",
   "execution_count": null,
   "id": "6a537e17-3687-4cf3-ba6c-edad1f5e5600",
   "metadata": {
    "tags": []
   },
   "outputs": [],
   "source": [
    "node.loc.name.source"
   ]
  },
  {
   "cell_type": "code",
   "execution_count": null,
   "id": "d36c1ed5-9171-435f-a0e9-67ebe43161b5",
   "metadata": {
    "tags": []
   },
   "outputs": [],
   "source": [
    "replacements[node.short_name]"
   ]
  },
  {
   "cell_type": "code",
   "execution_count": null,
   "id": "f211eab1-7c42-4d54-9f27-75acc78ac7b3",
   "metadata": {
    "tags": []
   },
   "outputs": [],
   "source": [
    "class ReplaceOpenStudioNamespace < Rule\n",
    "  def on_const(node)\n",
    "      \n",
    "    puts \"node=#{node}\"\n",
    "    return unless node.parent&.const_type?\n",
    "    puts \"OK, parent is const_type\"\n",
    "    replacements = {\n",
    "      :Airflow => \"airflow\",\n",
    "      :EnergyPlus => \"energyplus\",\n",
    "      :EPJSON => \"epjson\",\n",
    "      :GbXML => \"gbxml\",\n",
    "      :Gltf => \"gltf\",\n",
    "      :ISOModel => \"isomodel\",\n",
    "      :Measure => \"measure\",\n",
    "      :Model => \"model\",\n",
    "      :OSVersion => \"osversion\",\n",
    "      :Radiance => \"radiance\",\n",
    "      :SDD => \"sdd\",\n",
    "    }\n",
    "    \n",
    "    # Check if the node represents the top-level OpenStudio namespace\n",
    "    if !node.namespace && node.short_name == :OpenStudio\n",
    "      # Replace OpenStudio with openstudio\n",
    "      @rewriter.replace(node.loc.expression, 'openstudio')\n",
    "    else\n",
    "      puts \"node.namespace.short_name=#{node.namespace.short_name}\"\n",
    "      if node.namespace.short_name == :OpenStudio\n",
    "        # Replace Model with model\n",
    "        @rewriter.replace(node.loc.name, replacements[node.short_name])\n",
    "      end\n",
    "    end\n",
    "  end\n",
    "end"
   ]
  },
  {
   "cell_type": "code",
   "execution_count": null,
   "id": "6796bf94-f10d-40de-829c-42bc81f0e271",
   "metadata": {
    "tags": []
   },
   "outputs": [],
   "source": [
    "replacements = {\n",
    "  :Airflow => \"airflow\",\n",
    "  :EnergyPlus => \"energyplus\",\n",
    "  :EPJSON => \"epjson\",\n",
    "  :GbXML => \"gbxml\",\n",
    "  :Gltf => \"gltf\",\n",
    "  :ISOModel => \"isomodel\",\n",
    "  :Measure => \"measure\",\n",
    "  :Model => \"model\",\n",
    "  :OSVersion => \"osversion\",\n",
    "  :Radiance => \"radiance\",\n",
    "  :SDD => \"sdd\",\n",
    "}"
   ]
  },
  {
   "cell_type": "code",
   "execution_count": null,
   "id": "e187eda3-76c8-4b91-a756-27ad64e77ec2",
   "metadata": {
    "tags": []
   },
   "outputs": [],
   "source": [
    "node.loc.expression"
   ]
  },
  {
   "cell_type": "code",
   "execution_count": null,
   "id": "7cd38dc0-92b7-499b-9820-bf6933466e61",
   "metadata": {
    "tags": []
   },
   "outputs": [],
   "source": [
    "node.loc.name"
   ]
  },
  {
   "cell_type": "code",
   "execution_count": null,
   "id": "c7faaf87-3269-4310-8f86-79627ac9320b",
   "metadata": {
    "tags": []
   },
   "outputs": [],
   "source": []
  },
  {
   "cell_type": "code",
   "execution_count": null,
   "id": "93266247-5bf7-41fb-82e3-546db6d4dd92",
   "metadata": {
    "tags": []
   },
   "outputs": [],
   "source": [
    "node.child_nodes("
   ]
  },
  {
   "cell_type": "code",
   "execution_count": null,
   "id": "4d1075bb-4299-485e-9008-7af74bd84fea",
   "metadata": {
    "tags": []
   },
   "outputs": [],
   "source": [
    "node.const_name == :OpenStudio && node.parent && node.parent.const_type?"
   ]
  },
  {
   "cell_type": "code",
   "execution_count": null,
   "id": "a98cbd25-c1a8-41d2-9751-d80725e908dc",
   "metadata": {
    "tags": []
   },
   "outputs": [],
   "source": [
    "node.const_type?"
   ]
  },
  {
   "cell_type": "code",
   "execution_count": null,
   "id": "e01240a5-59b3-4769-af82-0e3c860e9d59",
   "metadata": {
    "tags": []
   },
   "outputs": [],
   "source": [
    "node.const_name"
   ]
  },
  {
   "cell_type": "code",
   "execution_count": null,
   "id": "a0cb1dc9-0aa6-4561-a999-95b895823add",
   "metadata": {
    "tags": []
   },
   "outputs": [],
   "source": [
    "node.parent.const_type?"
   ]
  },
  {
   "cell_type": "code",
   "execution_count": null,
   "id": "739e4c33-58ac-4c64-9186-29e769c34dfb",
   "metadata": {
    "tags": []
   },
   "outputs": [],
   "source": [
    "!node.namespace && node.short_name == :OpenStudio"
   ]
  },
  {
   "cell_type": "code",
   "execution_count": null,
   "id": "9b63da10-1d4f-40b3-8d15-21d780220c19",
   "metadata": {
    "tags": []
   },
   "outputs": [],
   "source": [
    "!node.namespace && node.short_name == :OpenStudio"
   ]
  },
  {
   "cell_type": "code",
   "execution_count": null,
   "id": "1e2edbf7-f922-40a4-b93c-4c07409c7f03",
   "metadata": {
    "tags": []
   },
   "outputs": [],
   "source": [
    "body."
   ]
  },
  {
   "cell_type": "code",
   "execution_count": null,
   "id": "244a5c66-f0de-4ac9-aac7-4da31ab7b8cc",
   "metadata": {},
   "outputs": [],
   "source": []
  },
  {
   "cell_type": "code",
   "execution_count": null,
   "id": "ce31d33e-2161-43b1-8003-5bc74539f152",
   "metadata": {
    "tags": []
   },
   "outputs": [],
   "source": [
    "node.method_name"
   ]
  },
  {
   "cell_type": "code",
   "execution_count": null,
   "id": "cf0d9e8f",
   "metadata": {
    "tags": []
   },
   "outputs": [],
   "source": [
    "node.child_nodes[0].method_name"
   ]
  },
  {
   "cell_type": "code",
   "execution_count": null,
   "id": "232ae128",
   "metadata": {
    "tags": []
   },
   "outputs": [],
   "source": [
    "node.child_nodes[1]"
   ]
  },
  {
   "cell_type": "code",
   "execution_count": null,
   "id": "2f60778b",
   "metadata": {
    "tags": []
   },
   "outputs": [],
   "source": [
    "node.child_nodes[2]"
   ]
  },
  {
   "cell_type": "code",
   "execution_count": null,
   "id": "5a94e51d",
   "metadata": {},
   "outputs": [],
   "source": []
  },
  {
   "cell_type": "code",
   "execution_count": null,
   "id": "0a2b521e",
   "metadata": {},
   "outputs": [],
   "source": [
    "$LIB_METHOD_NAMES = ['add_geometry',\n",
    " 'add_windows',\n",
    " 'set_constructions',\n",
    " 'add_daylighting',\n",
    " 'add_hvac',\n",
    " 'set_space_types',\n",
    " 'add_thermostats',\n",
    " 'add_design_days',\n",
    " 'force_year_description',\n",
    " 'save_openstudio_osm',\n",
    " 'add_standards',\n",
    " 'add_schedule',\n",
    " 'add_water_heater',\n",
    " 'add_swh_loop',\n",
    " 'add_swh_end_uses',\n",
    " 'rename_loop_nodes',\n",
    " 'rename_air_nodes'\n",
    "]"
   ]
  },
  {
   "cell_type": "code",
   "execution_count": null,
   "id": "858e4f57",
   "metadata": {
    "tags": []
   },
   "outputs": [],
   "source": [
    "print(source_code[node.loc.expression.begin_pos...node.loc.expression.end_pos])\n",
    "node.loc.expression.source.gsub('=>',':')"
   ]
  },
  {
   "cell_type": "code",
   "execution_count": null,
   "id": "7ff8c301",
   "metadata": {},
   "outputs": [],
   "source": [
    "node.send_type?"
   ]
  },
  {
   "cell_type": "code",
   "execution_count": null,
   "id": "b2467abe",
   "metadata": {},
   "outputs": [],
   "source": [
    "node.method_name"
   ]
  },
  {
   "cell_type": "code",
   "execution_count": null,
   "id": "e664f315",
   "metadata": {},
   "outputs": [],
   "source": [
    "source_code[node.loc.selector.begin_pos...node.loc.selector.end_pos]"
   ]
  },
  {
   "cell_type": "code",
   "execution_count": null,
   "id": "a0d8d862",
   "metadata": {},
   "outputs": [],
   "source": [
    "source_code"
   ]
  },
  {
   "cell_type": "code",
   "execution_count": null,
   "id": "8f9d33a6",
   "metadata": {},
   "outputs": [],
   "source": [
    "node = source.ast.each_node.to_a[8]\n",
    "node"
   ]
  },
  {
   "cell_type": "code",
   "execution_count": null,
   "id": "cfcdfe98",
   "metadata": {},
   "outputs": [],
   "source": [
    "node.method_name"
   ]
  },
  {
   "cell_type": "code",
   "execution_count": null,
   "id": "25b5314d-19eb-40a5-bcd1-9651657761ac",
   "metadata": {
    "tags": []
   },
   "outputs": [],
   "source": [
    "node = source.ast.each_node.select { |node|\n",
    "  next if !node.case_type?\n",
    "  node\n",
    "}[0]"
   ]
  },
  {
   "cell_type": "code",
   "execution_count": null,
   "id": "0d65da3f-012c-47af-b6c6-7773f077eeeb",
   "metadata": {
    "tags": []
   },
   "outputs": [],
   "source": [
    "node.loc"
   ]
  },
  {
   "cell_type": "code",
   "execution_count": null,
   "id": "d2fd5a57-d05f-44b8-9aec-97fe43a30650",
   "metadata": {},
   "outputs": [],
   "source": []
  },
  {
   "cell_type": "code",
   "execution_count": null,
   "id": "c5e35249",
   "metadata": {},
   "outputs": [],
   "source": [
    "node = source.ast.each_node.select { |node|\n",
    "  next if !node.send_type?\n",
    "  next if ! $LIB_METHOD_NAMES.include?(node.method_name.to_s)\n",
    "  node\n",
    "}[1]"
   ]
  },
  {
   "cell_type": "code",
   "execution_count": null,
   "id": "c23d1a70",
   "metadata": {},
   "outputs": [],
   "source": [
    "hash_node = node.arguments[0]\n",
    "hash_node"
   ]
  },
  {
   "cell_type": "code",
   "execution_count": null,
   "id": "b5f11ba6",
   "metadata": {},
   "outputs": [],
   "source": [
    "args = []\n",
    "hash_node.child_nodes.each do |pair_node|\n",
    "  raise if !pair_node.pair_type?\n",
    "  raise if pair_node.child_nodes.size != 2\n",
    "  raise if !pair_node.child_nodes[0].str_type?\n",
    "  args << \"#{pair_node.child_nodes[0].value}=#{pair_node.child_nodes[1].loc.expression.source}\"\n",
    "end\n",
    "puts args.join(', ')"
   ]
  },
  {
   "cell_type": "code",
   "execution_count": null,
   "id": "4f43fc02",
   "metadata": {},
   "outputs": [],
   "source": [
    "pair_node = hash_node.child_nodes[0]\n",
    "pair_node"
   ]
  },
  {
   "cell_type": "code",
   "execution_count": null,
   "id": "ca2e0859",
   "metadata": {},
   "outputs": [],
   "source": [
    "pair_node.child_nodes.size"
   ]
  },
  {
   "cell_type": "code",
   "execution_count": null,
   "id": "ecbf3bb4",
   "metadata": {},
   "outputs": [],
   "source": [
    "str_node = pair_node.child_nodes[0]"
   ]
  },
  {
   "cell_type": "code",
   "execution_count": null,
   "id": "fb2da940",
   "metadata": {},
   "outputs": [],
   "source": [
    "str_node.value"
   ]
  },
  {
   "cell_type": "code",
   "execution_count": null,
   "id": "961f7f53",
   "metadata": {},
   "outputs": [],
   "source": [
    "\"#{pair_node.child_nodes[0].loc.expression.source}=#{pair_node.child_nodes[1].loc.expression.source}\""
   ]
  },
  {
   "cell_type": "code",
   "execution_count": null,
   "id": "357f6b5d",
   "metadata": {},
   "outputs": [],
   "source": []
  },
  {
   "cell_type": "code",
   "execution_count": null,
   "id": "e760da8d",
   "metadata": {},
   "outputs": [],
   "source": []
  },
  {
   "cell_type": "code",
   "execution_count": null,
   "id": "3f961c6c",
   "metadata": {},
   "outputs": [],
   "source": [
    "child_node.child_nodes[0].value"
   ]
  },
  {
   "cell_type": "code",
   "execution_count": null,
   "id": "81bf0da8",
   "metadata": {},
   "outputs": [],
   "source": [
    "child_node.child_nodes[1].value"
   ]
  },
  {
   "cell_type": "code",
   "execution_count": null,
   "id": "fa79a121",
   "metadata": {},
   "outputs": [],
   "source": [
    "str_node = child_node.child_nodes[0]\n",
    "str_node"
   ]
  },
  {
   "cell_type": "code",
   "execution_count": null,
   "id": "bc370ce1",
   "metadata": {},
   "outputs": [],
   "source": []
  },
  {
   "cell_type": "code",
   "execution_count": null,
   "id": "e2b906c3",
   "metadata": {},
   "outputs": [],
   "source": []
  },
  {
   "cell_type": "code",
   "execution_count": null,
   "id": "ac94d394",
   "metadata": {},
   "outputs": [],
   "source": []
  },
  {
   "cell_type": "code",
   "execution_count": null,
   "id": "903acff9",
   "metadata": {},
   "outputs": [],
   "source": [
    "node.loc.expression.source.gsub('=>',':')"
   ]
  },
  {
   "cell_type": "code",
   "execution_count": null,
   "id": "5f973874",
   "metadata": {},
   "outputs": [],
   "source": [
    "print(source_code[node.loc.expression.begin_pos...node.loc.expression.end_pos])\n",
    "node.loc.expression.source.gsub('=>',':')"
   ]
  },
  {
   "cell_type": "code",
   "execution_count": null,
   "id": "ff52138d",
   "metadata": {},
   "outputs": [],
   "source": [
    "node.loc.expression.begin_pos"
   ]
  },
  {
   "cell_type": "code",
   "execution_count": null,
   "id": "28fd0896",
   "metadata": {},
   "outputs": [],
   "source": [
    "node = source.ast.each_node.to_a[24]\n",
    "node"
   ]
  },
  {
   "cell_type": "code",
   "execution_count": null,
   "id": "e38edbf5",
   "metadata": {},
   "outputs": [],
   "source": [
    "node.if?"
   ]
  },
  {
   "cell_type": "code",
   "execution_count": null,
   "id": "e0bd9c9f",
   "metadata": {},
   "outputs": [],
   "source": [
    "n = node.child_nodes[0]\n",
    "n"
   ]
  },
  {
   "cell_type": "code",
   "execution_count": null,
   "id": "07dd8d62",
   "metadata": {},
   "outputs": [],
   "source": [
    "n.method_name"
   ]
  },
  {
   "cell_type": "code",
   "execution_count": null,
   "id": "807d6679",
   "metadata": {},
   "outputs": [],
   "source": []
  },
  {
   "cell_type": "code",
   "execution_count": null,
   "id": "c37f6a20",
   "metadata": {},
   "outputs": [],
   "source": [
    "source_code[113...116]"
   ]
  },
  {
   "cell_type": "code",
   "execution_count": null,
   "id": "335831e8",
   "metadata": {},
   "outputs": [],
   "source": [
    "s = node.loc.expression.source_line\n",
    "puts s\n",
    "s.end_with?'()'"
   ]
  },
  {
   "cell_type": "code",
   "execution_count": null,
   "id": "8f2cc295",
   "metadata": {},
   "outputs": [],
   "source": [
    "source_code[node.loc.dot.begin_pos...node.loc.expression.end_pos]"
   ]
  },
  {
   "cell_type": "code",
   "execution_count": null,
   "id": "5b5db22e",
   "metadata": {},
   "outputs": [],
   "source": [
    "node.loc.expression.end"
   ]
  },
  {
   "cell_type": "code",
   "execution_count": null,
   "id": "b8ffb406",
   "metadata": {},
   "outputs": [],
   "source": [
    "source.ast.each_node.to_a[8]"
   ]
  },
  {
   "cell_type": "code",
   "execution_count": null,
   "id": "d74fc612",
   "metadata": {},
   "outputs": [],
   "source": [
    "node.loc"
   ]
  },
  {
   "cell_type": "code",
   "execution_count": null,
   "id": "eb29a7c9",
   "metadata": {},
   "outputs": [],
   "source": [
    "node.loc.expression.source_line.end_with?'()'"
   ]
  },
  {
   "cell_type": "code",
   "execution_count": null,
   "id": "d25766c2",
   "metadata": {},
   "outputs": [],
   "source": []
  },
  {
   "cell_type": "code",
   "execution_count": null,
   "id": "0d583324",
   "metadata": {},
   "outputs": [],
   "source": [
    "node.arguments.empty?"
   ]
  },
  {
   "cell_type": "code",
   "execution_count": null,
   "id": "50daab94",
   "metadata": {},
   "outputs": [],
   "source": [
    "\"BaselineModel.new\".size"
   ]
  },
  {
   "cell_type": "code",
   "execution_count": null,
   "id": "6674ecde",
   "metadata": {},
   "outputs": [],
   "source": [
    "node.receiver"
   ]
  },
  {
   "cell_type": "code",
   "execution_count": null,
   "id": "27e7ff0c",
   "metadata": {},
   "outputs": [],
   "source": [
    "source_code[113...116]"
   ]
  },
  {
   "cell_type": "code",
   "execution_count": null,
   "id": "c00fa480",
   "metadata": {},
   "outputs": [],
   "source": [
    "node.child_nodes"
   ]
  },
  {
   "cell_type": "code",
   "execution_count": null,
   "id": "e24e89f8",
   "metadata": {},
   "outputs": [],
   "source": []
  },
  {
   "cell_type": "code",
   "execution_count": null,
   "id": "6058d984",
   "metadata": {},
   "outputs": [],
   "source": [
    "node = source.ast.each_node.to_a[76]\n",
    "node"
   ]
  },
  {
   "cell_type": "code",
   "execution_count": null,
   "id": "f4b1b46a",
   "metadata": {},
   "outputs": [],
   "source": [
    "node = source.ast.each_node.to_a[77]\n",
    "node"
   ]
  },
  {
   "cell_type": "code",
   "execution_count": null,
   "id": "d31e513d",
   "metadata": {},
   "outputs": [],
   "source": [
    "node = source.ast.each_node.to_a[98]"
   ]
  },
  {
   "cell_type": "code",
   "execution_count": null,
   "id": "02eb6e51",
   "metadata": {},
   "outputs": [],
   "source": [
    "s = node.loc.expression.source_line\n",
    "puts s\n",
    "s.end_with?'()'"
   ]
  },
  {
   "cell_type": "code",
   "execution_count": null,
   "id": "b8f470bf",
   "metadata": {},
   "outputs": [],
   "source": []
  },
  {
   "cell_type": "code",
   "execution_count": null,
   "id": "e3b14895",
   "metadata": {},
   "outputs": [],
   "source": []
  },
  {
   "cell_type": "code",
   "execution_count": null,
   "id": "6aa6ff23",
   "metadata": {},
   "outputs": [],
   "source": [
    "node.arguments"
   ]
  },
  {
   "cell_type": "code",
   "execution_count": null,
   "id": "f86f84ab",
   "metadata": {},
   "outputs": [],
   "source": [
    "node.method_name"
   ]
  },
  {
   "cell_type": "code",
   "execution_count": null,
   "id": "edffdec2",
   "metadata": {},
   "outputs": [],
   "source": [
    "node.sibling_index"
   ]
  },
  {
   "cell_type": "code",
   "execution_count": null,
   "id": "9e6e99e9",
   "metadata": {},
   "outputs": [],
   "source": [
    "x = node.receiver\n",
    "x"
   ]
  },
  {
   "cell_type": "code",
   "execution_count": null,
   "id": "52c4566a",
   "metadata": {},
   "outputs": [],
   "source": [
    "x.const_type?"
   ]
  },
  {
   "cell_type": "code",
   "execution_count": null,
   "id": "7899a68a",
   "metadata": {},
   "outputs": [],
   "source": [
    "x.module_name?"
   ]
  },
  {
   "cell_type": "code",
   "execution_count": null,
   "id": "7c555e9b",
   "metadata": {},
   "outputs": [],
   "source": [
    "x.class_name?"
   ]
  },
  {
   "cell_type": "code",
   "execution_count": null,
   "id": "6d7aa9dd",
   "metadata": {},
   "outputs": [],
   "source": [
    "x"
   ]
  },
  {
   "cell_type": "code",
   "execution_count": null,
   "id": "6a77f00a",
   "metadata": {},
   "outputs": [],
   "source": []
  },
  {
   "cell_type": "code",
   "execution_count": null,
   "id": "b8cc1781",
   "metadata": {},
   "outputs": [],
   "source": []
  },
  {
   "cell_type": "code",
   "execution_count": null,
   "id": "28892c0b",
   "metadata": {},
   "outputs": [],
   "source": []
  },
  {
   "cell_type": "code",
   "execution_count": null,
   "id": "f8b81ac9",
   "metadata": {},
   "outputs": [],
   "source": [
    "x.const_type?"
   ]
  },
  {
   "cell_type": "code",
   "execution_count": null,
   "id": "2c525283",
   "metadata": {},
   "outputs": [],
   "source": [
    "x.children[0].children[0]"
   ]
  },
  {
   "cell_type": "code",
   "execution_count": null,
   "id": "c19a4ea0",
   "metadata": {},
   "outputs": [],
   "source": [
    "x.children[0]"
   ]
  },
  {
   "cell_type": "code",
   "execution_count": null,
   "id": "601f778d",
   "metadata": {},
   "outputs": [],
   "source": []
  },
  {
   "cell_type": "code",
   "execution_count": null,
   "id": "064daef5",
   "metadata": {},
   "outputs": [],
   "source": []
  },
  {
   "cell_type": "code",
   "execution_count": null,
   "id": "95aabe6d",
   "metadata": {},
   "outputs": [],
   "source": [
    "node.child_nodes"
   ]
  },
  {
   "cell_type": "code",
   "execution_count": null,
   "id": "4626f14f",
   "metadata": {},
   "outputs": [],
   "source": [
    "x.const_name"
   ]
  },
  {
   "cell_type": "code",
   "execution_count": null,
   "id": "96fca80c",
   "metadata": {},
   "outputs": [],
   "source": []
  },
  {
   "cell_type": "code",
   "execution_count": null,
   "id": "b928205e",
   "metadata": {},
   "outputs": [],
   "source": [
    "receiver_node, method_name, *arg_nodes = *node"
   ]
  },
  {
   "cell_type": "code",
   "execution_count": null,
   "id": "34470756",
   "metadata": {},
   "outputs": [],
   "source": [
    "node.method_name"
   ]
  },
  {
   "cell_type": "code",
   "execution_count": null,
   "id": "d50f70ee",
   "metadata": {},
   "outputs": [],
   "source": [
    "node.child_nodes"
   ]
  },
  {
   "cell_type": "code",
   "execution_count": null,
   "id": "21bc7cc5",
   "metadata": {},
   "outputs": [],
   "source": [
    "req = arg_nodes[0]"
   ]
  },
  {
   "cell_type": "code",
   "execution_count": null,
   "id": "cbe42a39",
   "metadata": {},
   "outputs": [],
   "source": [
    "req.str_type?"
   ]
  },
  {
   "cell_type": "code",
   "execution_count": null,
   "id": "9ed36a0d",
   "metadata": {},
   "outputs": [],
   "source": [
    "req.value ."
   ]
  },
  {
   "cell_type": "code",
   "execution_count": null,
   "id": "72bdabda",
   "metadata": {},
   "outputs": [],
   "source": [
    "node.loc.selector"
   ]
  },
  {
   "cell_type": "code",
   "execution_count": null,
   "id": "ce5d365f",
   "metadata": {},
   "outputs": [],
   "source": [
    "\"require 'openstudio'\".size"
   ]
  },
  {
   "cell_type": "code",
   "execution_count": null,
   "id": "40166b6d",
   "metadata": {},
   "outputs": [],
   "source": [
    "\"require\".size"
   ]
  },
  {
   "cell_type": "code",
   "execution_count": null,
   "id": "eef064ce",
   "metadata": {},
   "outputs": [],
   "source": [
    "node.loc.selector"
   ]
  },
  {
   "cell_type": "code",
   "execution_count": null,
   "id": "3088d34a",
   "metadata": {},
   "outputs": [],
   "source": [
    "node.loc.expression.begin_pos"
   ]
  },
  {
   "cell_type": "code",
   "execution_count": null,
   "id": "cf789948",
   "metadata": {},
   "outputs": [],
   "source": [
    "node.loc.expression.end_pos"
   ]
  },
  {
   "cell_type": "code",
   "execution_count": null,
   "id": "bef2dd44",
   "metadata": {},
   "outputs": [],
   "source": [
    "node.loc"
   ]
  },
  {
   "cell_type": "code",
   "execution_count": null,
   "id": "bfad6668",
   "metadata": {},
   "outputs": [],
   "source": []
  }
 ],
 "metadata": {
  "kernelspec": {
   "display_name": "Ruby 2.7.2",
   "language": "ruby",
   "name": "ruby"
  },
  "language_info": {
   "file_extension": ".rb",
   "mimetype": "application/x-ruby",
   "name": "ruby",
   "version": "2.7.2"
  },
  "toc": {
   "base_numbering": 1,
   "nav_menu": {},
   "number_sections": true,
   "sideBar": true,
   "skip_h1_title": false,
   "title_cell": "Table of Contents",
   "title_sidebar": "Contents",
   "toc_cell": false,
   "toc_position": {
    "height": "calc(100% - 180px)",
    "left": "10px",
    "top": "150px",
    "width": "345.6px"
   },
   "toc_section_display": true,
   "toc_window_display": true
  }
 },
 "nbformat": 4,
 "nbformat_minor": 5
}
