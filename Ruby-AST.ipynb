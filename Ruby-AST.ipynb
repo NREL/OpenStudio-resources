{
 "cells": [
  {
   "cell_type": "code",
   "execution_count": null,
   "id": "e7a3c3f4",
   "metadata": {},
   "outputs": [],
   "source": [
    "require 'parser/current'\n",
    "# opt-in to most recent AST format:\n",
    "Parser::Builders::Default.emit_lambda              = true"
   ]
  },
  {
   "cell_type": "code",
   "execution_count": null,
   "id": "299d52d8",
   "metadata": {},
   "outputs": [],
   "source": [
    "ruby_ast.type?"
   ]
  },
  {
   "cell_type": "code",
   "execution_count": null,
   "id": "8fc885e1",
   "metadata": {},
   "outputs": [],
   "source": [
    "require 'rubocop-ast'"
   ]
  },
  {
   "cell_type": "code",
   "execution_count": null,
   "id": "82f24a6d",
   "metadata": {},
   "outputs": [],
   "source": [
    "class Rule < Parser::AST::Processor\n",
    "  include RuboCop::AST::Traversal\n",
    "\n",
    "  def initialize(rewriter)\n",
    "    @rewriter = rewriter\n",
    "  end\n",
    "\n",
    "  def create_range(begin_pos, end_pos)\n",
    "    Parser::Source::Range.new(@rewriter.source_buffer, begin_pos, end_pos)\n",
    "  end\n",
    "end\n",
    "\n",
    "\n",
    "class ReplaceRequire < Rule\n",
    "  def on_send(node)\n",
    "    if node.method_name == :require\n",
    "      raise if node.child_nodes.size != 1\n",
    "      req = node.child_nodes[0]\n",
    "      raise if !req.str_type?\n",
    "      @rewriter.replace(node.loc.expression, \"import #{req.value}\")\n",
    "    elsif node.method_name == :require_relative\n",
    "      raise if node.child_nodes.size != 1\n",
    "      req = node.child_nodes[0]\n",
    "      raise if !req.str_type?\n",
    "      if req.value == \"lib/baseline_model\"\n",
    "        @rewriter.replace(node.loc.expression, \"from lib.baseline_model import BaselineModel\")\n",
    "      else\n",
    "        raise if req.value != \"lib/baseline_model\"\n",
    "      end\n",
    "    end\n",
    "  end\n",
    "end\n",
    "\n",
    "class ReplaceNew < Rule\n",
    "  def on_send(node)\n",
    "    if node.method_name == :new\n",
    "      range = create_range(node.loc.dot.begin_pos, node.loc.selector.end_pos)\n",
    "      @rewriter.replace(range, '')\n",
    "      puts node.receiver\n",
    "    end\n",
    "  end\n",
    "end\n",
    "\n",
    "class AddParenthesesToMethods < Rule\n",
    "  def on_send(node)\n",
    "    if node.arguments.empty? && !(node.loc.expression.source_line.end_with?('()'))\n",
    "      range = create_range(node.loc.expression.end_pos, node.loc.expression.end_pos)\n",
    "      @rewriter.replace(range, '()')\n",
    "      puts node.receiver\n",
    "    end\n",
    "  end\n",
    "end\n",
    "\n",
    "class ProcessHash < Rule\n",
    "  def on_hash(node)\n",
    "    # @rewriter.replace(node.loc.expression, node.loc.expression.source.gsub('=>',':'))\n",
    "    \n",
    "    args = []\n",
    "    node.child_nodes.each do |pair_node|\n",
    "      raise if !pair_node.pair_type?\n",
    "      raise if pair_node.child_nodes.size != 2\n",
    "      raise if !pair_node.child_nodes[0].str_type?\n",
    "      args << \"#{pair_node.child_nodes[0].value}=#{pair_node.child_nodes[1].loc.expression.source}\"\n",
    "    end\n",
    "    @rewriter.replace(node.loc.expression, args.join(', '))\n",
    "  end\n",
    "end"
   ]
  },
  {
   "cell_type": "code",
   "execution_count": null,
   "id": "e3c07c09",
   "metadata": {},
   "outputs": [],
   "source": [
    "# Main method.\n",
    "def process_file(file, rule_classes=[AddParenthesesToMethods, ReplaceRequire, ReplaceNew, ProcessHash])\n",
    "  return unless File.exist?(file)\n",
    "  code = File.read(file)\n",
    "  frozen_lit = \"# frozen_string_literal: true\\n\\n\"\n",
    "  if code.start_with?(frozen_lit)\n",
    "    code = code[frozen_lit.size..]\n",
    "  end\n",
    "  \n",
    "  rule_classes.each do |rule_class|\n",
    "    code = process_rule(rule_class, code)\n",
    "  end\n",
    "  code\n",
    "end\n",
    "\n",
    "def process_rule(rule_class, code)\n",
    "  source = RuboCop::AST::ProcessedSource.new(code, 2.7)\n",
    "  source_buffer = source.buffer\n",
    "  rewriter = Parser::Source::TreeRewriter.new(source_buffer)\n",
    "  rule = rule_class.new(rewriter)\n",
    "  source.ast.each_node { |n| rule.process(n) }\n",
    "  rewriter.process\n",
    "end"
   ]
  },
  {
   "cell_type": "code",
   "execution_count": null,
   "id": "d05a7e3f",
   "metadata": {},
   "outputs": [],
   "source": [
    "file_name = 'model/simulationtests/humidity_control.rb'\n",
    "file_name = 'model/simulationtests/test_port.rb'\n",
    "file_name = 'model/simulationtests/baseline_sys01.rb'\n",
    "file_name = 'model/simulationtests/baseline_sys02.rb'"
   ]
  },
  {
   "cell_type": "code",
   "execution_count": null,
   "id": "15bcbb4b",
   "metadata": {},
   "outputs": [],
   "source": [
    "def port_file(file_name)\n",
    "  code = process_file(file_name)\n",
    "  code.gsub!('OpenStudio::Model::', 'openstudio.model.')\n",
    "  code.gsub!('Dir.pwd()', 'None')\n",
    "  puts \"=\" * 80\n",
    "  puts code\n",
    "\n",
    "  target_file = File.join(File.dirname(file_name), File.basename(file_name, '.rb') + '.py')\n",
    "  puts \"tatget file: #{target_file}\"\n",
    "\n",
    "  File.write(target_file, code)\n",
    "end"
   ]
  },
  {
   "cell_type": "code",
   "execution_count": null,
   "id": "eaec98bd",
   "metadata": {},
   "outputs": [],
   "source": [
    "[\"01\", \"02\", \"03\", \"04\", \"05\", \"06\", \"07\", \"08\", \"09\", \"10\"].each do |sys_num|\n",
    "  port_file(\"model/simulationtests/baseline_sys#{sys_num}.rb\")\n",
    "end"
   ]
  },
  {
   "cell_type": "markdown",
   "id": "536673dc",
   "metadata": {},
   "source": [
    "## Test bed"
   ]
  },
  {
   "cell_type": "code",
   "execution_count": null,
   "id": "df80fdc1",
   "metadata": {},
   "outputs": [],
   "source": [
    "\n",
    "\n",
    "class MyRule < Parser::AST::Processor\n",
    "  include RuboCop::AST::Traversal\n",
    "\n",
    "  def on_send(node)\n",
    "    # puts \"I found a on_send! #{node}\"\n",
    "    receiver_node, method_name, *arg_nodes = *node\n",
    "\n",
    "    receiver_node = process(receiver_node) if receiver_node\n",
    "    node.updated(nil, [\n",
    "      receiver_node, method_name, *process_all(arg_nodes)\n",
    "    ])\n",
    "    if method_name == :require\n",
    "      raise if arg_nodes.size != 1\n",
    "      req = arg_nodes[0]\n",
    "      raise if !req.str_type?\n",
    "      puts req.value\n",
    "    elsif method_name == :require_relative\n",
    "      raise if arg_nodes.size != 1\n",
    "      req = arg_nodes[0]\n",
    "      raise if !req.str_type?\n",
    "      raise if req.value != \"lib/baseline_model\"\n",
    "      puts req.value\n",
    "    end\n",
    "  end\n",
    "end\n",
    "\n",
    "rule = MyRule.new\n",
    "source.ast.each_node { |n| rule.process(n) }"
   ]
  },
  {
   "cell_type": "code",
   "execution_count": null,
   "id": "ef206cdb",
   "metadata": {},
   "outputs": [],
   "source": [
    "source_code = File.read(file_name)\n",
    "source = RuboCop::AST::ProcessedSource.from_file(file_name, 2.7)"
   ]
  },
  {
   "cell_type": "code",
   "execution_count": null,
   "id": "12d53f0f",
   "metadata": {},
   "outputs": [],
   "source": [
    "rule.on_hash"
   ]
  },
  {
   "cell_type": "code",
   "execution_count": null,
   "id": "dde3fc17",
   "metadata": {},
   "outputs": [],
   "source": []
  },
  {
   "cell_type": "code",
   "execution_count": null,
   "id": "1ba93f38",
   "metadata": {},
   "outputs": [],
   "source": [
    "# code = \"dehumidify_sch = OpenStudio::Model::ScheduleConstant.new(model)\"\n",
    "# source = RuboCop::AST::ProcessedSource.new(code, 2.7)"
   ]
  },
  {
   "cell_type": "code",
   "execution_count": null,
   "id": "80d2dece",
   "metadata": {},
   "outputs": [],
   "source": [
    "node = source.ast.each_node.to_a[6]\n",
    "node"
   ]
  },
  {
   "cell_type": "code",
   "execution_count": null,
   "id": "0df65365",
   "metadata": {},
   "outputs": [],
   "source": [
    "source.ast.each_node.to_a[68]"
   ]
  },
  {
   "cell_type": "code",
   "execution_count": null,
   "id": "8c74a981",
   "metadata": {},
   "outputs": [],
   "source": []
  },
  {
   "cell_type": "code",
   "execution_count": null,
   "id": "cf0d9e8f",
   "metadata": {},
   "outputs": [],
   "source": []
  },
  {
   "cell_type": "code",
   "execution_count": null,
   "id": "232ae128",
   "metadata": {},
   "outputs": [],
   "source": []
  },
  {
   "cell_type": "code",
   "execution_count": null,
   "id": "2f60778b",
   "metadata": {},
   "outputs": [],
   "source": []
  },
  {
   "cell_type": "code",
   "execution_count": null,
   "id": "5a94e51d",
   "metadata": {},
   "outputs": [],
   "source": []
  },
  {
   "cell_type": "code",
   "execution_count": null,
   "id": "0a2b521e",
   "metadata": {},
   "outputs": [],
   "source": [
    "$LIB_METHOD_NAMES = ['add_geometry',\n",
    " 'add_windows',\n",
    " 'set_constructions',\n",
    " 'add_daylighting',\n",
    " 'add_hvac',\n",
    " 'set_space_types',\n",
    " 'add_thermostats',\n",
    " 'add_design_days',\n",
    " 'force_year_description',\n",
    " 'save_openstudio_osm',\n",
    " 'add_standards',\n",
    " 'add_schedule',\n",
    " 'add_water_heater',\n",
    " 'add_swh_loop',\n",
    " 'add_swh_end_uses',\n",
    " 'rename_loop_nodes',\n",
    " 'rename_air_nodes'\n",
    "]"
   ]
  },
  {
   "cell_type": "code",
   "execution_count": null,
   "id": "858e4f57",
   "metadata": {},
   "outputs": [],
   "source": []
  },
  {
   "cell_type": "code",
   "execution_count": null,
   "id": "7ff8c301",
   "metadata": {},
   "outputs": [],
   "source": [
    "node.send_type?"
   ]
  },
  {
   "cell_type": "code",
   "execution_count": null,
   "id": "b2467abe",
   "metadata": {},
   "outputs": [],
   "source": [
    "node.method_name"
   ]
  },
  {
   "cell_type": "code",
   "execution_count": null,
   "id": "e664f315",
   "metadata": {},
   "outputs": [],
   "source": [
    "source_code[node.loc.selector.begin_pos...node.loc.selector.end_pos]"
   ]
  },
  {
   "cell_type": "code",
   "execution_count": null,
   "id": "a0d8d862",
   "metadata": {},
   "outputs": [],
   "source": [
    "source_code"
   ]
  },
  {
   "cell_type": "code",
   "execution_count": null,
   "id": "8f9d33a6",
   "metadata": {},
   "outputs": [],
   "source": [
    "node = source.ast.each_node.to_a[8]\n",
    "node"
   ]
  },
  {
   "cell_type": "code",
   "execution_count": null,
   "id": "cfcdfe98",
   "metadata": {},
   "outputs": [],
   "source": [
    "node.method_name"
   ]
  },
  {
   "cell_type": "code",
   "execution_count": null,
   "id": "c5e35249",
   "metadata": {},
   "outputs": [],
   "source": [
    "node = source.ast.each_node.select { |node|\n",
    "  next if !node.send_type?\n",
    "  next if ! $LIB_METHOD_NAMES.include?(node.method_name.to_s)\n",
    "  node\n",
    "}[1]"
   ]
  },
  {
   "cell_type": "code",
   "execution_count": null,
   "id": "c23d1a70",
   "metadata": {},
   "outputs": [],
   "source": [
    "hash_node = node.arguments[0]\n",
    "hash_node"
   ]
  },
  {
   "cell_type": "code",
   "execution_count": null,
   "id": "b5f11ba6",
   "metadata": {},
   "outputs": [],
   "source": [
    "args = []\n",
    "hash_node.child_nodes.each do |pair_node|\n",
    "  raise if !pair_node.pair_type?\n",
    "  raise if pair_node.child_nodes.size != 2\n",
    "  raise if !pair_node.child_nodes[0].str_type?\n",
    "  args << \"#{pair_node.child_nodes[0].value}=#{pair_node.child_nodes[1].loc.expression.source}\"\n",
    "end\n",
    "puts args.join(', ')"
   ]
  },
  {
   "cell_type": "code",
   "execution_count": null,
   "id": "4f43fc02",
   "metadata": {},
   "outputs": [],
   "source": [
    "pair_node = hash_node.child_nodes[0]\n",
    "pair_node"
   ]
  },
  {
   "cell_type": "code",
   "execution_count": null,
   "id": "ca2e0859",
   "metadata": {},
   "outputs": [],
   "source": [
    "pair_node.child_nodes.size"
   ]
  },
  {
   "cell_type": "code",
   "execution_count": null,
   "id": "ecbf3bb4",
   "metadata": {},
   "outputs": [],
   "source": [
    "str_node = pair_node.child_nodes[0]"
   ]
  },
  {
   "cell_type": "code",
   "execution_count": null,
   "id": "fb2da940",
   "metadata": {},
   "outputs": [],
   "source": [
    "str_node.value"
   ]
  },
  {
   "cell_type": "code",
   "execution_count": null,
   "id": "961f7f53",
   "metadata": {},
   "outputs": [],
   "source": [
    "\"#{pair_node.child_nodes[0].loc.expression.source}=#{pair_node.child_nodes[1].loc.expression.source}\""
   ]
  },
  {
   "cell_type": "code",
   "execution_count": null,
   "id": "357f6b5d",
   "metadata": {},
   "outputs": [],
   "source": []
  },
  {
   "cell_type": "code",
   "execution_count": null,
   "id": "e760da8d",
   "metadata": {},
   "outputs": [],
   "source": []
  },
  {
   "cell_type": "code",
   "execution_count": null,
   "id": "3f961c6c",
   "metadata": {},
   "outputs": [],
   "source": [
    "child_node.child_nodes[0].value"
   ]
  },
  {
   "cell_type": "code",
   "execution_count": null,
   "id": "81bf0da8",
   "metadata": {},
   "outputs": [],
   "source": [
    "child_node.child_nodes[1].value"
   ]
  },
  {
   "cell_type": "code",
   "execution_count": null,
   "id": "fa79a121",
   "metadata": {},
   "outputs": [],
   "source": [
    "str_node = child_node.child_nodes[0]\n",
    "str_node"
   ]
  },
  {
   "cell_type": "code",
   "execution_count": null,
   "id": "bc370ce1",
   "metadata": {},
   "outputs": [],
   "source": []
  },
  {
   "cell_type": "code",
   "execution_count": null,
   "id": "e2b906c3",
   "metadata": {},
   "outputs": [],
   "source": []
  },
  {
   "cell_type": "code",
   "execution_count": null,
   "id": "ac94d394",
   "metadata": {},
   "outputs": [],
   "source": []
  },
  {
   "cell_type": "code",
   "execution_count": null,
   "id": "903acff9",
   "metadata": {},
   "outputs": [],
   "source": [
    "node.loc.expression.source.gsub('=>',':')"
   ]
  },
  {
   "cell_type": "code",
   "execution_count": null,
   "id": "5f973874",
   "metadata": {},
   "outputs": [],
   "source": [
    "print(source_code[node.loc.expression.begin_pos...node.loc.expression.end_pos])\n",
    "node.loc.expression.source.gsub('=>',':')"
   ]
  },
  {
   "cell_type": "code",
   "execution_count": null,
   "id": "ff52138d",
   "metadata": {},
   "outputs": [],
   "source": [
    "node.loc.expression.begin_pos"
   ]
  },
  {
   "cell_type": "code",
   "execution_count": null,
   "id": "28fd0896",
   "metadata": {},
   "outputs": [],
   "source": [
    "node = source.ast.each_node.to_a[24]\n",
    "node"
   ]
  },
  {
   "cell_type": "code",
   "execution_count": null,
   "id": "e38edbf5",
   "metadata": {},
   "outputs": [],
   "source": [
    "node.if?"
   ]
  },
  {
   "cell_type": "code",
   "execution_count": null,
   "id": "e0bd9c9f",
   "metadata": {},
   "outputs": [],
   "source": [
    "n = node.child_nodes[0]\n",
    "n"
   ]
  },
  {
   "cell_type": "code",
   "execution_count": null,
   "id": "07dd8d62",
   "metadata": {},
   "outputs": [],
   "source": [
    "n.method_name"
   ]
  },
  {
   "cell_type": "code",
   "execution_count": null,
   "id": "807d6679",
   "metadata": {},
   "outputs": [],
   "source": []
  },
  {
   "cell_type": "code",
   "execution_count": null,
   "id": "c37f6a20",
   "metadata": {},
   "outputs": [],
   "source": [
    "source_code[113...116]"
   ]
  },
  {
   "cell_type": "code",
   "execution_count": null,
   "id": "335831e8",
   "metadata": {},
   "outputs": [],
   "source": [
    "s = node.loc.expression.source_line\n",
    "puts s\n",
    "s.end_with?'()'"
   ]
  },
  {
   "cell_type": "code",
   "execution_count": null,
   "id": "8f2cc295",
   "metadata": {},
   "outputs": [],
   "source": [
    "source_code[node.loc.dot.begin_pos...node.loc.expression.end_pos]"
   ]
  },
  {
   "cell_type": "code",
   "execution_count": null,
   "id": "5b5db22e",
   "metadata": {},
   "outputs": [],
   "source": [
    "node.loc.expression.end"
   ]
  },
  {
   "cell_type": "code",
   "execution_count": null,
   "id": "b8ffb406",
   "metadata": {},
   "outputs": [],
   "source": [
    "source.ast.each_node.to_a[8]"
   ]
  },
  {
   "cell_type": "code",
   "execution_count": null,
   "id": "d74fc612",
   "metadata": {},
   "outputs": [],
   "source": [
    "node.loc"
   ]
  },
  {
   "cell_type": "code",
   "execution_count": null,
   "id": "eb29a7c9",
   "metadata": {},
   "outputs": [],
   "source": [
    "node.loc.expression.source_line.end_with?'()'"
   ]
  },
  {
   "cell_type": "code",
   "execution_count": null,
   "id": "d25766c2",
   "metadata": {},
   "outputs": [],
   "source": []
  },
  {
   "cell_type": "code",
   "execution_count": null,
   "id": "0d583324",
   "metadata": {},
   "outputs": [],
   "source": [
    "node.arguments.empty?"
   ]
  },
  {
   "cell_type": "code",
   "execution_count": null,
   "id": "50daab94",
   "metadata": {},
   "outputs": [],
   "source": [
    "\"BaselineModel.new\".size"
   ]
  },
  {
   "cell_type": "code",
   "execution_count": null,
   "id": "6674ecde",
   "metadata": {},
   "outputs": [],
   "source": [
    "node.receiver"
   ]
  },
  {
   "cell_type": "code",
   "execution_count": null,
   "id": "27e7ff0c",
   "metadata": {},
   "outputs": [],
   "source": [
    "source_code[113...116]"
   ]
  },
  {
   "cell_type": "code",
   "execution_count": null,
   "id": "c00fa480",
   "metadata": {},
   "outputs": [],
   "source": [
    "node.child_nodes"
   ]
  },
  {
   "cell_type": "code",
   "execution_count": null,
   "id": "e24e89f8",
   "metadata": {},
   "outputs": [],
   "source": []
  },
  {
   "cell_type": "code",
   "execution_count": null,
   "id": "6058d984",
   "metadata": {},
   "outputs": [],
   "source": [
    "node = source.ast.each_node.to_a[76]\n",
    "node"
   ]
  },
  {
   "cell_type": "code",
   "execution_count": null,
   "id": "f4b1b46a",
   "metadata": {},
   "outputs": [],
   "source": [
    "node = source.ast.each_node.to_a[77]\n",
    "node"
   ]
  },
  {
   "cell_type": "code",
   "execution_count": null,
   "id": "d31e513d",
   "metadata": {},
   "outputs": [],
   "source": [
    "node = source.ast.each_node.to_a[98]"
   ]
  },
  {
   "cell_type": "code",
   "execution_count": null,
   "id": "02eb6e51",
   "metadata": {},
   "outputs": [],
   "source": [
    "s = node.loc.expression.source_line\n",
    "puts s\n",
    "s.end_with?'()'"
   ]
  },
  {
   "cell_type": "code",
   "execution_count": null,
   "id": "b8f470bf",
   "metadata": {},
   "outputs": [],
   "source": []
  },
  {
   "cell_type": "code",
   "execution_count": null,
   "id": "e3b14895",
   "metadata": {},
   "outputs": [],
   "source": []
  },
  {
   "cell_type": "code",
   "execution_count": null,
   "id": "6aa6ff23",
   "metadata": {},
   "outputs": [],
   "source": [
    "node.arguments"
   ]
  },
  {
   "cell_type": "code",
   "execution_count": null,
   "id": "f86f84ab",
   "metadata": {},
   "outputs": [],
   "source": [
    "node.method_name"
   ]
  },
  {
   "cell_type": "code",
   "execution_count": null,
   "id": "edffdec2",
   "metadata": {},
   "outputs": [],
   "source": [
    "node.sibling_index"
   ]
  },
  {
   "cell_type": "code",
   "execution_count": null,
   "id": "9e6e99e9",
   "metadata": {},
   "outputs": [],
   "source": [
    "x = node.receiver\n",
    "x"
   ]
  },
  {
   "cell_type": "code",
   "execution_count": null,
   "id": "52c4566a",
   "metadata": {},
   "outputs": [],
   "source": [
    "x.const_type?"
   ]
  },
  {
   "cell_type": "code",
   "execution_count": null,
   "id": "7899a68a",
   "metadata": {},
   "outputs": [],
   "source": [
    "x.module_name?"
   ]
  },
  {
   "cell_type": "code",
   "execution_count": null,
   "id": "7c555e9b",
   "metadata": {},
   "outputs": [],
   "source": [
    "x.class_name?"
   ]
  },
  {
   "cell_type": "code",
   "execution_count": null,
   "id": "6d7aa9dd",
   "metadata": {},
   "outputs": [],
   "source": [
    "x"
   ]
  },
  {
   "cell_type": "code",
   "execution_count": null,
   "id": "6a77f00a",
   "metadata": {},
   "outputs": [],
   "source": []
  },
  {
   "cell_type": "code",
   "execution_count": null,
   "id": "b8cc1781",
   "metadata": {},
   "outputs": [],
   "source": []
  },
  {
   "cell_type": "code",
   "execution_count": null,
   "id": "28892c0b",
   "metadata": {},
   "outputs": [],
   "source": []
  },
  {
   "cell_type": "code",
   "execution_count": null,
   "id": "f8b81ac9",
   "metadata": {},
   "outputs": [],
   "source": [
    "x.const_type?"
   ]
  },
  {
   "cell_type": "code",
   "execution_count": null,
   "id": "2c525283",
   "metadata": {},
   "outputs": [],
   "source": [
    "x.children[0].children[0]"
   ]
  },
  {
   "cell_type": "code",
   "execution_count": null,
   "id": "c19a4ea0",
   "metadata": {},
   "outputs": [],
   "source": [
    "x.children[0]"
   ]
  },
  {
   "cell_type": "code",
   "execution_count": null,
   "id": "601f778d",
   "metadata": {},
   "outputs": [],
   "source": []
  },
  {
   "cell_type": "code",
   "execution_count": null,
   "id": "064daef5",
   "metadata": {},
   "outputs": [],
   "source": []
  },
  {
   "cell_type": "code",
   "execution_count": null,
   "id": "95aabe6d",
   "metadata": {},
   "outputs": [],
   "source": [
    "node.child_nodes"
   ]
  },
  {
   "cell_type": "code",
   "execution_count": null,
   "id": "4626f14f",
   "metadata": {},
   "outputs": [],
   "source": [
    "x.const_name"
   ]
  },
  {
   "cell_type": "code",
   "execution_count": null,
   "id": "96fca80c",
   "metadata": {},
   "outputs": [],
   "source": []
  },
  {
   "cell_type": "code",
   "execution_count": null,
   "id": "b928205e",
   "metadata": {},
   "outputs": [],
   "source": [
    "receiver_node, method_name, *arg_nodes = *node"
   ]
  },
  {
   "cell_type": "code",
   "execution_count": null,
   "id": "34470756",
   "metadata": {},
   "outputs": [],
   "source": [
    "node.method_name"
   ]
  },
  {
   "cell_type": "code",
   "execution_count": null,
   "id": "d50f70ee",
   "metadata": {},
   "outputs": [],
   "source": [
    "node.child_nodes"
   ]
  },
  {
   "cell_type": "code",
   "execution_count": null,
   "id": "21bc7cc5",
   "metadata": {},
   "outputs": [],
   "source": [
    "req = arg_nodes[0]"
   ]
  },
  {
   "cell_type": "code",
   "execution_count": null,
   "id": "cbe42a39",
   "metadata": {},
   "outputs": [],
   "source": [
    "req.str_type?"
   ]
  },
  {
   "cell_type": "code",
   "execution_count": null,
   "id": "9ed36a0d",
   "metadata": {},
   "outputs": [],
   "source": [
    "req.value ."
   ]
  },
  {
   "cell_type": "code",
   "execution_count": null,
   "id": "72bdabda",
   "metadata": {},
   "outputs": [],
   "source": [
    "node.loc.selector"
   ]
  },
  {
   "cell_type": "code",
   "execution_count": null,
   "id": "ce5d365f",
   "metadata": {},
   "outputs": [],
   "source": [
    "\"require 'openstudio'\".size"
   ]
  },
  {
   "cell_type": "code",
   "execution_count": null,
   "id": "40166b6d",
   "metadata": {},
   "outputs": [],
   "source": [
    "\"require\".size"
   ]
  },
  {
   "cell_type": "code",
   "execution_count": null,
   "id": "eef064ce",
   "metadata": {},
   "outputs": [],
   "source": [
    "node.loc.selector"
   ]
  },
  {
   "cell_type": "code",
   "execution_count": null,
   "id": "3088d34a",
   "metadata": {},
   "outputs": [],
   "source": [
    "node.loc.expression.begin_pos"
   ]
  },
  {
   "cell_type": "code",
   "execution_count": null,
   "id": "cf789948",
   "metadata": {},
   "outputs": [],
   "source": [
    "node.loc.expression.end_pos"
   ]
  },
  {
   "cell_type": "code",
   "execution_count": null,
   "id": "bef2dd44",
   "metadata": {},
   "outputs": [],
   "source": [
    "node.loc"
   ]
  },
  {
   "cell_type": "code",
   "execution_count": null,
   "id": "bfad6668",
   "metadata": {},
   "outputs": [],
   "source": []
  }
 ],
 "metadata": {
  "kernelspec": {
   "display_name": "Ruby 2.7.2",
   "language": "ruby",
   "name": "ruby"
  },
  "language_info": {
   "file_extension": ".rb",
   "mimetype": "application/x-ruby",
   "name": "ruby",
   "version": "2.7.2"
  },
  "toc": {
   "base_numbering": 1,
   "nav_menu": {},
   "number_sections": true,
   "sideBar": true,
   "skip_h1_title": false,
   "title_cell": "Table of Contents",
   "title_sidebar": "Contents",
   "toc_cell": false,
   "toc_position": {},
   "toc_section_display": true,
   "toc_window_display": false
  }
 },
 "nbformat": 4,
 "nbformat_minor": 5
}
