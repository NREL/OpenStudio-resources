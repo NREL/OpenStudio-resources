{
 "cells": [
  {
   "cell_type": "code",
   "execution_count": null,
   "id": "e7a3c3f4",
   "metadata": {},
   "outputs": [],
   "source": [
    "require 'parser/current'\n",
    "# opt-in to most recent AST format:\n",
    "Parser::Builders::Default.emit_lambda              = true"
   ]
  },
  {
   "cell_type": "code",
   "execution_count": null,
   "id": "299d52d8",
   "metadata": {},
   "outputs": [],
   "source": [
    "ruby_ast.type?"
   ]
  },
  {
   "cell_type": "code",
   "execution_count": 2,
   "id": "8fc885e1",
   "metadata": {},
   "outputs": [
    {
     "data": {
      "text/plain": [
       "false"
      ]
     },
     "execution_count": 2,
     "metadata": {},
     "output_type": "execute_result"
    }
   ],
   "source": [
    "require 'rubocop-ast'"
   ]
  },
  {
   "cell_type": "code",
   "execution_count": 356,
   "id": "82f24a6d",
   "metadata": {},
   "outputs": [
    {
     "data": {
      "text/plain": [
       ":on_hash"
      ]
     },
     "execution_count": 356,
     "metadata": {},
     "output_type": "execute_result"
    }
   ],
   "source": [
    "class Rule < Parser::AST::Processor\n",
    "  include RuboCop::AST::Traversal\n",
    "\n",
    "  def initialize(rewriter)\n",
    "    @rewriter = rewriter\n",
    "  end\n",
    "\n",
    "  def create_range(begin_pos, end_pos)\n",
    "    Parser::Source::Range.new(@rewriter.source_buffer, begin_pos, end_pos)\n",
    "  end\n",
    "end\n",
    "\n",
    "\n",
    "class ReplaceRequire < Rule\n",
    "  def on_send(node)\n",
    "    if node.method_name == :require\n",
    "      raise if node.child_nodes.size != 1\n",
    "      req = node.child_nodes[0]\n",
    "      raise if !req.str_type?\n",
    "      @rewriter.replace(node.loc.expression, \"import #{req.value}\")\n",
    "    elsif node.method_name == :require_relative\n",
    "      raise if node.child_nodes.size != 1\n",
    "      req = node.child_nodes[0]\n",
    "      raise if !req.str_type?\n",
    "      if req.value == \"lib/baseline_model\"\n",
    "        @rewriter.replace(node.loc.expression, \"from lib.baseline_model import BaselineModel\")\n",
    "      else\n",
    "        raise if req.value != \"lib/baseline_model\"\n",
    "      end\n",
    "    end\n",
    "  end\n",
    "end\n",
    "\n",
    "class ReplaceNew < Rule\n",
    "  def on_send(node)\n",
    "    if node.method_name == :new\n",
    "      range = create_range(node.loc.dot.begin_pos, node.loc.selector.end_pos)\n",
    "      @rewriter.replace(range, '')\n",
    "      puts node.receiver\n",
    "    end\n",
    "  end\n",
    "end\n",
    "\n",
    "class AddParenthesesToMethods < Rule\n",
    "  def on_send(node)\n",
    "    if node.arguments.empty? && !(node.loc.expression.source_line.end_with?('()'))\n",
    "      range = create_range(node.loc.expression.end_pos, node.loc.expression.end_pos)\n",
    "      @rewriter.replace(range, '()')\n",
    "      puts node.receiver\n",
    "    end\n",
    "  end\n",
    "end\n",
    "\n",
    "class ProcessHash < Rule\n",
    "  def on_hash(node)\n",
    "    # @rewriter.replace(node.loc.expression, node.loc.expression.source.gsub('=>',':'))\n",
    "    \n",
    "    args = []\n",
    "    node.child_nodes.each do |pair_node|\n",
    "      raise if !pair_node.pair_type?\n",
    "      raise if pair_node.child_nodes.size != 2\n",
    "      raise if !pair_node.child_nodes[0].str_type?\n",
    "      args << \"#{pair_node.child_nodes[0].value}=#{pair_node.child_nodes[1].loc.expression.source}\"\n",
    "    end\n",
    "    @rewriter.replace(node.loc.expression, args.join(', '))\n",
    "  end\n",
    "end"
   ]
  },
  {
   "cell_type": "code",
   "execution_count": 357,
   "id": "e3c07c09",
   "metadata": {},
   "outputs": [
    {
     "data": {
      "text/plain": [
       ":process_rule"
      ]
     },
     "execution_count": 357,
     "metadata": {},
     "output_type": "execute_result"
    }
   ],
   "source": [
    "# Main method.\n",
    "def process_file(file, rule_classes=[AddParenthesesToMethods, ReplaceRequire, ReplaceNew, ProcessHash])\n",
    "  return unless File.exist?(file)\n",
    "  code = File.read(file)\n",
    "  frozen_lit = \"# frozen_string_literal: true\\n\\n\"\n",
    "  if code.start_with?(frozen_lit)\n",
    "    code = code[frozen_lit.size..]\n",
    "  end\n",
    "  \n",
    "  rule_classes.each do |rule_class|\n",
    "    code = process_rule(rule_class, code)\n",
    "  end\n",
    "  code\n",
    "end\n",
    "\n",
    "def process_rule(rule_class, code)\n",
    "  source = RuboCop::AST::ProcessedSource.new(code, 2.7)\n",
    "  source_buffer = source.buffer\n",
    "  rewriter = Parser::Source::TreeRewriter.new(source_buffer)\n",
    "  rule = rule_class.new(rewriter)\n",
    "  source.ast.each_node { |n| rule.process(n) }\n",
    "  rewriter.process\n",
    "end"
   ]
  },
  {
   "cell_type": "code",
   "execution_count": 358,
   "id": "d05a7e3f",
   "metadata": {},
   "outputs": [
    {
     "data": {
      "text/plain": [
       "\"model/simulationtests/baseline_sys01.rb\""
      ]
     },
     "execution_count": 358,
     "metadata": {},
     "output_type": "execute_result"
    }
   ],
   "source": [
    "file_name = 'model/simulationtests/humidity_control.rb'\n",
    "file_name = 'model/simulationtests/test_port.rb'\n",
    "file_name = 'model/simulationtests/baseline_sys01.rb'"
   ]
  },
  {
   "cell_type": "code",
   "execution_count": 367,
   "id": "584180a5",
   "metadata": {},
   "outputs": [
    {
     "data": {
      "text/plain": [
       "\"model/simulationtests/baseline_sys01.py\""
      ]
     },
     "execution_count": 367,
     "metadata": {},
     "output_type": "execute_result"
    }
   ],
   "source": []
  },
  {
   "cell_type": "code",
   "execution_count": 360,
   "id": "15bcbb4b",
   "metadata": {},
   "outputs": [
    {
     "name": "stdout",
     "output_type": "stream",
     "text": [
      "(const nil :BaselineModel)\n",
      "(lvar :model)\n",
      "(lvar :model)\n",
      "(lvar :model)\n",
      "(const nil :BaselineModel)\n",
      "(const nil :BaselineModel)\n",
      "(lvar :model)\n",
      "(lvar :model)\n",
      "(lvar :model)\n",
      "(const nil :Dir)\n",
      "(const nil :Dir)\n",
      "(const nil :Dir)\n",
      "(const nil :BaselineModel)\n",
      "(const nil :BaselineModel)\n",
      "(const nil :BaselineModel)\n",
      "================================================================================\n",
      "import openstudio\n",
      "from lib.baseline_model import BaselineModel\n",
      "\n",
      "model = BaselineModel()\n",
      "\n",
      "# make a 2 story, 100m X 50m, 10 zone core/perimeter building\n",
      "model.add_geometry(length=100, width=50, num_floors=2, floor_to_floor_height=4, plenum_height=1, perimeter_zone_depth=3)\n",
      "\n",
      "# add windows at a 40% window-to-wall ratio\n",
      "model.add_windows(wwr=0.4, offset=1, application_type='Above Floor')\n",
      "\n",
      "# add ASHRAE System type 01, PTAC, Residential\n",
      "model.add_hvac(ashrae_sys_num='01')\n",
      "\n",
      "# add thermostats\n",
      "model.add_thermostats(heating_setpoint=24, cooling_setpoint=28)\n",
      "\n",
      "# assign constructions from a local library to the walls/windows/etc. in the model\n",
      "model.set_constructions()\n",
      "\n",
      "# set whole building space type; simplified 90.1-2004 Large Office Whole Building\n",
      "model.set_space_type()\n",
      "\n",
      "# add design days to the model (Chicago)\n",
      "model.add_design_days()\n",
      "\n",
      "# save the OpenStudio model (.osm)\n",
      "model.save_openstudio_osm(osm_save_directory=None, osm_name='in.osm')\n"
     ]
    }
   ],
   "source": [
    "code = process_file(file_name)\n",
    "code.gsub!('OpenStudio::Model::', 'openstudio.model.')\n",
    "code.gsub!('Dir.pwd()', 'None')\n",
    "puts \"=\" * 80\n",
    "puts code"
   ]
  },
  {
   "cell_type": "code",
   "execution_count": 368,
   "id": "eaec98bd",
   "metadata": {},
   "outputs": [
    {
     "data": {
      "text/plain": [
       "\"model/simulationtests/baseline_sys01.py\""
      ]
     },
     "execution_count": 368,
     "metadata": {},
     "output_type": "execute_result"
    }
   ],
   "source": [
    "target_file = File.join(File.dirname(file_name), File.basename(file_name, '.rb') + '.py')\n",
    "target_file"
   ]
  },
  {
   "cell_type": "code",
   "execution_count": 370,
   "id": "ef08ae33",
   "metadata": {},
   "outputs": [
    {
     "data": {
      "text/plain": [
       "941"
      ]
     },
     "execution_count": 370,
     "metadata": {},
     "output_type": "execute_result"
    }
   ],
   "source": [
    "File.write(target_file, code)"
   ]
  },
  {
   "cell_type": "code",
   "execution_count": null,
   "id": "df80fdc1",
   "metadata": {},
   "outputs": [],
   "source": [
    "\n",
    "\n",
    "class MyRule < Parser::AST::Processor\n",
    "  include RuboCop::AST::Traversal\n",
    "\n",
    "  def on_send(node)\n",
    "    # puts \"I found a on_send! #{node}\"\n",
    "    receiver_node, method_name, *arg_nodes = *node\n",
    "\n",
    "    receiver_node = process(receiver_node) if receiver_node\n",
    "    node.updated(nil, [\n",
    "      receiver_node, method_name, *process_all(arg_nodes)\n",
    "    ])\n",
    "    if method_name == :require\n",
    "      raise if arg_nodes.size != 1\n",
    "      req = arg_nodes[0]\n",
    "      raise if !req.str_type?\n",
    "      puts req.value\n",
    "    elsif method_name == :require_relative\n",
    "      raise if arg_nodes.size != 1\n",
    "      req = arg_nodes[0]\n",
    "      raise if !req.str_type?\n",
    "      raise if req.value != \"lib/baseline_model\"\n",
    "      puts req.value\n",
    "    end\n",
    "  end\n",
    "end\n",
    "\n",
    "rule = MyRule.new\n",
    "source.ast.each_node { |n| rule.process(n) }"
   ]
  },
  {
   "cell_type": "code",
   "execution_count": 233,
   "id": "ef206cdb",
   "metadata": {},
   "outputs": [
    {
     "data": {
      "text/plain": [
       "#<RuboCop::AST::ProcessedSource:0x000056031d413f40 @raw_source=\"# frozen_string_literal: true\\n\\nrequire 'openstudio'\\nrequire_relative 'lib/baseline_model'\\n\\nmodel = BaselineModel.new\\n\\n# make a 2 story, 100m X 50m, 10 zone core/perimeter building\\nmodel.add_geometry({ 'length' => 100,\\n                     'width' => 50,\\n                     'num_floors' => 2,\\n                     'floor_to_floor_height' => 4,\\n                     'plenum_height' => 1,\\n                     'perimeter_zone_depth' => 3 })\\n\\n# add windows at a 40% window-to-wall ratio\\nmodel.add_windows({ 'wwr' => 0.4,\\n                    'offset' => 1,\\n                    'application_type' => 'Above Floor' })\\n\\n# add ASHRAE System type 01, PTAC, Residential\\nmodel.add_hvac({ 'ashrae_sys_num' => '01' })\\n\\n# add thermostats\\nmodel.add_thermostats({ 'heating_setpoint' => 24,\\n                        'cooling_setpoint' => 28 })\\n\\n# assign constructions from a local library to the walls/windows/etc. in the model\\nmodel.set_constructions\\n\\n# set whole building space type; simplified 90.1-2004 Large Office Whole Building\\nmodel.set_space_type\\n\\n# add design days to the model (Chicago)\\nmodel.add_design_days\\n\\n# save the OpenStudio model (.osm)\\nmodel.save_openstudio_osm({ 'osm_save_directory' => Dir.pwd,\\n                            'osm_name' => 'in.osm' })\\n\", @path=\"model/simulationtests/baseline_sys01.rb\", @diagnostics=[], @ruby_version=2.7, @parser_error=nil, @buffer=#<Parser::Source::Buffer model/simulationtests/baseline_sys01.rb>, @ast=s(:begin,\n",
       "  s(:send, nil, :require,\n",
       "    s(:str, \"openstudio\")),\n",
       "  s(:send, nil, :require_relative,\n",
       "    s(:str, \"lib/baseline_model\")),\n",
       "  s(:lvasgn, :model,\n",
       "    s(:send,\n",
       "      s(:const, nil, :BaselineModel), :new)),\n",
       "  s(:send,\n",
       "    s(:lvar, :model), :add_geometry,\n",
       "    s(:hash,\n",
       "      s(:pair,\n",
       "        s(:str, \"length\"),\n",
       "        s(:int, 100)),\n",
       "      s(:pair,\n",
       "        s(:str, \"width\"),\n",
       "        s(:int, 50)),\n",
       "      s(:pair,\n",
       "        s(:str, \"num_floors\"),\n",
       "        s(:int, 2)),\n",
       "      s(:pair,\n",
       "        s(:str, \"floor_to_floor_height\"),\n",
       "        s(:int, 4)),\n",
       "      s(:pair,\n",
       "        s(:str, \"plenum_height\"),\n",
       "        s(:int, 1)),\n",
       "      s(:pair,\n",
       "        s(:str, \"perimeter_zone_depth\"),\n",
       "        s(:int, 3)))),\n",
       "  s(:send,\n",
       "    s(:lvar, :model), :add_windows,\n",
       "    s(:hash,\n",
       "      s(:pair,\n",
       "        s(:str, \"wwr\"),\n",
       "        s(:float, 0.4)),\n",
       "      s(:pair,\n",
       "        s(:str, \"offset\"),\n",
       "        s(:int, 1)),\n",
       "      s(:pair,\n",
       "        s(:str, \"application_type\"),\n",
       "        s(:str, \"Above Floor\")))),\n",
       "  s(:send,\n",
       "    s(:lvar, :model), :add_hvac,\n",
       "    s(:hash,\n",
       "      s(:pair,\n",
       "        s(:str, \"ashrae_sys_num\"),\n",
       "        s(:str, \"01\")))),\n",
       "  s(:send,\n",
       "    s(:lvar, :model), :add_thermostats,\n",
       "    s(:hash,\n",
       "      s(:pair,\n",
       "        s(:str, \"heating_setpoint\"),\n",
       "        s(:int, 24)),\n",
       "      s(:pair,\n",
       "        s(:str, \"cooling_setpoint\"),\n",
       "        s(:int, 28)))),\n",
       "  s(:send,\n",
       "    s(:lvar, :model), :set_constructions),\n",
       "  s(:send,\n",
       "    s(:lvar, :model), :set_space_type),\n",
       "  s(:send,\n",
       "    s(:lvar, :model), :add_design_days),\n",
       "  s(:send,\n",
       "    s(:lvar, :model), :save_openstudio_osm,\n",
       "    s(:hash,\n",
       "      s(:pair,\n",
       "        s(:str, \"osm_save_directory\"),\n",
       "        s(:send,\n",
       "          s(:const, nil, :Dir), :pwd)),\n",
       "      s(:pair,\n",
       "        s(:str, \"osm_name\"),\n",
       "        s(:str, \"in.osm\"))))), @comments=[#<Parser::Source::Comment model/simulationtests/baseline_sys01.rb:1:1 \"# frozen_string_literal: true\">, #<Parser::Source::Comment model/simulationtests/baseline_sys01.rb:8:1 \"# make a 2 story, 100m X 50m, 10 zone core/perimeter building\">, #<Parser::Source::Comment model/simulationtests/baseline_sys01.rb:16:1 \"# add windows at a 40% window-to-wall ratio\">, #<Parser::Source::Comment model/simulationtests/baseline_sys01.rb:21:1 \"# add ASHRAE System type 01, PTAC, Residential\">, #<Parser::Source::Comment model/simulationtests/baseline_sys01.rb:24:1 \"# add thermostats\">, #<Parser::Source::Comment model/simulationtests/baseline_sys01.rb:28:1 \"# assign constructions from a local library to the walls/windows/etc. in the model\">, #<Parser::Source::Comment model/simulationtests/baseline_sys01.rb:31:1 \"# set whole building space type; simplified 90.1-2004 Large Office Whole Building\">, #<Parser::Source::Comment model/simulationtests/baseline_sys01.rb:34:1 \"# add design days to the model (Chicago)\">, #<Parser::Source::Comment model/simulationtests/baseline_sys01.rb:37:1 \"# save the OpenStudio model (.osm)\">], @tokens=[#<RuboCop::AST::Token:0x000056031cb33df8 @pos=#<Parser::Source::Range model/simulationtests/baseline_sys01.rb 0...29>, @type=:tCOMMENT, @text=\"# frozen_string_literal: true\">, #<RuboCop::AST::Token:0x000056031cb33d80 @pos=#<Parser::Source::Range model/simulationtests/baseline_sys01.rb 31...38>, @type=:tIDENTIFIER, @text=\"require\">, #<RuboCop::AST::Token:0x000056031cb33d58 @pos=#<Parser::Source::Range model/simulationtests/baseline_sys01.rb 39...51>, @type=:tSTRING, @text=\"openstudio\">, #<RuboCop::AST::Token:0x000056031cb33d30 @pos=#<Parser::Source::Range model/simulationtests/baseline_sys01.rb 51...52>, @type=:tNL, @text=\"\">, #<RuboCop::AST::Token:0x000056031cb33c68 @pos=#<Parser::Source::Range model/simulationtests/baseline_sys01.rb 52...68>, @type=:tIDENTIFIER, @text=\"require_relative\">, #<RuboCop::AST::Token:0x000056031cb33bf0 @pos=#<Parser::Source::Range model/simulationtests/baseline_sys01.rb 69...89>, @type=:tSTRING, @text=\"lib/baseline_model\">, #<RuboCop::AST::Token:0x000056031cb33ba0 @pos=#<Parser::Source::Range model/simulationtests/baseline_sys01.rb 89...90>, @type=:tNL, @text=\"\">, #<RuboCop::AST::Token:0x000056031cb33b78 @pos=#<Parser::Source::Range model/simulationtests/baseline_sys01.rb 91...96>, @type=:tIDENTIFIER, @text=\"model\">, #<RuboCop::AST::Token:0x000056031cb33b50 @pos=#<Parser::Source::Range model/simulationtests/baseline_sys01.rb 97...98>, @type=:tEQL, @text=\"=\">, #<RuboCop::AST::Token:0x000056031cb33ab0 @pos=#<Parser::Source::Range model/simulationtests/baseline_sys01.rb 99...112>, @type=:tCONSTANT, @text=\"BaselineModel\">, #<RuboCop::AST::Token:0x000056031cb33a88 @pos=#<Parser::Source::Range model/simulationtests/baseline_sys01.rb 112...113>, @type=:tDOT, @text=\".\">, #<RuboCop::AST::Token:0x000056031cb33a60 @pos=#<Parser::Source::Range model/simulationtests/baseline_sys01.rb 113...116>, @type=:tIDENTIFIER, @text=\"new\">, #<RuboCop::AST::Token:0x000056031cb339e8 @pos=#<Parser::Source::Range model/simulationtests/baseline_sys01.rb 116...117>, @type=:tNL, @text=\"\">, #<RuboCop::AST::Token:0x000056031cb339c0 @pos=#<Parser::Source::Range model/simulationtests/baseline_sys01.rb 118...179>, @type=:tCOMMENT, @text=\"# make a 2 story, 100m X 50m, 10 zone core/perimeter building\">, #<RuboCop::AST::Token:0x000056031cb33920 @pos=#<Parser::Source::Range model/simulationtests/baseline_sys01.rb 180...185>, @type=:tIDENTIFIER, @text=\"model\">, #<RuboCop::AST::Token:0x000056031cb338d0 @pos=#<Parser::Source::Range model/simulationtests/baseline_sys01.rb 185...186>, @type=:tDOT, @text=\".\">, #<RuboCop::AST::Token:0x000056031cb338a8 @pos=#<Parser::Source::Range model/simulationtests/baseline_sys01.rb 186...198>, @type=:tIDENTIFIER, @text=\"add_geometry\">, #<RuboCop::AST::Token:0x000056031cb337e0 @pos=#<Parser::Source::Range model/simulationtests/baseline_sys01.rb 198...199>, @type=:tLPAREN2, @text=\"(\">, #<RuboCop::AST::Token:0x000056031cb33790 @pos=#<Parser::Source::Range model/simulationtests/baseline_sys01.rb 199...200>, @type=:tLBRACE, @text=\"{\">, #<RuboCop::AST::Token:0x000056031cb33768 @pos=#<Parser::Source::Range model/simulationtests/baseline_sys01.rb 201...209>, @type=:tSTRING, @text=\"length\">, #<RuboCop::AST::Token:0x000056031cb33740 @pos=#<Parser::Source::Range model/simulationtests/baseline_sys01.rb 210...212>, @type=:tASSOC, @text=\"=>\">, #<RuboCop::AST::Token:0x000056031cb336f0 @pos=#<Parser::Source::Range model/simulationtests/baseline_sys01.rb 213...216>, @type=:tINTEGER, @text=\"100\">, #<RuboCop::AST::Token:0x000056031cb33650 @pos=#<Parser::Source::Range model/simulationtests/baseline_sys01.rb 216...217>, @type=:tCOMMA, @text=\",\">, #<RuboCop::AST::Token:0x000056031cb33628 @pos=#<Parser::Source::Range model/simulationtests/baseline_sys01.rb 239...246>, @type=:tSTRING, @text=\"width\">, #<RuboCop::AST::Token:0x000056031cb33600 @pos=#<Parser::Source::Range model/simulationtests/baseline_sys01.rb 247...249>, @type=:tASSOC, @text=\"=>\">, #<RuboCop::AST::Token:0x000056031cb335b0 @pos=#<Parser::Source::Range model/simulationtests/baseline_sys01.rb 250...252>, @type=:tINTEGER, @text=\"50\">, #<RuboCop::AST::Token:0x000056031cb33510 @pos=#<Parser::Source::Range model/simulationtests/baseline_sys01.rb 252...253>, @type=:tCOMMA, @text=\",\">, #<RuboCop::AST::Token:0x000056031cb334c0 @pos=#<Parser::Source::Range model/simulationtests/baseline_sys01.rb 275...287>, @type=:tSTRING, @text=\"num_floors\">, #<RuboCop::AST::Token:0x000056031cb33470 @pos=#<Parser::Source::Range model/simulationtests/baseline_sys01.rb 288...290>, @type=:tASSOC, @text=\"=>\">, #<RuboCop::AST::Token:0x000056031cb33420 @pos=#<Parser::Source::Range model/simulationtests/baseline_sys01.rb 291...292>, @type=:tINTEGER, @text=\"2\">, #<RuboCop::AST::Token:0x000056031cb333a8 @pos=#<Parser::Source::Range model/simulationtests/baseline_sys01.rb 292...293>, @type=:tCOMMA, @text=\",\">, #<RuboCop::AST::Token:0x000056031cb33380 @pos=#<Parser::Source::Range model/simulationtests/baseline_sys01.rb 315...338>, @type=:tSTRING, @text=\"floor_to_floor_height\">, #<RuboCop::AST::Token:0x000056031cb33308 @pos=#<Parser::Source::Range model/simulationtests/baseline_sys01.rb 339...341>, @type=:tASSOC, @text=\"=>\">, #<RuboCop::AST::Token:0x000056031cb332e0 @pos=#<Parser::Source::Range model/simulationtests/baseline_sys01.rb 342...343>, @type=:tINTEGER, @text=\"4\">, #<RuboCop::AST::Token:0x000056031cb33290 @pos=#<Parser::Source::Range model/simulationtests/baseline_sys01.rb 343...344>, @type=:tCOMMA, @text=\",\">, #<RuboCop::AST::Token:0x000056031cb33268 @pos=#<Parser::Source::Range model/simulationtests/baseline_sys01.rb 366...381>, @type=:tSTRING, @text=\"plenum_height\">, #<RuboCop::AST::Token:0x000056031cb33150 @pos=#<Parser::Source::Range model/simulationtests/baseline_sys01.rb 382...384>, @type=:tASSOC, @text=\"=>\">, #<RuboCop::AST::Token:0x000056031cb33128 @pos=#<Parser::Source::Range model/simulationtests/baseline_sys01.rb 385...386>, @type=:tINTEGER, @text=\"1\">, #<RuboCop::AST::Token:0x000056031cb330d8 @pos=#<Parser::Source::Range model/simulationtests/baseline_sys01.rb 386...387>, @type=:tCOMMA, @text=\",\">, #<RuboCop::AST::Token:0x000056031cb330b0 @pos=#<Parser::Source::Range model/simulationtests/baseline_sys01.rb 409...431>, @type=:tSTRING, @text=\"perimeter_zone_depth\">, #<RuboCop::AST::Token:0x000056031cb33060 @pos=#<Parser::Source::Range model/simulationtests/baseline_sys01.rb 432...434>, @type=:tASSOC, @text=\"=>\">, #<RuboCop::AST::Token:0x000056031cb33038 @pos=#<Parser::Source::Range model/simulationtests/baseline_sys01.rb 435...436>, @type=:tINTEGER, @text=\"3\">, #<RuboCop::AST::Token:0x000056031cb32f98 @pos=#<Parser::Source::Range model/simulationtests/baseline_sys01.rb 437...438>, @type=:tRCURLY, @text=\"}\">, #<RuboCop::AST::Token:0x000056031cb32f70 @pos=#<Parser::Source::Range model/simulationtests/baseline_sys01.rb 438...439>, @type=:tRPAREN, @text=\")\">, #<RuboCop::AST::Token:0x000056031cb32e30 @pos=#<Parser::Source::Range model/simulationtests/baseline_sys01.rb 439...440>, @type=:tNL, @text=\"\">, #<RuboCop::AST::Token:0x000056031cb32de0 @pos=#<Parser::Source::Range model/simulationtests/baseline_sys01.rb 441...484>, @type=:tCOMMENT, @text=\"# add windows at a 40% window-to-wall ratio\">, #<RuboCop::AST::Token:0x000056031cb32db8 @pos=#<Parser::Source::Range model/simulationtests/baseline_sys01.rb 485...490>, @type=:tIDENTIFIER, @text=\"model\">, #<RuboCop::AST::Token:0x000056031cb32d90 @pos=#<Parser::Source::Range model/simulationtests/baseline_sys01.rb 490...491>, @type=:tDOT, @text=\".\">, #<RuboCop::AST::Token:0x000056031cb32d68 @pos=#<Parser::Source::Range model/simulationtests/baseline_sys01.rb 491...502>, @type=:tIDENTIFIER, @text=\"add_windows\">, #<RuboCop::AST::Token:0x000056031cb32cf0 @pos=#<Parser::Source::Range model/simulationtests/baseline_sys01.rb 502...503>, @type=:tLPAREN2, @text=\"(\">, #<RuboCop::AST::Token:0x000056031cb32cc8 @pos=#<Parser::Source::Range model/simulationtests/baseline_sys01.rb 503...504>, @type=:tLBRACE, @text=\"{\">, #<RuboCop::AST::Token:0x000056031cb32ca0 @pos=#<Parser::Source::Range model/simulationtests/baseline_sys01.rb 505...510>, @type=:tSTRING, @text=\"wwr\">, #<RuboCop::AST::Token:0x000056031cb32c78 @pos=#<Parser::Source::Range model/simulationtests/baseline_sys01.rb 511...513>, @type=:tASSOC, @text=\"=>\">, #<RuboCop::AST::Token:0x000056031cb32c50 @pos=#<Parser::Source::Range model/simulationtests/baseline_sys01.rb 514...517>, @type=:tFLOAT, @text=\"0.4\">, #<RuboCop::AST::Token:0x000056031cb32bb0 @pos=#<Parser::Source::Range model/simulationtests/baseline_sys01.rb 517...518>, @type=:tCOMMA, @text=\",\">, #<RuboCop::AST::Token:0x000056031cb32b38 @pos=#<Parser::Source::Range model/simulationtests/baseline_sys01.rb 539...547>, @type=:tSTRING, @text=\"offset\">, #<RuboCop::AST::Token:0x000056031cb32b10 @pos=#<Parser::Source::Range model/simulationtests/baseline_sys01.rb 548...550>, @type=:tASSOC, @text=\"=>\">, #<RuboCop::AST::Token:0x000056031cb32ae8 @pos=#<Parser::Source::Range model/simulationtests/baseline_sys01.rb 551...552>, @type=:tINTEGER, @text=\"1\">, #<RuboCop::AST::Token:0x000056031cb32a20 @pos=#<Parser::Source::Range model/simulationtests/baseline_sys01.rb 552...553>, @type=:tCOMMA, @text=\",\">, #<RuboCop::AST::Token:0x000056031cb329f8 @pos=#<Parser::Source::Range model/simulationtests/baseline_sys01.rb 574...592>, @type=:tSTRING, @text=\"application_type\">, #<RuboCop::AST::Token:0x000056031cb32980 @pos=#<Parser::Source::Range model/simulationtests/baseline_sys01.rb 593...595>, @type=:tASSOC, @text=\"=>\">, #<RuboCop::AST::Token:0x000056031cb32958 @pos=#<Parser::Source::Range model/simulationtests/baseline_sys01.rb 596...609>, @type=:tSTRING, @text=\"Above Floor\">, #<RuboCop::AST::Token:0x000056031cb32930 @pos=#<Parser::Source::Range model/simulationtests/baseline_sys01.rb 610...611>, @type=:tRCURLY, @text=\"}\">, #<RuboCop::AST::Token:0x000056031cb328e0 @pos=#<Parser::Source::Range model/simulationtests/baseline_sys01.rb 611...612>, @type=:tRPAREN, @text=\")\">, #<RuboCop::AST::Token:0x000056031cb328b8 @pos=#<Parser::Source::Range model/simulationtests/baseline_sys01.rb 612...613>, @type=:tNL, @text=\"\">, #<RuboCop::AST::Token:0x000056031cb32890 @pos=#<Parser::Source::Range model/simulationtests/baseline_sys01.rb 614...660>, @type=:tCOMMENT, @text=\"# add ASHRAE System type 01, PTAC, Residential\">, #<RuboCop::AST::Token:0x000056031cb32868 @pos=#<Parser::Source::Range model/simulationtests/baseline_sys01.rb 661...666>, @type=:tIDENTIFIER, @text=\"model\">, #<RuboCop::AST::Token:0x000056031cb32840 @pos=#<Parser::Source::Range model/simulationtests/baseline_sys01.rb 666...667>, @type=:tDOT, @text=\".\">, #<RuboCop::AST::Token:0x000056031cb32818 @pos=#<Parser::Source::Range model/simulationtests/baseline_sys01.rb 667...675>, @type=:tIDENTIFIER, @text=\"add_hvac\">, #<RuboCop::AST::Token:0x000056031cb32778 @pos=#<Parser::Source::Range model/simulationtests/baseline_sys01.rb 675...676>, @type=:tLPAREN2, @text=\"(\">, #<RuboCop::AST::Token:0x000056031cb32750 @pos=#<Parser::Source::Range model/simulationtests/baseline_sys01.rb 676...677>, @type=:tLBRACE, @text=\"{\">, #<RuboCop::AST::Token:0x000056031cb32728 @pos=#<Parser::Source::Range model/simulationtests/baseline_sys01.rb 678...694>, @type=:tSTRING, @text=\"ashrae_sys_num\">, #<RuboCop::AST::Token:0x000056031cb32700 @pos=#<Parser::Source::Range model/simulationtests/baseline_sys01.rb 695...697>, @type=:tASSOC, @text=\"=>\">, #<RuboCop::AST::Token:0x000056031cb326d8 @pos=#<Parser::Source::Range model/simulationtests/baseline_sys01.rb 698...702>, @type=:tSTRING, @text=\"01\">, #<RuboCop::AST::Token:0x000056031cb32638 @pos=#<Parser::Source::Range model/simulationtests/baseline_sys01.rb 703...704>, @type=:tRCURLY, @text=\"}\">, #<RuboCop::AST::Token:0x000056031cb32610 @pos=#<Parser::Source::Range model/simulationtests/baseline_sys01.rb 704...705>, @type=:tRPAREN, @text=\")\">, #<RuboCop::AST::Token:0x000056031cb325e8 @pos=#<Parser::Source::Range model/simulationtests/baseline_sys01.rb 705...706>, @type=:tNL, @text=\"\">, #<RuboCop::AST::Token:0x000056031cb325c0 @pos=#<Parser::Source::Range model/simulationtests/baseline_sys01.rb 707...724>, @type=:tCOMMENT, @text=\"# add thermostats\">, #<RuboCop::AST::Token:0x000056031cb32548 @pos=#<Parser::Source::Range model/simulationtests/baseline_sys01.rb 725...730>, @type=:tIDENTIFIER, @text=\"model\">, #<RuboCop::AST::Token:0x000056031cb32520 @pos=#<Parser::Source::Range model/simulationtests/baseline_sys01.rb 730...731>, @type=:tDOT, @text=\".\">, #<RuboCop::AST::Token:0x000056031cb324f8 @pos=#<Parser::Source::Range model/simulationtests/baseline_sys01.rb 731...746>, @type=:tIDENTIFIER, @text=\"add_thermostats\">, #<RuboCop::AST::Token:0x000056031cb324a8 @pos=#<Parser::Source::Range model/simulationtests/baseline_sys01.rb 746...747>, @type=:tLPAREN2, @text=\"(\">, #<RuboCop::AST::Token:0x000056031cb32480 @pos=#<Parser::Source::Range model/simulationtests/baseline_sys01.rb 747...748>, @type=:tLBRACE, @text=\"{\">, #<RuboCop::AST::Token:0x000056031cb32408 @pos=#<Parser::Source::Range model/simulationtests/baseline_sys01.rb 749...767>, @type=:tSTRING, @text=\"heating_setpoint\">, #<RuboCop::AST::Token:0x000056031cb323e0 @pos=#<Parser::Source::Range model/simulationtests/baseline_sys01.rb 768...770>, @type=:tASSOC, @text=\"=>\">, #<RuboCop::AST::Token:0x000056031cb323b8 @pos=#<Parser::Source::Range model/simulationtests/baseline_sys01.rb 771...773>, @type=:tINTEGER, @text=\"24\">, #<RuboCop::AST::Token:0x000056031cb32318 @pos=#<Parser::Source::Range model/simulationtests/baseline_sys01.rb 773...774>, @type=:tCOMMA, @text=\",\">, #<RuboCop::AST::Token:0x000056031cb322f0 @pos=#<Parser::Source::Range model/simulationtests/baseline_sys01.rb 799...817>, @type=:tSTRING, @text=\"cooling_setpoint\">, #<RuboCop::AST::Token:0x000056031cb322c8 @pos=#<Parser::Source::Range model/simulationtests/baseline_sys01.rb 818...820>, @type=:tASSOC, @text=\"=>\">, #<RuboCop::AST::Token:0x000056031cb322a0 @pos=#<Parser::Source::Range model/simulationtests/baseline_sys01.rb 821...823>, @type=:tINTEGER, @text=\"28\">, #<RuboCop::AST::Token:0x000056031cb321b0 @pos=#<Parser::Source::Range model/simulationtests/baseline_sys01.rb 824...825>, @type=:tRCURLY, @text=\"}\">, #<RuboCop::AST::Token:0x000056031cb32138 @pos=#<Parser::Source::Range model/simulationtests/baseline_sys01.rb 825...826>, @type=:tRPAREN, @text=\")\">, #<RuboCop::AST::Token:0x000056031cb32110 @pos=#<Parser::Source::Range model/simulationtests/baseline_sys01.rb 826...827>, @type=:tNL, @text=\"\">, #<RuboCop::AST::Token:0x000056031cb320c0 @pos=#<Parser::Source::Range model/simulationtests/baseline_sys01.rb 828...910>, @type=:tCOMMENT, @text=\"# assign constructions from a local library to the walls/windows/etc. in the model\">, #<RuboCop::AST::Token:0x000056031cb32098 @pos=#<Parser::Source::Range model/simulationtests/baseline_sys01.rb 911...916>, @type=:tIDENTIFIER, @text=\"model\">, #<RuboCop::AST::Token:0x000056031cb32070 @pos=#<Parser::Source::Range model/simulationtests/baseline_sys01.rb 916...917>, @type=:tDOT, @text=\".\">, #<RuboCop::AST::Token:0x000056031cb32048 @pos=#<Parser::Source::Range model/simulationtests/baseline_sys01.rb 917...934>, @type=:tIDENTIFIER, @text=\"set_constructions\">, #<RuboCop::AST::Token:0x000056031cb32020 @pos=#<Parser::Source::Range model/simulationtests/baseline_sys01.rb 934...935>, @type=:tNL, @text=\"\">, #<RuboCop::AST::Token:0x000056031cb31ff8 @pos=#<Parser::Source::Range model/simulationtests/baseline_sys01.rb 936...1017>, @type=:tCOMMENT, @text=\"# set whole building space type; simplified 90.1-2004 Large Office Whole Building\">, #<RuboCop::AST::Token:0x000056031cb31fd0 @pos=#<Parser::Source::Range model/simulationtests/baseline_sys01.rb 1018...1023>, @type=:tIDENTIFIER, @text=\"model\">, #<RuboCop::AST::Token:0x000056031cb31f80 @pos=#<Parser::Source::Range model/simulationtests/baseline_sys01.rb 1023...1024>, @type=:tDOT, @text=\".\">, #<RuboCop::AST::Token:0x000056031cb31f58 @pos=#<Parser::Source::Range model/simulationtests/baseline_sys01.rb 1024...1038>, @type=:tIDENTIFIER, @text=\"set_space_type\">, #<RuboCop::AST::Token:0x000056031cb31f30 @pos=#<Parser::Source::Range model/simulationtests/baseline_sys01.rb 1038...1039>, @type=:tNL, @text=\"\">, #<RuboCop::AST::Token:0x000056031cb31e90 @pos=#<Parser::Source::Range model/simulationtests/baseline_sys01.rb 1040...1080>, @type=:tCOMMENT, @text=\"# add design days to the model (Chicago)\">, #<RuboCop::AST::Token:0x000056031cb31e68 @pos=#<Parser::Source::Range model/simulationtests/baseline_sys01.rb 1081...1086>, @type=:tIDENTIFIER, @text=\"model\">, #<RuboCop::AST::Token:0x000056031cb31e40 @pos=#<Parser::Source::Range model/simulationtests/baseline_sys01.rb 1086...1087>, @type=:tDOT, @text=\".\">, #<RuboCop::AST::Token:0x000056031cb31e18 @pos=#<Parser::Source::Range model/simulationtests/baseline_sys01.rb 1087...1102>, @type=:tIDENTIFIER, @text=\"add_design_days\">, #<RuboCop::AST::Token:0x000056031cb31df0 @pos=#<Parser::Source::Range model/simulationtests/baseline_sys01.rb 1102...1103>, @type=:tNL, @text=\"\">, #<RuboCop::AST::Token:0x000056031cb31dc8 @pos=#<Parser::Source::Range model/simulationtests/baseline_sys01.rb 1104...1138>, @type=:tCOMMENT, @text=\"# save the OpenStudio model (.osm)\">, #<RuboCop::AST::Token:0x000056031cb31da0 @pos=#<Parser::Source::Range model/simulationtests/baseline_sys01.rb 1139...1144>, @type=:tIDENTIFIER, @text=\"model\">, #<RuboCop::AST::Token:0x000056031cb31d28 @pos=#<Parser::Source::Range model/simulationtests/baseline_sys01.rb 1144...1145>, @type=:tDOT, @text=\".\">, #<RuboCop::AST::Token:0x000056031cb31d00 @pos=#<Parser::Source::Range model/simulationtests/baseline_sys01.rb 1145...1164>, @type=:tIDENTIFIER, @text=\"save_openstudio_osm\">, #<RuboCop::AST::Token:0x000056031cb31cd8 @pos=#<Parser::Source::Range model/simulationtests/baseline_sys01.rb 1164...1165>, @type=:tLPAREN2, @text=\"(\">, #<RuboCop::AST::Token:0x000056031cb31c38 @pos=#<Parser::Source::Range model/simulationtests/baseline_sys01.rb 1165...1166>, @type=:tLBRACE, @text=\"{\">, #<RuboCop::AST::Token:0x000056031cb31bc0 @pos=#<Parser::Source::Range model/simulationtests/baseline_sys01.rb 1167...1187>, @type=:tSTRING, @text=\"osm_save_directory\">, #<RuboCop::AST::Token:0x000056031cb31b98 @pos=#<Parser::Source::Range model/simulationtests/baseline_sys01.rb 1188...1190>, @type=:tASSOC, @text=\"=>\">, #<RuboCop::AST::Token:0x000056031cb31b48 @pos=#<Parser::Source::Range model/simulationtests/baseline_sys01.rb 1191...1194>, @type=:tCONSTANT, @text=\"Dir\">, #<RuboCop::AST::Token:0x000056031cb31a80 @pos=#<Parser::Source::Range model/simulationtests/baseline_sys01.rb 1194...1195>, @type=:tDOT, @text=\".\">, #<RuboCop::AST::Token:0x000056031cb31a58 @pos=#<Parser::Source::Range model/simulationtests/baseline_sys01.rb 1195...1198>, @type=:tIDENTIFIER, @text=\"pwd\">, #<RuboCop::AST::Token:0x000056031cb31a30 @pos=#<Parser::Source::Range model/simulationtests/baseline_sys01.rb 1198...1199>, @type=:tCOMMA, @text=\",\">, #<RuboCop::AST::Token:0x000056031cb319b8 @pos=#<Parser::Source::Range model/simulationtests/baseline_sys01.rb 1228...1238>, @type=:tSTRING, @text=\"osm_name\">, #<RuboCop::AST::Token:0x000056031cb318c8 @pos=#<Parser::Source::Range model/simulationtests/baseline_sys01.rb 1239...1241>, @type=:tASSOC, @text=\"=>\">, #<RuboCop::AST::Token:0x000056031cb31850 @pos=#<Parser::Source::Range model/simulationtests/baseline_sys01.rb 1242...1250>, @type=:tSTRING, @text=\"in.osm\">, #<RuboCop::AST::Token:0x000056031cb31828 @pos=#<Parser::Source::Range model/simulationtests/baseline_sys01.rb 1251...1252>, @type=:tRCURLY, @text=\"}\">, #<RuboCop::AST::Token:0x000056031cb31800 @pos=#<Parser::Source::Range model/simulationtests/baseline_sys01.rb 1252...1253>, @type=:tRPAREN, @text=\")\">, #<RuboCop::AST::Token:0x000056031cb31788 @pos=#<Parser::Source::Range model/simulationtests/baseline_sys01.rb 1253...1254>, @type=:tNL, @text=\"\">]>"
      ]
     },
     "execution_count": 233,
     "metadata": {},
     "output_type": "execute_result"
    }
   ],
   "source": [
    "source_code = File.read(file_name)\n",
    "source = RuboCop::AST::ProcessedSource.from_file(file_name, 2.7)"
   ]
  },
  {
   "cell_type": "code",
   "execution_count": 229,
   "id": "12d53f0f",
   "metadata": {},
   "outputs": [
    {
     "data": {
      "text/plain": [
       "\"require 'openstudio'\\nrequire_relative 'lib/baseline_model'\\n\\nmodel = BaselineModel.new\\n\\n# make a 2 story, 100m X 50m, 10 zone core/perimeter building\\nmodel.add_geometry({ 'length' => 100,\\n                     'width' => 50,\\n                     'num_floors' => 2,\\n                     'floor_to_floor_height' => 4,\\n                     'plenum_height' => 1,\\n                     'perimeter_zone_depth' => 3 })\\n\\n# add windows at a 40% window-to-wall ratio\\nmodel.add_windows({ 'wwr' => 0.4,\\n                    'offset' => 1,\\n                    'application_type' => 'Above Floor' })\\n\\n# add ASHRAE System type 01, PTAC, Residential\\nmodel.add_hvac({ 'ashrae_sys_num' => '01' })\\n\\n# add thermostats\\nmodel.add_thermostats({ 'heating_setpoint' => 24,\\n                        'cooling_setpoint' => 28 })\\n\\n# assign constructions from a local library to the walls/windows/etc. in the model\\nmodel.set_constructions\\n\\n# set whole building space type; simplified 90.1-2004 Large Office Whole Building\\nmodel.set_space_type\\n\\n# add design days to the model (Chicago)\\nmodel.add_design_days\\n\\n# save the OpenStudio model (.osm)\\nmodel.save_openstudio_osm({ 'osm_save_directory' => Dir.pwd,\\n                            'osm_name' => 'in.osm' })\\n\""
      ]
     },
     "execution_count": 229,
     "metadata": {},
     "output_type": "execute_result"
    }
   ],
   "source": [
    "rule.on_hash"
   ]
  },
  {
   "cell_type": "code",
   "execution_count": 228,
   "id": "dde3fc17",
   "metadata": {},
   "outputs": [
    {
     "data": {
      "text/plain": [
       "\"require 'openstudio'\\nrequire_relative 'lib/baseline_model'\\n\\nmodel = BaselineModel.new\\n\\n# make a 2 story, 100m X 50m, 10 zone core/perimeter building\\nmodel.add_geometry({ 'length' => 100,\\n                     'width' => 50,\\n                     'num_floors' => 2,\\n                     'floor_to_floor_height' => 4,\\n                     'plenum_height' => 1,\\n                     'perimeter_zone_depth' => 3 })\\n\\n# add windows at a 40% window-to-wall ratio\\nmodel.add_windows({ 'wwr' => 0.4,\\n                    'offset' => 1,\\n                    'application_type' => 'Above Floor' })\\n\\n# add ASHRAE System type 01, PTAC, Residential\\nmodel.add_hvac({ 'ashrae_sys_num' => '01' })\\n\\n# add thermostats\\nmodel.add_thermostats({ 'heating_setpoint' => 24,\\n                        'cooling_setpoint' => 28 })\\n\\n# assign constructions from a local library to the walls/windows/etc. in the model\\nmodel.set_constructions\\n\\n# set whole building space type; simplified 90.1-2004 Large Office Whole Building\\nmodel.set_space_type\\n\\n# add design days to the model (Chicago)\\nmodel.add_design_days\\n\\n# save the OpenStudio model (.osm)\\nmodel.save_openstudio_osm({ 'osm_save_directory' => Dir.pwd,\\n                            'osm_name' => 'in.osm' })\\n\""
      ]
     },
     "execution_count": 228,
     "metadata": {},
     "output_type": "execute_result"
    }
   ],
   "source": []
  },
  {
   "cell_type": "code",
   "execution_count": 169,
   "id": "1ba93f38",
   "metadata": {},
   "outputs": [],
   "source": [
    "# code = \"dehumidify_sch = OpenStudio::Model::ScheduleConstant.new(model)\"\n",
    "# source = RuboCop::AST::ProcessedSource.new(code, 2.7)"
   ]
  },
  {
   "cell_type": "code",
   "execution_count": 291,
   "id": "80d2dece",
   "metadata": {},
   "outputs": [
    {
     "data": {
      "text/plain": [
       "s(:send,\n",
       "  s(:const, nil, :BaselineModel), :new)"
      ]
     },
     "execution_count": 291,
     "metadata": {},
     "output_type": "execute_result"
    }
   ],
   "source": [
    "node = source.ast.each_node.to_a[6]\n",
    "node"
   ]
  },
  {
   "cell_type": "code",
   "execution_count": 294,
   "id": "0df65365",
   "metadata": {},
   "outputs": [
    {
     "data": {
      "text/plain": [
       "s(:const, nil, :Dir)"
      ]
     },
     "execution_count": 294,
     "metadata": {},
     "output_type": "execute_result"
    }
   ],
   "source": [
    "source.ast.each_node.to_a[68]"
   ]
  },
  {
   "cell_type": "code",
   "execution_count": null,
   "id": "8c74a981",
   "metadata": {},
   "outputs": [],
   "source": []
  },
  {
   "cell_type": "code",
   "execution_count": null,
   "id": "cf0d9e8f",
   "metadata": {},
   "outputs": [],
   "source": []
  },
  {
   "cell_type": "code",
   "execution_count": null,
   "id": "232ae128",
   "metadata": {},
   "outputs": [],
   "source": []
  },
  {
   "cell_type": "code",
   "execution_count": null,
   "id": "2f60778b",
   "metadata": {},
   "outputs": [],
   "source": []
  },
  {
   "cell_type": "code",
   "execution_count": null,
   "id": "5a94e51d",
   "metadata": {},
   "outputs": [],
   "source": []
  },
  {
   "cell_type": "code",
   "execution_count": 297,
   "id": "0a2b521e",
   "metadata": {},
   "outputs": [
    {
     "data": {
      "text/plain": [
       "[\"add_geometry\", \"add_windows\", \"set_constructions\", \"add_daylighting\", \"add_hvac\", \"set_space_types\", \"add_thermostats\", \"add_design_days\", \"force_year_description\", \"save_openstudio_osm\", \"add_standards\", \"add_schedule\", \"add_water_heater\", \"add_swh_loop\", \"add_swh_end_uses\", \"rename_loop_nodes\", \"rename_air_nodes\"]"
      ]
     },
     "execution_count": 297,
     "metadata": {},
     "output_type": "execute_result"
    }
   ],
   "source": [
    "$LIB_METHOD_NAMES = ['add_geometry',\n",
    " 'add_windows',\n",
    " 'set_constructions',\n",
    " 'add_daylighting',\n",
    " 'add_hvac',\n",
    " 'set_space_types',\n",
    " 'add_thermostats',\n",
    " 'add_design_days',\n",
    " 'force_year_description',\n",
    " 'save_openstudio_osm',\n",
    " 'add_standards',\n",
    " 'add_schedule',\n",
    " 'add_water_heater',\n",
    " 'add_swh_loop',\n",
    " 'add_swh_end_uses',\n",
    " 'rename_loop_nodes',\n",
    " 'rename_air_nodes'\n",
    "]"
   ]
  },
  {
   "cell_type": "code",
   "execution_count": 330,
   "id": "858e4f57",
   "metadata": {},
   "outputs": [
    {
     "data": {
      "text/plain": [
       "s(:send,\n",
       "  s(:lvar, :model), :add_windows,\n",
       "  s(:hash,\n",
       "    s(:pair,\n",
       "      s(:str, \"wwr\"),\n",
       "      s(:float, 0.4)),\n",
       "    s(:pair,\n",
       "      s(:str, \"offset\"),\n",
       "      s(:int, 1)),\n",
       "    s(:pair,\n",
       "      s(:str, \"application_type\"),\n",
       "      s(:str, \"Above Floor\"))))"
      ]
     },
     "execution_count": 330,
     "metadata": {},
     "output_type": "execute_result"
    }
   ],
   "source": []
  },
  {
   "cell_type": "code",
   "execution_count": 301,
   "id": "7ff8c301",
   "metadata": {},
   "outputs": [
    {
     "data": {
      "text/plain": [
       "true"
      ]
     },
     "execution_count": 301,
     "metadata": {},
     "output_type": "execute_result"
    }
   ],
   "source": [
    "node.send_type?"
   ]
  },
  {
   "cell_type": "code",
   "execution_count": 302,
   "id": "b2467abe",
   "metadata": {},
   "outputs": [
    {
     "data": {
      "text/plain": [
       ":add_geometry"
      ]
     },
     "execution_count": 302,
     "metadata": {},
     "output_type": "execute_result"
    }
   ],
   "source": [
    "node.method_name"
   ]
  },
  {
   "cell_type": "code",
   "execution_count": 307,
   "id": "e664f315",
   "metadata": {},
   "outputs": [
    {
     "data": {
      "text/plain": [
       "\"add_geometry\""
      ]
     },
     "execution_count": 307,
     "metadata": {},
     "output_type": "execute_result"
    }
   ],
   "source": [
    "source_code[node.loc.selector.begin_pos...node.loc.selector.end_pos]"
   ]
  },
  {
   "cell_type": "code",
   "execution_count": 308,
   "id": "a0d8d862",
   "metadata": {},
   "outputs": [
    {
     "data": {
      "text/plain": [
       "\"# frozen_string_literal: true\\n\\nrequire 'openstudio'\\nrequire_relative 'lib/baseline_model'\\n\\nmodel = BaselineModel.new\\n\\n# make a 2 story, 100m X 50m, 10 zone core/perimeter building\\nmodel.add_geometry({ 'length' => 100,\\n                     'width' => 50,\\n                     'num_floors' => 2,\\n                     'floor_to_floor_height' => 4,\\n                     'plenum_height' => 1,\\n                     'perimeter_zone_depth' => 3 })\\n\\n# add windows at a 40% window-to-wall ratio\\nmodel.add_windows({ 'wwr' => 0.4,\\n                    'offset' => 1,\\n                    'application_type' => 'Above Floor' })\\n\\n# add ASHRAE System type 01, PTAC, Residential\\nmodel.add_hvac({ 'ashrae_sys_num' => '01' })\\n\\n# add thermostats\\nmodel.add_thermostats({ 'heating_setpoint' => 24,\\n                        'cooling_setpoint' => 28 })\\n\\n# assign constructions from a local library to the walls/windows/etc. in the model\\nmodel.set_constructions\\n\\n# set whole building space type; simplified 90.1-2004 Large Office Whole Building\\nmodel.set_space_type\\n\\n# add design days to the model (Chicago)\\nmodel.add_design_days\\n\\n# save the OpenStudio model (.osm)\\nmodel.save_openstudio_osm({ 'osm_save_directory' => Dir.pwd,\\n                            'osm_name' => 'in.osm' })\\n\""
      ]
     },
     "execution_count": 308,
     "metadata": {},
     "output_type": "execute_result"
    }
   ],
   "source": [
    "source_code"
   ]
  },
  {
   "cell_type": "code",
   "execution_count": 309,
   "id": "8f9d33a6",
   "metadata": {},
   "outputs": [
    {
     "data": {
      "text/plain": [
       "s(:send,\n",
       "  s(:lvar, :model), :add_geometry,\n",
       "  s(:hash,\n",
       "    s(:pair,\n",
       "      s(:str, \"length\"),\n",
       "      s(:int, 100)),\n",
       "    s(:pair,\n",
       "      s(:str, \"width\"),\n",
       "      s(:int, 50)),\n",
       "    s(:pair,\n",
       "      s(:str, \"num_floors\"),\n",
       "      s(:int, 2)),\n",
       "    s(:pair,\n",
       "      s(:str, \"floor_to_floor_height\"),\n",
       "      s(:int, 4)),\n",
       "    s(:pair,\n",
       "      s(:str, \"plenum_height\"),\n",
       "      s(:int, 1)),\n",
       "    s(:pair,\n",
       "      s(:str, \"perimeter_zone_depth\"),\n",
       "      s(:int, 3))))"
      ]
     },
     "execution_count": 309,
     "metadata": {},
     "output_type": "execute_result"
    }
   ],
   "source": [
    "node = source.ast.each_node.to_a[8]\n",
    "node"
   ]
  },
  {
   "cell_type": "code",
   "execution_count": 310,
   "id": "cfcdfe98",
   "metadata": {},
   "outputs": [
    {
     "data": {
      "text/plain": [
       ":add_geometry"
      ]
     },
     "execution_count": 310,
     "metadata": {},
     "output_type": "execute_result"
    }
   ],
   "source": [
    "node.method_name"
   ]
  },
  {
   "cell_type": "code",
   "execution_count": 331,
   "id": "c5e35249",
   "metadata": {},
   "outputs": [
    {
     "data": {
      "text/plain": [
       "s(:send,\n",
       "  s(:lvar, :model), :add_windows,\n",
       "  s(:hash,\n",
       "    s(:pair,\n",
       "      s(:str, \"wwr\"),\n",
       "      s(:float, 0.4)),\n",
       "    s(:pair,\n",
       "      s(:str, \"offset\"),\n",
       "      s(:int, 1)),\n",
       "    s(:pair,\n",
       "      s(:str, \"application_type\"),\n",
       "      s(:str, \"Above Floor\"))))"
      ]
     },
     "execution_count": 331,
     "metadata": {},
     "output_type": "execute_result"
    }
   ],
   "source": [
    "node = source.ast.each_node.select { |node|\n",
    "  next if !node.send_type?\n",
    "  next if ! $LIB_METHOD_NAMES.include?(node.method_name.to_s)\n",
    "  node\n",
    "}[1]"
   ]
  },
  {
   "cell_type": "code",
   "execution_count": 332,
   "id": "c23d1a70",
   "metadata": {},
   "outputs": [
    {
     "data": {
      "text/plain": [
       "s(:hash,\n",
       "  s(:pair,\n",
       "    s(:str, \"wwr\"),\n",
       "    s(:float, 0.4)),\n",
       "  s(:pair,\n",
       "    s(:str, \"offset\"),\n",
       "    s(:int, 1)),\n",
       "  s(:pair,\n",
       "    s(:str, \"application_type\"),\n",
       "    s(:str, \"Above Floor\")))"
      ]
     },
     "execution_count": 332,
     "metadata": {},
     "output_type": "execute_result"
    }
   ],
   "source": [
    "hash_node = node.arguments[0]\n",
    "hash_node"
   ]
  },
  {
   "cell_type": "code",
   "execution_count": 355,
   "id": "b5f11ba6",
   "metadata": {},
   "outputs": [
    {
     "name": "stdout",
     "output_type": "stream",
     "text": [
      "wwr=0.4, offset=1, application_type='Above Floor'\n"
     ]
    }
   ],
   "source": [
    "args = []\n",
    "hash_node.child_nodes.each do |pair_node|\n",
    "  raise if !pair_node.pair_type?\n",
    "  raise if pair_node.child_nodes.size != 2\n",
    "  raise if !pair_node.child_nodes[0].str_type?\n",
    "  args << \"#{pair_node.child_nodes[0].value}=#{pair_node.child_nodes[1].loc.expression.source}\"\n",
    "end\n",
    "puts args.join(', ')"
   ]
  },
  {
   "cell_type": "code",
   "execution_count": 335,
   "id": "4f43fc02",
   "metadata": {},
   "outputs": [
    {
     "data": {
      "text/plain": [
       "s(:pair,\n",
       "  s(:str, \"wwr\"),\n",
       "  s(:float, 0.4))"
      ]
     },
     "execution_count": 335,
     "metadata": {},
     "output_type": "execute_result"
    }
   ],
   "source": [
    "pair_node = hash_node.child_nodes[0]\n",
    "pair_node"
   ]
  },
  {
   "cell_type": "code",
   "execution_count": 336,
   "id": "ca2e0859",
   "metadata": {},
   "outputs": [
    {
     "data": {
      "text/plain": [
       "2"
      ]
     },
     "execution_count": 336,
     "metadata": {},
     "output_type": "execute_result"
    }
   ],
   "source": [
    "pair_node.child_nodes.size"
   ]
  },
  {
   "cell_type": "code",
   "execution_count": 350,
   "id": "ecbf3bb4",
   "metadata": {},
   "outputs": [
    {
     "data": {
      "text/plain": [
       "s(:str, \"wwr\")"
      ]
     },
     "execution_count": 350,
     "metadata": {},
     "output_type": "execute_result"
    }
   ],
   "source": [
    "str_node = pair_node.child_nodes[0]"
   ]
  },
  {
   "cell_type": "code",
   "execution_count": 353,
   "id": "fb2da940",
   "metadata": {},
   "outputs": [
    {
     "data": {
      "text/plain": [
       "\"wwr\""
      ]
     },
     "execution_count": 353,
     "metadata": {},
     "output_type": "execute_result"
    }
   ],
   "source": [
    "str_node.value"
   ]
  },
  {
   "cell_type": "code",
   "execution_count": 345,
   "id": "961f7f53",
   "metadata": {},
   "outputs": [
    {
     "data": {
      "text/plain": [
       "\"'wwr'=0.4\""
      ]
     },
     "execution_count": 345,
     "metadata": {},
     "output_type": "execute_result"
    }
   ],
   "source": [
    "\"#{pair_node.child_nodes[0].loc.expression.source}=#{pair_node.child_nodes[1].loc.expression.source}\""
   ]
  },
  {
   "cell_type": "code",
   "execution_count": null,
   "id": "357f6b5d",
   "metadata": {},
   "outputs": [],
   "source": []
  },
  {
   "cell_type": "code",
   "execution_count": null,
   "id": "e760da8d",
   "metadata": {},
   "outputs": [],
   "source": []
  },
  {
   "cell_type": "code",
   "execution_count": 315,
   "id": "3f961c6c",
   "metadata": {},
   "outputs": [
    {
     "data": {
      "text/plain": [
       "\"length\""
      ]
     },
     "execution_count": 315,
     "metadata": {},
     "output_type": "execute_result"
    }
   ],
   "source": [
    "child_node.child_nodes[0].value"
   ]
  },
  {
   "cell_type": "code",
   "execution_count": 316,
   "id": "81bf0da8",
   "metadata": {},
   "outputs": [
    {
     "data": {
      "text/plain": [
       "100"
      ]
     },
     "execution_count": 316,
     "metadata": {},
     "output_type": "execute_result"
    }
   ],
   "source": [
    "child_node.child_nodes[1].value"
   ]
  },
  {
   "cell_type": "code",
   "execution_count": 319,
   "id": "fa79a121",
   "metadata": {},
   "outputs": [
    {
     "data": {
      "text/plain": [
       "s(:str, \"length\")"
      ]
     },
     "execution_count": 319,
     "metadata": {},
     "output_type": "execute_result"
    }
   ],
   "source": [
    "str_node = child_node.child_nodes[0]\n",
    "str_node"
   ]
  },
  {
   "cell_type": "code",
   "execution_count": null,
   "id": "bc370ce1",
   "metadata": {},
   "outputs": [],
   "source": []
  },
  {
   "cell_type": "code",
   "execution_count": null,
   "id": "e2b906c3",
   "metadata": {},
   "outputs": [],
   "source": []
  },
  {
   "cell_type": "code",
   "execution_count": null,
   "id": "ac94d394",
   "metadata": {},
   "outputs": [],
   "source": []
  },
  {
   "cell_type": "code",
   "execution_count": 275,
   "id": "903acff9",
   "metadata": {},
   "outputs": [
    {
     "data": {
      "text/plain": [
       "\"{ 'length' : 100,\\n                     'width' : 50,\\n                     'num_floors' : 2,\\n                     'floor_to_floor_height' : 4,\\n                     'plenum_height' : 1,\\n                     'perimeter_zone_depth' : 3 }\""
      ]
     },
     "execution_count": 275,
     "metadata": {},
     "output_type": "execute_result"
    }
   ],
   "source": [
    "node.loc.expression.source.gsub('=>',':')"
   ]
  },
  {
   "cell_type": "code",
   "execution_count": 265,
   "id": "5f973874",
   "metadata": {},
   "outputs": [
    {
     "name": "stdout",
     "output_type": "stream",
     "text": [
      "{ 'length' => 100,\n",
      "                     'width' => 50,\n",
      "                     'num_floors' => 2,\n",
      "                     'floor_to_floor_height' => 4,\n",
      "                     'plenum_height' => 1,\n",
      "                     'perimeter_zone_depth' => 3 }"
     ]
    }
   ],
   "source": [
    "print(source_code[node.loc.expression.begin_pos...node.loc.expression.end_pos])\n",
    "node.loc.expression.source.gsub('=>',':')"
   ]
  },
  {
   "cell_type": "code",
   "execution_count": 263,
   "id": "ff52138d",
   "metadata": {},
   "outputs": [
    {
     "data": {
      "text/plain": [
       "199"
      ]
     },
     "execution_count": 263,
     "metadata": {},
     "output_type": "execute_result"
    }
   ],
   "source": [
    "node.loc.expression.begin_pos"
   ]
  },
  {
   "cell_type": "code",
   "execution_count": 213,
   "id": "28fd0896",
   "metadata": {},
   "outputs": [
    {
     "data": {
      "text/plain": [
       "s(:if,\n",
       "  s(:send,\n",
       "    s(:lvar, :zones), :nil?),\n",
       "  s(:send, nil, :puts,\n",
       "    s(:str, \"hello\")), nil)"
      ]
     },
     "execution_count": 213,
     "metadata": {},
     "output_type": "execute_result"
    }
   ],
   "source": [
    "node = source.ast.each_node.to_a[24]\n",
    "node"
   ]
  },
  {
   "cell_type": "code",
   "execution_count": 214,
   "id": "e38edbf5",
   "metadata": {},
   "outputs": [
    {
     "data": {
      "text/plain": [
       "true"
      ]
     },
     "execution_count": 214,
     "metadata": {},
     "output_type": "execute_result"
    }
   ],
   "source": [
    "node.if?"
   ]
  },
  {
   "cell_type": "code",
   "execution_count": 217,
   "id": "e0bd9c9f",
   "metadata": {},
   "outputs": [
    {
     "data": {
      "text/plain": [
       "s(:send,\n",
       "  s(:lvar, :zones), :nil?)"
      ]
     },
     "execution_count": 217,
     "metadata": {},
     "output_type": "execute_result"
    }
   ],
   "source": [
    "n = node.child_nodes[0]\n",
    "n"
   ]
  },
  {
   "cell_type": "code",
   "execution_count": 218,
   "id": "07dd8d62",
   "metadata": {},
   "outputs": [
    {
     "data": {
      "text/plain": [
       ":nil?"
      ]
     },
     "execution_count": 218,
     "metadata": {},
     "output_type": "execute_result"
    }
   ],
   "source": [
    "n.method_name"
   ]
  },
  {
   "cell_type": "code",
   "execution_count": null,
   "id": "807d6679",
   "metadata": {},
   "outputs": [],
   "source": []
  },
  {
   "cell_type": "code",
   "execution_count": 157,
   "id": "c37f6a20",
   "metadata": {},
   "outputs": [
    {
     "data": {
      "text/plain": [
       "\"new\""
      ]
     },
     "execution_count": 157,
     "metadata": {},
     "output_type": "execute_result"
    }
   ],
   "source": [
    "source_code[113...116]"
   ]
  },
  {
   "cell_type": "code",
   "execution_count": 179,
   "id": "335831e8",
   "metadata": {},
   "outputs": [
    {
     "name": "stdout",
     "output_type": "stream",
     "text": [
      "model = BaselineModel.new()\n"
     ]
    },
    {
     "data": {
      "text/plain": [
       "true"
      ]
     },
     "execution_count": 179,
     "metadata": {},
     "output_type": "execute_result"
    }
   ],
   "source": [
    "s = node.loc.expression.source_line\n",
    "puts s\n",
    "s.end_with?'()'"
   ]
  },
  {
   "cell_type": "code",
   "execution_count": 180,
   "id": "8f2cc295",
   "metadata": {},
   "outputs": [
    {
     "data": {
      "text/plain": [
       "\".new()\""
      ]
     },
     "execution_count": 180,
     "metadata": {},
     "output_type": "execute_result"
    }
   ],
   "source": [
    "source_code[node.loc.dot.begin_pos...node.loc.expression.end_pos]"
   ]
  },
  {
   "cell_type": "code",
   "execution_count": 175,
   "id": "5b5db22e",
   "metadata": {},
   "outputs": [
    {
     "data": {
      "text/plain": [
       "#<Parser::Source::Range model/simulationtests/humidity_control.rb 144...144>"
      ]
     },
     "execution_count": 175,
     "metadata": {},
     "output_type": "execute_result"
    }
   ],
   "source": [
    "node.loc.expression.end"
   ]
  },
  {
   "cell_type": "code",
   "execution_count": 133,
   "id": "b8ffb406",
   "metadata": {},
   "outputs": [
    {
     "data": {
      "text/plain": [
       "s(:send,\n",
       "  s(:lvar, :model), :add_geometry,\n",
       "  s(:hash,\n",
       "    s(:pair,\n",
       "      s(:str, \"length\"),\n",
       "      s(:int, 100)),\n",
       "    s(:pair,\n",
       "      s(:str, \"width\"),\n",
       "      s(:int, 50)),\n",
       "    s(:pair,\n",
       "      s(:str, \"num_floors\"),\n",
       "      s(:int, 2)),\n",
       "    s(:pair,\n",
       "      s(:str, \"floor_to_floor_height\"),\n",
       "      s(:int, 4)),\n",
       "    s(:pair,\n",
       "      s(:str, \"plenum_height\"),\n",
       "      s(:int, 1)),\n",
       "    s(:pair,\n",
       "      s(:str, \"perimeter_zone_depth\"),\n",
       "      s(:int, 3))))"
      ]
     },
     "execution_count": 133,
     "metadata": {},
     "output_type": "execute_result"
    }
   ],
   "source": [
    "source.ast.each_node.to_a[8]"
   ]
  },
  {
   "cell_type": "code",
   "execution_count": 154,
   "id": "d74fc612",
   "metadata": {},
   "outputs": [
    {
     "data": {
      "text/plain": [
       "#<Parser::Source::Map::Send:0x000056031c399840 @dot=#<Parser::Source::Range model/simulationtests/humidity_control.rb 112...113>, @selector=#<Parser::Source::Range model/simulationtests/humidity_control.rb 113...116>, @end=#<Parser::Source::Range model/simulationtests/humidity_control.rb 117...118>, @begin=#<Parser::Source::Range model/simulationtests/humidity_control.rb 116...117>, @expression=#<Parser::Source::Range model/simulationtests/humidity_control.rb 99...118>, @node=s(:send,\n",
       "  s(:const, nil, :BaselineModel), :new)>"
      ]
     },
     "execution_count": 154,
     "metadata": {},
     "output_type": "execute_result"
    }
   ],
   "source": [
    "node.loc"
   ]
  },
  {
   "cell_type": "code",
   "execution_count": 155,
   "id": "eb29a7c9",
   "metadata": {},
   "outputs": [
    {
     "data": {
      "text/plain": [
       "true"
      ]
     },
     "execution_count": 155,
     "metadata": {},
     "output_type": "execute_result"
    }
   ],
   "source": [
    "node.loc.expression.source_line.end_with?'()'"
   ]
  },
  {
   "cell_type": "code",
   "execution_count": null,
   "id": "d25766c2",
   "metadata": {},
   "outputs": [],
   "source": []
  },
  {
   "cell_type": "code",
   "execution_count": 102,
   "id": "0d583324",
   "metadata": {},
   "outputs": [
    {
     "data": {
      "text/plain": [
       "true"
      ]
     },
     "execution_count": 102,
     "metadata": {},
     "output_type": "execute_result"
    }
   ],
   "source": [
    "node.arguments.empty?"
   ]
  },
  {
   "cell_type": "code",
   "execution_count": 57,
   "id": "50daab94",
   "metadata": {},
   "outputs": [
    {
     "data": {
      "text/plain": [
       "17"
      ]
     },
     "execution_count": 57,
     "metadata": {},
     "output_type": "execute_result"
    }
   ],
   "source": [
    "\"BaselineModel.new\".size"
   ]
  },
  {
   "cell_type": "code",
   "execution_count": 104,
   "id": "6674ecde",
   "metadata": {},
   "outputs": [
    {
     "data": {
      "text/plain": [
       "s(:const, nil, :BaselineModel)"
      ]
     },
     "execution_count": 104,
     "metadata": {},
     "output_type": "execute_result"
    }
   ],
   "source": [
    "node.receiver"
   ]
  },
  {
   "cell_type": "code",
   "execution_count": 62,
   "id": "27e7ff0c",
   "metadata": {},
   "outputs": [
    {
     "data": {
      "text/plain": [
       "\"new\""
      ]
     },
     "execution_count": 62,
     "metadata": {},
     "output_type": "execute_result"
    }
   ],
   "source": [
    "source_code[113...116]"
   ]
  },
  {
   "cell_type": "code",
   "execution_count": 83,
   "id": "c00fa480",
   "metadata": {},
   "outputs": [
    {
     "data": {
      "text/plain": [
       "[s(:const, nil, :BaselineModel)]"
      ]
     },
     "execution_count": 83,
     "metadata": {},
     "output_type": "execute_result"
    }
   ],
   "source": [
    "node.child_nodes"
   ]
  },
  {
   "cell_type": "code",
   "execution_count": 71,
   "id": "e24e89f8",
   "metadata": {},
   "outputs": [
    {
     "data": {
      "text/plain": [
       "116"
      ]
     },
     "execution_count": 71,
     "metadata": {},
     "output_type": "execute_result"
    }
   ],
   "source": []
  },
  {
   "cell_type": "code",
   "execution_count": 75,
   "id": "6058d984",
   "metadata": {},
   "outputs": [
    {
     "data": {
      "text/plain": [
       "s(:lvasgn, :dehumidify_sch,\n",
       "  s(:send,\n",
       "    s(:const,\n",
       "      s(:const,\n",
       "        s(:const, nil, :OpenStudio), :Model), :ScheduleConstant), :new,\n",
       "    s(:lvar, :model)))"
      ]
     },
     "execution_count": 75,
     "metadata": {},
     "output_type": "execute_result"
    }
   ],
   "source": [
    "node = source.ast.each_node.to_a[76]\n",
    "node"
   ]
  },
  {
   "cell_type": "code",
   "execution_count": 184,
   "id": "f4b1b46a",
   "metadata": {},
   "outputs": [
    {
     "data": {
      "text/plain": [
       "s(:lvar, :zones)"
      ]
     },
     "execution_count": 184,
     "metadata": {},
     "output_type": "execute_result"
    }
   ],
   "source": [
    "node = source.ast.each_node.to_a[77]\n",
    "node"
   ]
  },
  {
   "cell_type": "code",
   "execution_count": 188,
   "id": "d31e513d",
   "metadata": {},
   "outputs": [
    {
     "data": {
      "text/plain": [
       "s(:send,\n",
       "  s(:send,\n",
       "    s(:lvar, :zone), :airLoopHVAC), :get)"
      ]
     },
     "execution_count": 188,
     "metadata": {},
     "output_type": "execute_result"
    }
   ],
   "source": [
    "node = source.ast.each_node.to_a[98]"
   ]
  },
  {
   "cell_type": "code",
   "execution_count": 190,
   "id": "02eb6e51",
   "metadata": {},
   "outputs": [
    {
     "name": "stdout",
     "output_type": "stream",
     "text": [
      "  air_system = zone.airLoopHVAC.get\n"
     ]
    },
    {
     "data": {
      "text/plain": [
       "false"
      ]
     },
     "execution_count": 190,
     "metadata": {},
     "output_type": "execute_result"
    }
   ],
   "source": [
    "s = node.loc.expression.source_line\n",
    "puts s\n",
    "s.end_with?'()'"
   ]
  },
  {
   "cell_type": "code",
   "execution_count": null,
   "id": "b8f470bf",
   "metadata": {},
   "outputs": [],
   "source": []
  },
  {
   "cell_type": "code",
   "execution_count": null,
   "id": "e3b14895",
   "metadata": {},
   "outputs": [],
   "source": []
  },
  {
   "cell_type": "code",
   "execution_count": 92,
   "id": "6aa6ff23",
   "metadata": {},
   "outputs": [
    {
     "data": {
      "text/plain": [
       "[s(:lvar, :model)]"
      ]
     },
     "execution_count": 92,
     "metadata": {},
     "output_type": "execute_result"
    }
   ],
   "source": [
    "node.arguments"
   ]
  },
  {
   "cell_type": "code",
   "execution_count": 78,
   "id": "f86f84ab",
   "metadata": {},
   "outputs": [
    {
     "data": {
      "text/plain": [
       ":new"
      ]
     },
     "execution_count": 78,
     "metadata": {},
     "output_type": "execute_result"
    }
   ],
   "source": [
    "node.method_name"
   ]
  },
  {
   "cell_type": "code",
   "execution_count": 80,
   "id": "edffdec2",
   "metadata": {},
   "outputs": [
    {
     "data": {
      "text/plain": [
       "1"
      ]
     },
     "execution_count": 80,
     "metadata": {},
     "output_type": "execute_result"
    }
   ],
   "source": [
    "node.sibling_index"
   ]
  },
  {
   "cell_type": "code",
   "execution_count": 79,
   "id": "9e6e99e9",
   "metadata": {},
   "outputs": [
    {
     "data": {
      "text/plain": [
       "s(:const,\n",
       "  s(:const,\n",
       "    s(:const, nil, :OpenStudio), :Model), :ScheduleConstant)"
      ]
     },
     "execution_count": 79,
     "metadata": {},
     "output_type": "execute_result"
    }
   ],
   "source": [
    "x = node.receiver\n",
    "x"
   ]
  },
  {
   "cell_type": "code",
   "execution_count": 108,
   "id": "52c4566a",
   "metadata": {},
   "outputs": [
    {
     "data": {
      "text/plain": [
       "true"
      ]
     },
     "execution_count": 108,
     "metadata": {},
     "output_type": "execute_result"
    }
   ],
   "source": [
    "x.const_type?"
   ]
  },
  {
   "cell_type": "code",
   "execution_count": 109,
   "id": "7899a68a",
   "metadata": {},
   "outputs": [
    {
     "data": {
      "text/plain": [
       "true"
      ]
     },
     "execution_count": 109,
     "metadata": {},
     "output_type": "execute_result"
    }
   ],
   "source": [
    "x.module_name?"
   ]
  },
  {
   "cell_type": "code",
   "execution_count": 111,
   "id": "7c555e9b",
   "metadata": {},
   "outputs": [
    {
     "data": {
      "text/plain": [
       "true"
      ]
     },
     "execution_count": 111,
     "metadata": {},
     "output_type": "execute_result"
    }
   ],
   "source": [
    "x.class_name?"
   ]
  },
  {
   "cell_type": "code",
   "execution_count": 114,
   "id": "6d7aa9dd",
   "metadata": {},
   "outputs": [
    {
     "data": {
      "text/plain": [
       "s(:const,\n",
       "  s(:const,\n",
       "    s(:const, nil, :OpenStudio), :Model), :ScheduleConstant)"
      ]
     },
     "execution_count": 114,
     "metadata": {},
     "output_type": "execute_result"
    }
   ],
   "source": [
    "x"
   ]
  },
  {
   "cell_type": "code",
   "execution_count": null,
   "id": "6a77f00a",
   "metadata": {},
   "outputs": [],
   "source": []
  },
  {
   "cell_type": "code",
   "execution_count": null,
   "id": "b8cc1781",
   "metadata": {},
   "outputs": [],
   "source": []
  },
  {
   "cell_type": "code",
   "execution_count": null,
   "id": "28892c0b",
   "metadata": {},
   "outputs": [],
   "source": []
  },
  {
   "cell_type": "code",
   "execution_count": 29,
   "id": "f8b81ac9",
   "metadata": {},
   "outputs": [
    {
     "data": {
      "text/plain": [
       "true"
      ]
     },
     "execution_count": 29,
     "metadata": {},
     "output_type": "execute_result"
    }
   ],
   "source": [
    "x.const_type?"
   ]
  },
  {
   "cell_type": "code",
   "execution_count": 36,
   "id": "2c525283",
   "metadata": {},
   "outputs": [
    {
     "data": {
      "text/plain": [
       "s(:const, nil, :OpenStudio)"
      ]
     },
     "execution_count": 36,
     "metadata": {},
     "output_type": "execute_result"
    }
   ],
   "source": [
    "x.children[0].children[0]"
   ]
  },
  {
   "cell_type": "code",
   "execution_count": 41,
   "id": "c19a4ea0",
   "metadata": {},
   "outputs": [
    {
     "data": {
      "text/plain": [
       "s(:const,\n",
       "  s(:const, nil, :OpenStudio), :Model)"
      ]
     },
     "execution_count": 41,
     "metadata": {},
     "output_type": "execute_result"
    }
   ],
   "source": [
    "x.children[0]"
   ]
  },
  {
   "cell_type": "code",
   "execution_count": null,
   "id": "601f778d",
   "metadata": {},
   "outputs": [],
   "source": []
  },
  {
   "cell_type": "code",
   "execution_count": null,
   "id": "064daef5",
   "metadata": {},
   "outputs": [],
   "source": []
  },
  {
   "cell_type": "code",
   "execution_count": null,
   "id": "95aabe6d",
   "metadata": {},
   "outputs": [],
   "source": [
    "node.child_nodes"
   ]
  },
  {
   "cell_type": "code",
   "execution_count": null,
   "id": "4626f14f",
   "metadata": {},
   "outputs": [],
   "source": [
    "x.const_name"
   ]
  },
  {
   "cell_type": "code",
   "execution_count": null,
   "id": "96fca80c",
   "metadata": {},
   "outputs": [],
   "source": []
  },
  {
   "cell_type": "code",
   "execution_count": null,
   "id": "b928205e",
   "metadata": {},
   "outputs": [],
   "source": [
    "receiver_node, method_name, *arg_nodes = *node"
   ]
  },
  {
   "cell_type": "code",
   "execution_count": null,
   "id": "34470756",
   "metadata": {},
   "outputs": [],
   "source": [
    "node.method_name"
   ]
  },
  {
   "cell_type": "code",
   "execution_count": null,
   "id": "d50f70ee",
   "metadata": {},
   "outputs": [],
   "source": [
    "node.child_nodes"
   ]
  },
  {
   "cell_type": "code",
   "execution_count": null,
   "id": "21bc7cc5",
   "metadata": {},
   "outputs": [],
   "source": [
    "req = arg_nodes[0]"
   ]
  },
  {
   "cell_type": "code",
   "execution_count": null,
   "id": "cbe42a39",
   "metadata": {},
   "outputs": [],
   "source": [
    "req.str_type?"
   ]
  },
  {
   "cell_type": "code",
   "execution_count": null,
   "id": "9ed36a0d",
   "metadata": {},
   "outputs": [],
   "source": [
    "req.value ."
   ]
  },
  {
   "cell_type": "code",
   "execution_count": null,
   "id": "72bdabda",
   "metadata": {},
   "outputs": [],
   "source": [
    "node.loc.selector"
   ]
  },
  {
   "cell_type": "code",
   "execution_count": null,
   "id": "ce5d365f",
   "metadata": {},
   "outputs": [],
   "source": [
    "\"require 'openstudio'\".size"
   ]
  },
  {
   "cell_type": "code",
   "execution_count": null,
   "id": "40166b6d",
   "metadata": {},
   "outputs": [],
   "source": [
    "\"require\".size"
   ]
  },
  {
   "cell_type": "code",
   "execution_count": null,
   "id": "eef064ce",
   "metadata": {},
   "outputs": [],
   "source": [
    "node.loc.selector"
   ]
  },
  {
   "cell_type": "code",
   "execution_count": null,
   "id": "3088d34a",
   "metadata": {},
   "outputs": [],
   "source": [
    "node.loc.expression.begin_pos"
   ]
  },
  {
   "cell_type": "code",
   "execution_count": null,
   "id": "cf789948",
   "metadata": {},
   "outputs": [],
   "source": [
    "node.loc.expression.end_pos"
   ]
  },
  {
   "cell_type": "code",
   "execution_count": null,
   "id": "bef2dd44",
   "metadata": {},
   "outputs": [],
   "source": [
    "node.loc"
   ]
  },
  {
   "cell_type": "code",
   "execution_count": null,
   "id": "bfad6668",
   "metadata": {},
   "outputs": [],
   "source": []
  }
 ],
 "metadata": {
  "kernelspec": {
   "display_name": "Ruby 2.7.2",
   "language": "ruby",
   "name": "ruby"
  },
  "language_info": {
   "file_extension": ".rb",
   "mimetype": "application/x-ruby",
   "name": "ruby",
   "version": "2.7.2"
  },
  "toc": {
   "base_numbering": 1,
   "nav_menu": {},
   "number_sections": true,
   "sideBar": true,
   "skip_h1_title": false,
   "title_cell": "Table of Contents",
   "title_sidebar": "Contents",
   "toc_cell": false,
   "toc_position": {},
   "toc_section_display": true,
   "toc_window_display": false
  }
 },
 "nbformat": 4,
 "nbformat_minor": 5
}
